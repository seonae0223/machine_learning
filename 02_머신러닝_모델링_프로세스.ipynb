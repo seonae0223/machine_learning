{
  "cells": [
    {
      "cell_type": "markdown",
      "metadata": {
        "id": "view-in-github",
        "colab_type": "text"
      },
      "source": [
        "<a href=\"https://colab.research.google.com/github/seonae0223/machine_learning/blob/main/02_%EB%A8%B8%EC%8B%A0%EB%9F%AC%EB%8B%9D_%EB%AA%A8%EB%8D%B8%EB%A7%81_%ED%94%84%EB%A1%9C%EC%84%B8%EC%8A%A4.ipynb\" target=\"_parent\"><img src=\"https://colab.research.google.com/assets/colab-badge.svg\" alt=\"Open In Colab\"/></a>"
      ]
    },
    {
      "cell_type": "code",
      "execution_count": null,
      "id": "8e96fd83-978d-403e-b3f9-42e0ae96ae8b",
      "metadata": {
        "id": "8e96fd83-978d-403e-b3f9-42e0ae96ae8b",
        "outputId": "6ba26fd2-ccf1-408c-9a66-fd3a493e8fd4"
      },
      "outputs": [
        {
          "name": "stdout",
          "output_type": "stream",
          "text": [
            "feature shape : (150, 4)\n",
            "target shape :(150,)\n"
          ]
        }
      ],
      "source": [
        "from sklearn.datasets import load_iris\n",
        "\n",
        "iris = load_iris()\n",
        "\n",
        "iris_feature = iris.data\n",
        "iris_target  = iris.target\n",
        "\n",
        "# 데이터를 불러 왔으면 반드시 shape을 확인\n",
        "print(\"feature shape : {}\".format(iris_feature.shape))\n",
        "print(\"target shape :{}\".format(iris_target.shape))"
      ]
    },
    {
      "cell_type": "code",
      "execution_count": null,
      "id": "0f96b2d1-8345-426d-947a-88ef0ac3d5cd",
      "metadata": {
        "id": "0f96b2d1-8345-426d-947a-88ef0ac3d5cd",
        "outputId": "a29cd825-9a49-4aba-ce8d-fc5172ce2763"
      },
      "outputs": [
        {
          "data": {
            "text/html": [
              "<div>\n",
              "<style scoped>\n",
              "    .dataframe tbody tr th:only-of-type {\n",
              "        vertical-align: middle;\n",
              "    }\n",
              "\n",
              "    .dataframe tbody tr th {\n",
              "        vertical-align: top;\n",
              "    }\n",
              "\n",
              "    .dataframe thead th {\n",
              "        text-align: right;\n",
              "    }\n",
              "</style>\n",
              "<table border=\"1\" class=\"dataframe\">\n",
              "  <thead>\n",
              "    <tr style=\"text-align: right;\">\n",
              "      <th></th>\n",
              "      <th>sepal length (cm)</th>\n",
              "      <th>sepal width (cm)</th>\n",
              "      <th>petal length (cm)</th>\n",
              "      <th>petal width (cm)</th>\n",
              "      <th>target</th>\n",
              "    </tr>\n",
              "  </thead>\n",
              "  <tbody>\n",
              "    <tr>\n",
              "      <th>0</th>\n",
              "      <td>5.1</td>\n",
              "      <td>3.5</td>\n",
              "      <td>1.4</td>\n",
              "      <td>0.2</td>\n",
              "      <td>0</td>\n",
              "    </tr>\n",
              "    <tr>\n",
              "      <th>1</th>\n",
              "      <td>4.9</td>\n",
              "      <td>3.0</td>\n",
              "      <td>1.4</td>\n",
              "      <td>0.2</td>\n",
              "      <td>0</td>\n",
              "    </tr>\n",
              "    <tr>\n",
              "      <th>2</th>\n",
              "      <td>4.7</td>\n",
              "      <td>3.2</td>\n",
              "      <td>1.3</td>\n",
              "      <td>0.2</td>\n",
              "      <td>0</td>\n",
              "    </tr>\n",
              "    <tr>\n",
              "      <th>3</th>\n",
              "      <td>4.6</td>\n",
              "      <td>3.1</td>\n",
              "      <td>1.5</td>\n",
              "      <td>0.2</td>\n",
              "      <td>0</td>\n",
              "    </tr>\n",
              "    <tr>\n",
              "      <th>4</th>\n",
              "      <td>5.0</td>\n",
              "      <td>3.6</td>\n",
              "      <td>1.4</td>\n",
              "      <td>0.2</td>\n",
              "      <td>0</td>\n",
              "    </tr>\n",
              "  </tbody>\n",
              "</table>\n",
              "</div>"
            ],
            "text/plain": [
              "   sepal length (cm)  sepal width (cm)  petal length (cm)  petal width (cm)  \\\n",
              "0                5.1               3.5                1.4               0.2   \n",
              "1                4.9               3.0                1.4               0.2   \n",
              "2                4.7               3.2                1.3               0.2   \n",
              "3                4.6               3.1                1.5               0.2   \n",
              "4                5.0               3.6                1.4               0.2   \n",
              "\n",
              "   target  \n",
              "0       0  \n",
              "1       0  \n",
              "2       0  \n",
              "3       0  \n",
              "4       0  "
            ]
          },
          "execution_count": 4,
          "metadata": {},
          "output_type": "execute_result"
        }
      ],
      "source": [
        "import pandas as pd\n",
        "\n",
        "feature_names = iris.feature_names\n",
        "\n",
        "iris_df = pd.DataFrame(\n",
        "    data=iris_feature,\n",
        "    columns=feature_names\n",
        ")\n",
        "\n",
        "iris_df['target'] = iris_target\n",
        "iris_df.head()"
      ]
    },
    {
      "cell_type": "code",
      "execution_count": null,
      "id": "977452cd-00dd-4070-aa51-6e5705e8f49e",
      "metadata": {
        "id": "977452cd-00dd-4070-aa51-6e5705e8f49e"
      },
      "outputs": [],
      "source": [
        "# target명 보고 setosa인지, verginica인지 등등 맞추는 건 분류문제\n",
        "# 분류문제 가장먼저 1. 타겟의 개수 (비율 확인 위해)\n",
        "# 레이블의 비율이 내가 기대한 것과 다르게 되면, 데이터 조정 등이 필요할 수도\n",
        "\n",
        "# 회귀에서는 분포가 매우 중요함(skewedness 등 확인)"
      ]
    },
    {
      "cell_type": "code",
      "execution_count": null,
      "id": "d3452417-a4e8-40c8-8411-6721787bd2b7",
      "metadata": {
        "id": "d3452417-a4e8-40c8-8411-6721787bd2b7",
        "outputId": "b59d4df4-091e-4110-de8f-0cd23dd3eb3b"
      },
      "outputs": [
        {
          "data": {
            "text/plain": [
              "target\n",
              "0    50\n",
              "1    50\n",
              "2    50\n",
              "Name: count, dtype: int64"
            ]
          },
          "execution_count": 7,
          "metadata": {},
          "output_type": "execute_result"
        }
      ],
      "source": [
        "#target 개수 확인\n",
        "iris_df['target'].value_counts()"
      ]
    },
    {
      "cell_type": "code",
      "execution_count": null,
      "id": "4979505d-9cad-42f1-b7e1-023208ca7c23",
      "metadata": {
        "id": "4979505d-9cad-42f1-b7e1-023208ca7c23"
      },
      "outputs": [],
      "source": [
        "# 2. train, test, split (학습 데이터/테스트 데이터 분리)"
      ]
    },
    {
      "cell_type": "code",
      "execution_count": null,
      "id": "f52d7723-b47f-47a8-9365-6a9bac077836",
      "metadata": {
        "id": "f52d7723-b47f-47a8-9365-6a9bac077836",
        "outputId": "2dc7ea0a-231a-4671-bdb7-cb9705edd978"
      },
      "outputs": [
        {
          "name": "stdout",
          "output_type": "stream",
          "text": [
            "훈련 데이터의 shape : (120, 4)\n",
            "테스트 데이터의 shape : (30, 4)\n"
          ]
        }
      ],
      "source": [
        "from sklearn.model_selection import train_test_split\n",
        "\n",
        "X_train, X_test, y_train, y_test = train_test_split(\n",
        "    iris_df.drop(\"target\", axis=1), #target을 drop해야 feature만 볼 수 있음 # axis : 행렬 x 방향 o, # feature 매트릭스\n",
        "    iris_df['target'], # target : 벡터\n",
        "    test_size=0.2, # 테스트 세트의 비율, 보통은 0.2~0.3, # test를 20%로 했으므로 x_train 비율은 80%\n",
        "    random_state=11 # 랜덤 시드 고정값\n",
        ")\n",
        "\n",
        "print(\"훈련 데이터의 shape : {}\".format(X_train.shape)) #150개 데이터 중 train 80%니까 120개\n",
        "print(\"테스트 데이터의 shape : {}\".format(X_test.shape)) # 150개 데이터 중 test 20%니까 30개"
      ]
    },
    {
      "cell_type": "code",
      "execution_count": null,
      "id": "4833d785-6b45-48e8-a4e9-a3bf7ea3038a",
      "metadata": {
        "id": "4833d785-6b45-48e8-a4e9-a3bf7ea3038a",
        "outputId": "2b9dce29-b803-4a1d-cb46-78746e9a30b0"
      },
      "outputs": [
        {
          "data": {
            "text/html": [
              "<style>#sk-container-id-3 {color: black;}#sk-container-id-3 pre{padding: 0;}#sk-container-id-3 div.sk-toggleable {background-color: white;}#sk-container-id-3 label.sk-toggleable__label {cursor: pointer;display: block;width: 100%;margin-bottom: 0;padding: 0.3em;box-sizing: border-box;text-align: center;}#sk-container-id-3 label.sk-toggleable__label-arrow:before {content: \"▸\";float: left;margin-right: 0.25em;color: #696969;}#sk-container-id-3 label.sk-toggleable__label-arrow:hover:before {color: black;}#sk-container-id-3 div.sk-estimator:hover label.sk-toggleable__label-arrow:before {color: black;}#sk-container-id-3 div.sk-toggleable__content {max-height: 0;max-width: 0;overflow: hidden;text-align: left;background-color: #f0f8ff;}#sk-container-id-3 div.sk-toggleable__content pre {margin: 0.2em;color: black;border-radius: 0.25em;background-color: #f0f8ff;}#sk-container-id-3 input.sk-toggleable__control:checked~div.sk-toggleable__content {max-height: 200px;max-width: 100%;overflow: auto;}#sk-container-id-3 input.sk-toggleable__control:checked~label.sk-toggleable__label-arrow:before {content: \"▾\";}#sk-container-id-3 div.sk-estimator input.sk-toggleable__control:checked~label.sk-toggleable__label {background-color: #d4ebff;}#sk-container-id-3 div.sk-label input.sk-toggleable__control:checked~label.sk-toggleable__label {background-color: #d4ebff;}#sk-container-id-3 input.sk-hidden--visually {border: 0;clip: rect(1px 1px 1px 1px);clip: rect(1px, 1px, 1px, 1px);height: 1px;margin: -1px;overflow: hidden;padding: 0;position: absolute;width: 1px;}#sk-container-id-3 div.sk-estimator {font-family: monospace;background-color: #f0f8ff;border: 1px dotted black;border-radius: 0.25em;box-sizing: border-box;margin-bottom: 0.5em;}#sk-container-id-3 div.sk-estimator:hover {background-color: #d4ebff;}#sk-container-id-3 div.sk-parallel-item::after {content: \"\";width: 100%;border-bottom: 1px solid gray;flex-grow: 1;}#sk-container-id-3 div.sk-label:hover label.sk-toggleable__label {background-color: #d4ebff;}#sk-container-id-3 div.sk-serial::before {content: \"\";position: absolute;border-left: 1px solid gray;box-sizing: border-box;top: 0;bottom: 0;left: 50%;z-index: 0;}#sk-container-id-3 div.sk-serial {display: flex;flex-direction: column;align-items: center;background-color: white;padding-right: 0.2em;padding-left: 0.2em;position: relative;}#sk-container-id-3 div.sk-item {position: relative;z-index: 1;}#sk-container-id-3 div.sk-parallel {display: flex;align-items: stretch;justify-content: center;background-color: white;position: relative;}#sk-container-id-3 div.sk-item::before, #sk-container-id-3 div.sk-parallel-item::before {content: \"\";position: absolute;border-left: 1px solid gray;box-sizing: border-box;top: 0;bottom: 0;left: 50%;z-index: -1;}#sk-container-id-3 div.sk-parallel-item {display: flex;flex-direction: column;z-index: 1;position: relative;background-color: white;}#sk-container-id-3 div.sk-parallel-item:first-child::after {align-self: flex-end;width: 50%;}#sk-container-id-3 div.sk-parallel-item:last-child::after {align-self: flex-start;width: 50%;}#sk-container-id-3 div.sk-parallel-item:only-child::after {width: 0;}#sk-container-id-3 div.sk-dashed-wrapped {border: 1px dashed gray;margin: 0 0.4em 0.5em 0.4em;box-sizing: border-box;padding-bottom: 0.4em;background-color: white;}#sk-container-id-3 div.sk-label label {font-family: monospace;font-weight: bold;display: inline-block;line-height: 1.2em;}#sk-container-id-3 div.sk-label-container {text-align: center;}#sk-container-id-3 div.sk-container {/* jupyter's `normalize.less` sets `[hidden] { display: none; }` but bootstrap.min.css set `[hidden] { display: none !important; }` so we also need the `!important` here to be able to override the default hidden behavior on the sphinx rendered scikit-learn.org. See: https://github.com/scikit-learn/scikit-learn/issues/21755 */display: inline-block !important;position: relative;}#sk-container-id-3 div.sk-text-repr-fallback {display: none;}</style><div id=\"sk-container-id-3\" class=\"sk-top-container\"><div class=\"sk-text-repr-fallback\"><pre>DecisionTreeClassifier()</pre><b>In a Jupyter environment, please rerun this cell to show the HTML representation or trust the notebook. <br />On GitHub, the HTML representation is unable to render, please try loading this page with nbviewer.org.</b></div><div class=\"sk-container\" hidden><div class=\"sk-item\"><div class=\"sk-estimator sk-toggleable\"><input class=\"sk-toggleable__control sk-hidden--visually\" id=\"sk-estimator-id-3\" type=\"checkbox\" checked><label for=\"sk-estimator-id-3\" class=\"sk-toggleable__label sk-toggleable__label-arrow\">DecisionTreeClassifier</label><div class=\"sk-toggleable__content\"><pre>DecisionTreeClassifier()</pre></div></div></div></div></div>"
            ],
            "text/plain": [
              "DecisionTreeClassifier()"
            ]
          },
          "execution_count": 17,
          "metadata": {},
          "output_type": "execute_result"
        }
      ],
      "source": [
        "# 의사 결정 나무 분류기 사용\n",
        "from sklearn.tree import DecisionTreeClassifier\n",
        "\n",
        "# 모델 객체 생성 - 모델의 각종 옵션(하이퍼 파라미터)을 설정한다.\n",
        "df_clf = DecisionTreeClassifier()\n",
        "\n",
        "#모델 훈련 - 훈련이 다 끝나면, 학습된 모델이 return된다.\n",
        "df_clf.fit(X_train, y_train)"
      ]
    },
    {
      "cell_type": "code",
      "execution_count": null,
      "id": "151576d8-fbf8-49f0-a16f-d5a164b26600",
      "metadata": {
        "id": "151576d8-fbf8-49f0-a16f-d5a164b26600"
      },
      "outputs": [],
      "source": [
        "# 테스트 데이터 예측"
      ]
    },
    {
      "cell_type": "code",
      "execution_count": null,
      "id": "cdc89046-72c5-467a-baeb-e0177bbd4fb1",
      "metadata": {
        "scrolled": true,
        "id": "cdc89046-72c5-467a-baeb-e0177bbd4fb1",
        "outputId": "77305634-e489-4eba-ed94-beba7ec06966"
      },
      "outputs": [
        {
          "name": "stdout",
          "output_type": "stream",
          "text": [
            "테스트 세트의 예측 결과 : [2 2 1 2 2 0 1 0 0 1 1 1 1 2 2 0 2 1 2 2 1 0 0 1 0 0 2 1 0 2]\n"
          ]
        }
      ],
      "source": [
        "pred = df_clf.predict(X_test) # 예측할 때는 feature만 넣어주기. 테스트 데이터의 차원 = 훈련 데이터의 차원 항상 동일해야 함\n",
        "\n",
        "print(\"테스트 세트의 예측 결과 : {}\".format(pred)) #x_test의 개수 30개니까 예측 결과도 30개."
      ]
    },
    {
      "cell_type": "markdown",
      "id": "7f09e255-fe09-46b6-b7b7-b563f99602b3",
      "metadata": {
        "id": "7f09e255-fe09-46b6-b7b7-b563f99602b3"
      },
      "source": [
        "# 평가\n",
        "- 예측 정확도 (Accuracy) 평가"
      ]
    },
    {
      "cell_type": "code",
      "execution_count": null,
      "id": "522e2367-e9a6-4848-9703-922b2fb458e3",
      "metadata": {
        "id": "522e2367-e9a6-4848-9703-922b2fb458e3",
        "outputId": "8f036d79-4dfd-4877-8409-7a51f8bab0d0"
      },
      "outputs": [
        {
          "name": "stdout",
          "output_type": "stream",
          "text": [
            "예측 정확도 : 0.8667\n"
          ]
        }
      ],
      "source": [
        "from sklearn.metrics import accuracy_score\n",
        "\n",
        "acc_result = accuracy_score(y_test, pred)\n",
        "print(\"예측 정확도 : {:.4f}\".format(acc_result))"
      ]
    }
  ],
  "metadata": {
    "kernelspec": {
      "display_name": "Python 3 (ipykernel)",
      "language": "python",
      "name": "python3"
    },
    "language_info": {
      "codemirror_mode": {
        "name": "ipython",
        "version": 3
      },
      "file_extension": ".py",
      "mimetype": "text/x-python",
      "name": "python",
      "nbconvert_exporter": "python",
      "pygments_lexer": "ipython3",
      "version": "3.8.19"
    },
    "colab": {
      "provenance": [],
      "include_colab_link": true
    }
  },
  "nbformat": 4,
  "nbformat_minor": 5
}