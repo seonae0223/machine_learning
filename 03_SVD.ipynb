{
  "nbformat": 4,
  "nbformat_minor": 0,
  "metadata": {
    "colab": {
      "provenance": [],
      "authorship_tag": "ABX9TyNJYKy9ubPYhl9EiWHQsLUx",
      "include_colab_link": true
    },
    "kernelspec": {
      "name": "python3",
      "display_name": "Python 3"
    },
    "language_info": {
      "name": "python"
    }
  },
  "cells": [
    {
      "cell_type": "markdown",
      "metadata": {
        "id": "view-in-github",
        "colab_type": "text"
      },
      "source": [
        "<a href=\"https://colab.research.google.com/github/seonae0223/machine_learning/blob/main/03_SVD.ipynb\" target=\"_parent\"><img src=\"https://colab.research.google.com/assets/colab-badge.svg\" alt=\"Open In Colab\"/></a>"
      ]
    },
    {
      "cell_type": "code",
      "execution_count": null,
      "metadata": {
        "colab": {
          "base_uri": "https://localhost:8080/"
        },
        "id": "g3qStnpySUXt",
        "outputId": "5792199d-5964-4619-b1f6-d6f836eaa247"
      },
      "outputs": [
        {
          "output_type": "execute_result",
          "data": {
            "text/plain": [
              "array([[-0.21203317, -0.28492917, -0.57389821, -0.44031017],\n",
              "       [-0.33011056,  1.18369457,  1.61537293,  0.36706247],\n",
              "       [-0.01411931,  0.6296418 ,  1.70964074, -1.32698736],\n",
              "       [ 0.40187312, -0.19142667,  1.40382596, -1.96876855]])"
            ]
          },
          "metadata": {},
          "execution_count": 6
        }
      ],
      "source": [
        "import numpy as np\n",
        "\n",
        "np.random.seed(121)\n",
        "a = np.random.randn(4, 4)\n",
        "a"
      ]
    },
    {
      "cell_type": "code",
      "source": [
        "U, Sigma, VT = np.linalg.svd(a)\n",
        "\n",
        "print(\"U : {}\".format(U))\n",
        "print()\n",
        "print(\"Sigma : {}\".format(Sigma))\n",
        "print()\n",
        "print(\"U : {}\".format(U))\n",
        "print()"
      ],
      "metadata": {
        "colab": {
          "base_uri": "https://localhost:8080/"
        },
        "id": "jw2PMrRRSdNb",
        "outputId": "8294f074-f773-4b08-e89f-e5687896d484"
      },
      "execution_count": null,
      "outputs": [
        {
          "output_type": "stream",
          "name": "stdout",
          "text": [
            "U : [[-0.07913928 -0.31822729  0.86653217  0.37628494]\n",
            " [ 0.38294523  0.78655287  0.12002097  0.46934262]\n",
            " [ 0.65640669  0.02243181  0.35668848 -0.66437971]\n",
            " [ 0.64515128 -0.52873697 -0.32785711  0.44353889]]\n",
            "\n",
            "Sigma : [3.4229581  2.02287339 0.46263157 0.07935069]\n",
            "\n",
            "U : [[-0.07913928 -0.31822729  0.86653217  0.37628494]\n",
            " [ 0.38294523  0.78655287  0.12002097  0.46934262]\n",
            " [ 0.65640669  0.02243181  0.35668848 -0.66437971]\n",
            " [ 0.64515128 -0.52873697 -0.32785711  0.44353889]]\n",
            "\n"
          ]
        }
      ]
    },
    {
      "cell_type": "code",
      "source": [
        "# 특잇값 Sigma를 대각행렬로 변환\n",
        "\n",
        "Sigma_mat = np.diag(Sigma)\n",
        "Sigma_mat\n",
        "\n",
        "'''\n",
        "첫 번째, 두 번째 값이 아주 크고 나머지는 작아짐.\n",
        "array([[3.4229581 , 0.        , 0.        , 0.        ],\n",
        "       [0.        , 2.02287339, 0.        , 0.        ],\n",
        "       [0.        , 0.        , 0.46263157, 0.        ],\n",
        "       [0.        , 0.        , 0.        , 0.07935069]])\n",
        "'''"
      ],
      "metadata": {
        "colab": {
          "base_uri": "https://localhost:8080/"
        },
        "id": "HGvjM1bZS-jD",
        "outputId": "939422bf-a2b0-4904-88c1-176aafed9073"
      },
      "execution_count": null,
      "outputs": [
        {
          "output_type": "execute_result",
          "data": {
            "text/plain": [
              "array([[3.4229581 , 0.        , 0.        , 0.        ],\n",
              "       [0.        , 2.02287339, 0.        , 0.        ],\n",
              "       [0.        , 0.        , 0.46263157, 0.        ],\n",
              "       [0.        , 0.        , 0.        , 0.07935069]])"
            ]
          },
          "metadata": {},
          "execution_count": 8
        }
      ]
    },
    {
      "cell_type": "code",
      "source": [
        "print(\"원본 행렬 A : \\n{}\".format(a))"
      ],
      "metadata": {
        "colab": {
          "base_uri": "https://localhost:8080/"
        },
        "id": "S8NUZm3iTXuE",
        "outputId": "847a4b1b-a9c0-4ca2-de6b-9c887cf24e0f"
      },
      "execution_count": null,
      "outputs": [
        {
          "output_type": "stream",
          "name": "stdout",
          "text": [
            "원본 행렬 A : \n",
            "[[-0.21203317 -0.28492917 -0.57389821 -0.44031017]\n",
            " [-0.33011056  1.18369457  1.61537293  0.36706247]\n",
            " [-0.01411931  0.6296418   1.70964074 -1.32698736]\n",
            " [ 0.40187312 -0.19142667  1.40382596 -1.96876855]]\n"
          ]
        }
      ]
    },
    {
      "cell_type": "code",
      "source": [
        "# U, Sigmamat, VT를 이용해서 다시 조립\n",
        "a_ = U @ Sigma_mat @ VT # U와 Sigmamat을 내적 -> Sigmamat과 VT를 내적\n",
        "a_"
      ],
      "metadata": {
        "colab": {
          "base_uri": "https://localhost:8080/"
        },
        "id": "N4zQ6fU6T-Je",
        "outputId": "58a5dfb4-f658-491e-d7fc-ba3e40db3a57"
      },
      "execution_count": null,
      "outputs": [
        {
          "output_type": "execute_result",
          "data": {
            "text/plain": [
              "array([[-0.21203317, -0.28492917, -0.57389821, -0.44031017],\n",
              "       [-0.33011056,  1.18369457,  1.61537293,  0.36706247],\n",
              "       [-0.01411931,  0.6296418 ,  1.70964074, -1.32698736],\n",
              "       [ 0.40187312, -0.19142667,  1.40382596, -1.96876855]])"
            ]
          },
          "metadata": {},
          "execution_count": 10
        }
      ]
    },
    {
      "cell_type": "code",
      "source": [
        "# Truncated Sigma_mat : 원본 데이터를 보다 많이 반영 할 수 있는 상위 2개의 특잇값만 추출\n",
        "Sigma_truncated = np.diag(Sigma[:2])\n",
        "Sigma_truncated"
      ],
      "metadata": {
        "colab": {
          "base_uri": "https://localhost:8080/"
        },
        "id": "uwnJjv-WUN_d",
        "outputId": "e3a5e748-e4ee-4d33-94db-bd2fcf050c56"
      },
      "execution_count": null,
      "outputs": [
        {
          "output_type": "execute_result",
          "data": {
            "text/plain": [
              "array([[3.4229581 , 0.        ],\n",
              "       [0.        , 2.02287339]])"
            ]
          },
          "metadata": {},
          "execution_count": 11
        }
      ]
    },
    {
      "cell_type": "code",
      "source": [
        "U_truncated = U[:, :2]\n",
        "U_truncated"
      ],
      "metadata": {
        "colab": {
          "base_uri": "https://localhost:8080/"
        },
        "id": "Xq-WvWJ3U5ZJ",
        "outputId": "853d4e14-615a-4b21-be2a-5bfe5e0b6037"
      },
      "execution_count": null,
      "outputs": [
        {
          "output_type": "execute_result",
          "data": {
            "text/plain": [
              "array([[-0.07913928, -0.31822729],\n",
              "       [ 0.38294523,  0.78655287],\n",
              "       [ 0.65640669,  0.02243181],\n",
              "       [ 0.64515128, -0.52873697]])"
            ]
          },
          "metadata": {},
          "execution_count": 13
        }
      ]
    },
    {
      "cell_type": "code",
      "source": [
        "# 'ㅓ' 자 형태로 곱해짐\n",
        "VT_truncated = VT[:2]\n",
        "VT_truncated"
      ],
      "metadata": {
        "colab": {
          "base_uri": "https://localhost:8080/"
        },
        "id": "k4QfJvj1VYV8",
        "outputId": "b6c09414-909f-4b98-b9e0-1dc07e3db418"
      },
      "execution_count": null,
      "outputs": [
        {
          "output_type": "execute_result",
          "data": {
            "text/plain": [
              "array([[ 0.04100747,  0.22367823,  0.78643002, -0.57429458],\n",
              "       [-0.20019867,  0.56209596,  0.37041464,  0.71187191]])"
            ]
          },
          "metadata": {},
          "execution_count": 14
        }
      ]
    },
    {
      "cell_type": "code",
      "source": [
        "# 2개의 특잇값(잠재 변수)를 이용해서 조립\n",
        "a_truncated = U_truncated @ Sigma_truncated @ VT_truncated\n",
        "a_truncated"
      ],
      "metadata": {
        "colab": {
          "base_uri": "https://localhost:8080/"
        },
        "id": "PcN0H4kZVoiU",
        "outputId": "e83e7775-537f-4d10-f9fb-f721d5183b89"
      },
      "execution_count": null,
      "outputs": [
        {
          "output_type": "execute_result",
          "data": {
            "text/plain": [
              "array([[ 0.11776606, -0.4224323 , -0.45148469, -0.3026849 ],\n",
              "       [-0.26478267,  1.18754777,  1.62022235,  0.37986869],\n",
              "       [ 0.08305338,  0.52807808,  1.78380053, -1.25805288],\n",
              "       [ 0.30468393, -0.10724542,  1.34051007, -2.02962493]])"
            ]
          },
          "metadata": {},
          "execution_count": 15
        }
      ]
    },
    {
      "cell_type": "code",
      "source": [
        "a"
      ],
      "metadata": {
        "colab": {
          "base_uri": "https://localhost:8080/"
        },
        "id": "oC72VX_vaigf",
        "outputId": "2ea72b77-204e-4004-c5df-3a809431c93b"
      },
      "execution_count": null,
      "outputs": [
        {
          "output_type": "execute_result",
          "data": {
            "text/plain": [
              "array([[-0.21203317, -0.28492917, -0.57389821, -0.44031017],\n",
              "       [-0.33011056,  1.18369457,  1.61537293,  0.36706247],\n",
              "       [-0.01411931,  0.6296418 ,  1.70964074, -1.32698736],\n",
              "       [ 0.40187312, -0.19142667,  1.40382596, -1.96876855]])"
            ]
          },
          "metadata": {},
          "execution_count": 16
        }
      ]
    },
    {
      "cell_type": "code",
      "source": [
        "# 데이터가 선형 종속인 상태로 만들기\n",
        "a[2] = a[0] + a[1]\n",
        "a[3] = a[0]\n",
        "\n",
        "a"
      ],
      "metadata": {
        "colab": {
          "base_uri": "https://localhost:8080/"
        },
        "id": "oUPutZKdajNv",
        "outputId": "d21663a9-4a48-46ac-f711-bce5f204c473"
      },
      "execution_count": null,
      "outputs": [
        {
          "output_type": "execute_result",
          "data": {
            "text/plain": [
              "array([[-0.21203317, -0.28492917, -0.57389821, -0.44031017],\n",
              "       [-0.33011056,  1.18369457,  1.61537293,  0.36706247],\n",
              "       [-0.54214372,  0.8987654 ,  1.04147472, -0.0732477 ],\n",
              "       [-0.21203317, -0.28492917, -0.57389821, -0.44031017]])"
            ]
          },
          "metadata": {},
          "execution_count": 18
        }
      ]
    },
    {
      "cell_type": "code",
      "source": [
        "# 선형 종속이면 역행렬이 존재하지 않을 수도 있다.\n",
        "# 특잇값 중 하나라도 0이 있으면 역행렬이 존재하지 않는다.\n",
        "# det(A) = 0\n",
        "\n",
        "U,Sigma, VT = np.linalg.svd(a)\n",
        "Sigma\n",
        "\n",
        "# 출력 결과\n",
        "# array([2.66335286e+00, 8.07035060e-01, 1.82933987e-16, 4.23262754e-17])\n",
        "# 결과를 확인하면, 앞의 두 개의 특잇값을 제외한 나머지 특잇값은 모두 거의 0에 가까운 값이 된다.\n",
        "# 따라서 모든 종류를 다 쓰는 것 보다 2개의 종류를 쓰는 것만 의미 있다는 것을 알 수 있다.\n",
        "# 최종적으로 특잇값을 확인하여 차원 축소를 몇 차원까지 할 지 알 수 있게 된다.\n",
        "# 만약, 모든 특잇값을 쓸 수 있다는 것은 -> 차원 축소 없이 모두 데이터를 사용하라는 의미이다."
      ],
      "metadata": {
        "colab": {
          "base_uri": "https://localhost:8080/"
        },
        "id": "I3_R2BmMa5rS",
        "outputId": "79c47915-f1fd-410e-bd47-79b7c8974254"
      },
      "execution_count": null,
      "outputs": [
        {
          "output_type": "execute_result",
          "data": {
            "text/plain": [
              "array([2.66335286e+00, 8.07035060e-01, 1.82933987e-16, 4.23262754e-17])"
            ]
          },
          "metadata": {},
          "execution_count": 19
        }
      ]
    },
    {
      "cell_type": "markdown",
      "source": [
        "# 사이킷런의 TruncatedSVD"
      ],
      "metadata": {
        "id": "AIp5MUFacU_i"
      }
    },
    {
      "cell_type": "code",
      "source": [
        "from sklearn.decomposition import TruncatedSVD\n",
        "from sklearn.datasets import load_iris\n",
        "import matplotlib.pyplot as plt\n",
        "import seaborn as sns\n",
        "\n",
        "iris = load_iris()"
      ],
      "metadata": {
        "id": "JLIMNa1dbWaF"
      },
      "execution_count": null,
      "outputs": []
    },
    {
      "cell_type": "code",
      "source": [
        "tsvd = TruncatedSVD(n_components=2)\n",
        "tsvd.fit(iris.data)\n",
        "\n",
        "iris_tsvd = tsvd.transform(iris.data)\n",
        "iris_tsvd.shape"
      ],
      "metadata": {
        "colab": {
          "base_uri": "https://localhost:8080/"
        },
        "id": "qCMoBHTBdQcX",
        "outputId": "8d8d543d-4589-4ec2-f686-dac22830fff6"
      },
      "execution_count": null,
      "outputs": [
        {
          "output_type": "execute_result",
          "data": {
            "text/plain": [
              "(150, 2)"
            ]
          },
          "metadata": {},
          "execution_count": 23
        }
      ]
    },
    {
      "cell_type": "code",
      "source": [
        "import pandas as pd\n",
        "\n",
        "iris_tsvd_df = pd.DataFrame(\n",
        "    data=iris_tsvd,\n",
        "    columns=[\"component_1\", \"component_2\"]\n",
        ")\n",
        "\n",
        "iris_tsvd_df['target'] = iris.target\n",
        "iris_tsvd_df.head()"
      ],
      "metadata": {
        "colab": {
          "base_uri": "https://localhost:8080/",
          "height": 206
        },
        "id": "NaMmi0KmcsSo",
        "outputId": "10690b5a-5750-4f3c-c8a9-aff6e6275156"
      },
      "execution_count": null,
      "outputs": [
        {
          "output_type": "execute_result",
          "data": {
            "text/plain": [
              "   component_1  component_2  target\n",
              "0     5.912747     2.302033       0\n",
              "1     5.572482     1.971826       0\n",
              "2     5.446977     2.095206       0\n",
              "3     5.436459     1.870382       0\n",
              "4     5.875645     2.328290       0"
            ],
            "text/html": [
              "\n",
              "  <div id=\"df-cffa1adb-25a5-42b2-bc72-2ee26700fb50\" class=\"colab-df-container\">\n",
              "    <div>\n",
              "<style scoped>\n",
              "    .dataframe tbody tr th:only-of-type {\n",
              "        vertical-align: middle;\n",
              "    }\n",
              "\n",
              "    .dataframe tbody tr th {\n",
              "        vertical-align: top;\n",
              "    }\n",
              "\n",
              "    .dataframe thead th {\n",
              "        text-align: right;\n",
              "    }\n",
              "</style>\n",
              "<table border=\"1\" class=\"dataframe\">\n",
              "  <thead>\n",
              "    <tr style=\"text-align: right;\">\n",
              "      <th></th>\n",
              "      <th>component_1</th>\n",
              "      <th>component_2</th>\n",
              "      <th>target</th>\n",
              "    </tr>\n",
              "  </thead>\n",
              "  <tbody>\n",
              "    <tr>\n",
              "      <th>0</th>\n",
              "      <td>5.912747</td>\n",
              "      <td>2.302033</td>\n",
              "      <td>0</td>\n",
              "    </tr>\n",
              "    <tr>\n",
              "      <th>1</th>\n",
              "      <td>5.572482</td>\n",
              "      <td>1.971826</td>\n",
              "      <td>0</td>\n",
              "    </tr>\n",
              "    <tr>\n",
              "      <th>2</th>\n",
              "      <td>5.446977</td>\n",
              "      <td>2.095206</td>\n",
              "      <td>0</td>\n",
              "    </tr>\n",
              "    <tr>\n",
              "      <th>3</th>\n",
              "      <td>5.436459</td>\n",
              "      <td>1.870382</td>\n",
              "      <td>0</td>\n",
              "    </tr>\n",
              "    <tr>\n",
              "      <th>4</th>\n",
              "      <td>5.875645</td>\n",
              "      <td>2.328290</td>\n",
              "      <td>0</td>\n",
              "    </tr>\n",
              "  </tbody>\n",
              "</table>\n",
              "</div>\n",
              "    <div class=\"colab-df-buttons\">\n",
              "\n",
              "  <div class=\"colab-df-container\">\n",
              "    <button class=\"colab-df-convert\" onclick=\"convertToInteractive('df-cffa1adb-25a5-42b2-bc72-2ee26700fb50')\"\n",
              "            title=\"Convert this dataframe to an interactive table.\"\n",
              "            style=\"display:none;\">\n",
              "\n",
              "  <svg xmlns=\"http://www.w3.org/2000/svg\" height=\"24px\" viewBox=\"0 -960 960 960\">\n",
              "    <path d=\"M120-120v-720h720v720H120Zm60-500h600v-160H180v160Zm220 220h160v-160H400v160Zm0 220h160v-160H400v160ZM180-400h160v-160H180v160Zm440 0h160v-160H620v160ZM180-180h160v-160H180v160Zm440 0h160v-160H620v160Z\"/>\n",
              "  </svg>\n",
              "    </button>\n",
              "\n",
              "  <style>\n",
              "    .colab-df-container {\n",
              "      display:flex;\n",
              "      gap: 12px;\n",
              "    }\n",
              "\n",
              "    .colab-df-convert {\n",
              "      background-color: #E8F0FE;\n",
              "      border: none;\n",
              "      border-radius: 50%;\n",
              "      cursor: pointer;\n",
              "      display: none;\n",
              "      fill: #1967D2;\n",
              "      height: 32px;\n",
              "      padding: 0 0 0 0;\n",
              "      width: 32px;\n",
              "    }\n",
              "\n",
              "    .colab-df-convert:hover {\n",
              "      background-color: #E2EBFA;\n",
              "      box-shadow: 0px 1px 2px rgba(60, 64, 67, 0.3), 0px 1px 3px 1px rgba(60, 64, 67, 0.15);\n",
              "      fill: #174EA6;\n",
              "    }\n",
              "\n",
              "    .colab-df-buttons div {\n",
              "      margin-bottom: 4px;\n",
              "    }\n",
              "\n",
              "    [theme=dark] .colab-df-convert {\n",
              "      background-color: #3B4455;\n",
              "      fill: #D2E3FC;\n",
              "    }\n",
              "\n",
              "    [theme=dark] .colab-df-convert:hover {\n",
              "      background-color: #434B5C;\n",
              "      box-shadow: 0px 1px 3px 1px rgba(0, 0, 0, 0.15);\n",
              "      filter: drop-shadow(0px 1px 2px rgba(0, 0, 0, 0.3));\n",
              "      fill: #FFFFFF;\n",
              "    }\n",
              "  </style>\n",
              "\n",
              "    <script>\n",
              "      const buttonEl =\n",
              "        document.querySelector('#df-cffa1adb-25a5-42b2-bc72-2ee26700fb50 button.colab-df-convert');\n",
              "      buttonEl.style.display =\n",
              "        google.colab.kernel.accessAllowed ? 'block' : 'none';\n",
              "\n",
              "      async function convertToInteractive(key) {\n",
              "        const element = document.querySelector('#df-cffa1adb-25a5-42b2-bc72-2ee26700fb50');\n",
              "        const dataTable =\n",
              "          await google.colab.kernel.invokeFunction('convertToInteractive',\n",
              "                                                    [key], {});\n",
              "        if (!dataTable) return;\n",
              "\n",
              "        const docLinkHtml = 'Like what you see? Visit the ' +\n",
              "          '<a target=\"_blank\" href=https://colab.research.google.com/notebooks/data_table.ipynb>data table notebook</a>'\n",
              "          + ' to learn more about interactive tables.';\n",
              "        element.innerHTML = '';\n",
              "        dataTable['output_type'] = 'display_data';\n",
              "        await google.colab.output.renderOutput(dataTable, element);\n",
              "        const docLink = document.createElement('div');\n",
              "        docLink.innerHTML = docLinkHtml;\n",
              "        element.appendChild(docLink);\n",
              "      }\n",
              "    </script>\n",
              "  </div>\n",
              "\n",
              "\n",
              "<div id=\"df-5ac254c8-25db-4e5d-9bee-e9064bf4cd80\">\n",
              "  <button class=\"colab-df-quickchart\" onclick=\"quickchart('df-5ac254c8-25db-4e5d-9bee-e9064bf4cd80')\"\n",
              "            title=\"Suggest charts\"\n",
              "            style=\"display:none;\">\n",
              "\n",
              "<svg xmlns=\"http://www.w3.org/2000/svg\" height=\"24px\"viewBox=\"0 0 24 24\"\n",
              "     width=\"24px\">\n",
              "    <g>\n",
              "        <path d=\"M19 3H5c-1.1 0-2 .9-2 2v14c0 1.1.9 2 2 2h14c1.1 0 2-.9 2-2V5c0-1.1-.9-2-2-2zM9 17H7v-7h2v7zm4 0h-2V7h2v10zm4 0h-2v-4h2v4z\"/>\n",
              "    </g>\n",
              "</svg>\n",
              "  </button>\n",
              "\n",
              "<style>\n",
              "  .colab-df-quickchart {\n",
              "      --bg-color: #E8F0FE;\n",
              "      --fill-color: #1967D2;\n",
              "      --hover-bg-color: #E2EBFA;\n",
              "      --hover-fill-color: #174EA6;\n",
              "      --disabled-fill-color: #AAA;\n",
              "      --disabled-bg-color: #DDD;\n",
              "  }\n",
              "\n",
              "  [theme=dark] .colab-df-quickchart {\n",
              "      --bg-color: #3B4455;\n",
              "      --fill-color: #D2E3FC;\n",
              "      --hover-bg-color: #434B5C;\n",
              "      --hover-fill-color: #FFFFFF;\n",
              "      --disabled-bg-color: #3B4455;\n",
              "      --disabled-fill-color: #666;\n",
              "  }\n",
              "\n",
              "  .colab-df-quickchart {\n",
              "    background-color: var(--bg-color);\n",
              "    border: none;\n",
              "    border-radius: 50%;\n",
              "    cursor: pointer;\n",
              "    display: none;\n",
              "    fill: var(--fill-color);\n",
              "    height: 32px;\n",
              "    padding: 0;\n",
              "    width: 32px;\n",
              "  }\n",
              "\n",
              "  .colab-df-quickchart:hover {\n",
              "    background-color: var(--hover-bg-color);\n",
              "    box-shadow: 0 1px 2px rgba(60, 64, 67, 0.3), 0 1px 3px 1px rgba(60, 64, 67, 0.15);\n",
              "    fill: var(--button-hover-fill-color);\n",
              "  }\n",
              "\n",
              "  .colab-df-quickchart-complete:disabled,\n",
              "  .colab-df-quickchart-complete:disabled:hover {\n",
              "    background-color: var(--disabled-bg-color);\n",
              "    fill: var(--disabled-fill-color);\n",
              "    box-shadow: none;\n",
              "  }\n",
              "\n",
              "  .colab-df-spinner {\n",
              "    border: 2px solid var(--fill-color);\n",
              "    border-color: transparent;\n",
              "    border-bottom-color: var(--fill-color);\n",
              "    animation:\n",
              "      spin 1s steps(1) infinite;\n",
              "  }\n",
              "\n",
              "  @keyframes spin {\n",
              "    0% {\n",
              "      border-color: transparent;\n",
              "      border-bottom-color: var(--fill-color);\n",
              "      border-left-color: var(--fill-color);\n",
              "    }\n",
              "    20% {\n",
              "      border-color: transparent;\n",
              "      border-left-color: var(--fill-color);\n",
              "      border-top-color: var(--fill-color);\n",
              "    }\n",
              "    30% {\n",
              "      border-color: transparent;\n",
              "      border-left-color: var(--fill-color);\n",
              "      border-top-color: var(--fill-color);\n",
              "      border-right-color: var(--fill-color);\n",
              "    }\n",
              "    40% {\n",
              "      border-color: transparent;\n",
              "      border-right-color: var(--fill-color);\n",
              "      border-top-color: var(--fill-color);\n",
              "    }\n",
              "    60% {\n",
              "      border-color: transparent;\n",
              "      border-right-color: var(--fill-color);\n",
              "    }\n",
              "    80% {\n",
              "      border-color: transparent;\n",
              "      border-right-color: var(--fill-color);\n",
              "      border-bottom-color: var(--fill-color);\n",
              "    }\n",
              "    90% {\n",
              "      border-color: transparent;\n",
              "      border-bottom-color: var(--fill-color);\n",
              "    }\n",
              "  }\n",
              "</style>\n",
              "\n",
              "  <script>\n",
              "    async function quickchart(key) {\n",
              "      const quickchartButtonEl =\n",
              "        document.querySelector('#' + key + ' button');\n",
              "      quickchartButtonEl.disabled = true;  // To prevent multiple clicks.\n",
              "      quickchartButtonEl.classList.add('colab-df-spinner');\n",
              "      try {\n",
              "        const charts = await google.colab.kernel.invokeFunction(\n",
              "            'suggestCharts', [key], {});\n",
              "      } catch (error) {\n",
              "        console.error('Error during call to suggestCharts:', error);\n",
              "      }\n",
              "      quickchartButtonEl.classList.remove('colab-df-spinner');\n",
              "      quickchartButtonEl.classList.add('colab-df-quickchart-complete');\n",
              "    }\n",
              "    (() => {\n",
              "      let quickchartButtonEl =\n",
              "        document.querySelector('#df-5ac254c8-25db-4e5d-9bee-e9064bf4cd80 button');\n",
              "      quickchartButtonEl.style.display =\n",
              "        google.colab.kernel.accessAllowed ? 'block' : 'none';\n",
              "    })();\n",
              "  </script>\n",
              "</div>\n",
              "\n",
              "    </div>\n",
              "  </div>\n"
            ],
            "application/vnd.google.colaboratory.intrinsic+json": {
              "type": "dataframe",
              "variable_name": "iris_tsvd_df",
              "summary": "{\n  \"name\": \"iris_tsvd_df\",\n  \"rows\": 150,\n  \"fields\": [\n    {\n      \"column\": \"component_1\",\n      \"properties\": {\n        \"dtype\": \"number\",\n        \"std\": 1.5549815314622153,\n        \"min\": 4.951124113620782,\n        \"max\": 11.034416239455417,\n        \"num_unique_values\": 149,\n        \"samples\": [\n          8.258631753509519,\n          6.648131301359879,\n          11.034416239455417\n        ],\n        \"semantic_type\": \"\",\n        \"description\": \"\"\n      }\n    },\n    {\n      \"column\": \"component_2\",\n      \"properties\": {\n        \"dtype\": \"number\",\n        \"std\": 1.4320505955671892,\n        \"min\": -2.070545836917603,\n        \"max\": 2.9160608097079836,\n        \"num_unique_values\": 149,\n        \"samples\": [\n          -0.47877687090465865,\n          2.3895950610334498,\n          -1.2383524438325642\n        ],\n        \"semantic_type\": \"\",\n        \"description\": \"\"\n      }\n    },\n    {\n      \"column\": \"target\",\n      \"properties\": {\n        \"dtype\": \"number\",\n        \"std\": 0,\n        \"min\": 0,\n        \"max\": 2,\n        \"num_unique_values\": 3,\n        \"samples\": [\n          0,\n          1,\n          2\n        ],\n        \"semantic_type\": \"\",\n        \"description\": \"\"\n      }\n    }\n  ]\n}"
            }
          },
          "metadata": {},
          "execution_count": 24
        }
      ]
    },
    {
      "cell_type": "code",
      "source": [
        "sns.scatterplot(\n",
        "    x=\"component_1\",\n",
        "    y=\"component_2\",\n",
        "    hue='target',\n",
        "    palette='muted',\n",
        "    data=iris_tsvd_df\n",
        ")\n",
        "\n",
        "plt.show()"
      ],
      "metadata": {
        "colab": {
          "base_uri": "https://localhost:8080/",
          "height": 449
        },
        "id": "2UGjCJCDcjJT",
        "outputId": "49a7d04e-e719-4831-8ec2-0b90b9561865"
      },
      "execution_count": null,
      "outputs": [
        {
          "output_type": "display_data",
          "data": {
            "text/plain": [
              "<Figure size 640x480 with 1 Axes>"
            ],
            "image/png": "[encoded data removed]"
          },
          "metadata": {}
        }
      ]
    },
    {
      "cell_type": "code",
      "source": [
        "# Truncated SVD나, PCA나 어차피 같은 스케일로 맞춰지는 스케일링 이므로, 똑같아진다.\n",
        "\n",
        "from sklearn.preprocessing import StandardScaler\n",
        "from sklearn.decomposition import PCA\n",
        "\n",
        "# iris 데이터를 StandardScaler로 변환\n",
        "scaler = StandardScaler()\n",
        "iris_scaled = scaler.fit_transform(iris.data)\n",
        "\n",
        "# 스케일링된 데이터를 기반으로 TruncatedSVD 변환 수행\n",
        "tsvd = TruncatedSVD(n_components=2)\n",
        "tsvd.fit(iris_scaled)\n",
        "iris_tsvd = tsvd.transform(iris_scaled)\n",
        "\n",
        "# 스케일링된 데이터를 기반으로 PCA 변환 수행\n",
        "pca = PCA(n_components=2)\n",
        "pca.fit(iris_scaled)\n",
        "iris_pca = pca.transform(iris_scaled)\n",
        "\n",
        "# TruncatedSVD 변환 데이터를 왼쪽에, PCA변환 데이터를 오른쪽에 표현\n",
        "fig, (ax1, ax2) = plt.subplots(figsize=(9,4), ncols=2)\n",
        "ax1.scatter(x=iris_tsvd[:,0], y= iris_tsvd[:,1], c= iris.target)\n",
        "ax2.scatter(x=iris_pca[:,0], y= iris_pca[:,1], c= iris.target)\n",
        "ax1.set_title('Truncated SVD Transformed')\n",
        "ax2.set_title('PCA Transformed')"
      ],
      "metadata": {
        "colab": {
          "base_uri": "https://localhost:8080/",
          "height": 410
        },
        "id": "kzUapyOAdFgF",
        "outputId": "5f5a9abc-6caa-42f4-d506-8f9abaa66f55"
      },
      "execution_count": null,
      "outputs": [
        {
          "output_type": "execute_result",
          "data": {
            "text/plain": [
              "Text(0.5, 1.0, 'PCA Transformed')"
            ]
          },
          "metadata": {},
          "execution_count": 26
        },
        {
          "output_type": "display_data",
          "data": {
            "text/plain": [
              "<Figure size 900x400 with 2 Axes>"
            ],
            "image/png": "[encoded data removed]"
          },
          "metadata": {}
        }
      ]
    },
    {
      "cell_type": "code",
      "source": [],
      "metadata": {
        "id": "uNoG-zdAevYt"
      },
      "execution_count": null,
      "outputs": []
    }
  ]
}