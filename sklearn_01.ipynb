{
  "nbformat": 4,
  "nbformat_minor": 0,
  "metadata": {
    "colab": {
      "provenance": [],
      "authorship_tag": "ABX9TyNxul7mLD6bRqaRDhLaJk7m",
      "include_colab_link": true
    },
    "kernelspec": {
      "name": "python3",
      "display_name": "Python 3"
    },
    "language_info": {
      "name": "python"
    }
  },
  "cells": [
    {
      "cell_type": "markdown",
      "metadata": {
        "id": "view-in-github",
        "colab_type": "text"
      },
      "source": [
        "<a href=\"https://colab.research.google.com/github/seonae0223/machine_learning/blob/main/sklearn_01.ipynb\" target=\"_parent\"><img src=\"https://colab.research.google.com/assets/colab-badge.svg\" alt=\"Open In Colab\"/></a>"
      ]
    },
    {
      "cell_type": "code",
      "execution_count": null,
      "metadata": {
        "colab": {
          "base_uri": "https://localhost:8080/"
        },
        "id": "xlG8hDfx84Dq",
        "outputId": "57fe5018-ffdc-480c-8a11-a4806d71e881"
      },
      "outputs": [
        {
          "output_type": "stream",
          "name": "stdout",
          "text": [
            "[0 0 0 0 0 0 0 0 0 0 0 0 0 0 0 0 0 0 0 0 0 0 0 0 0 0 0 0 0 0 0 0 0 0 0 0 0\n",
            " 0 0 0 0 0 0 0 0 0 0 0 0 0 1 1 1 1 1 1 1 1 1 1 1 1 1 1 1 1 1 1 1 1 1 1 1 1\n",
            " 1 1 1 1 1 1 1 1 1 1 1 1 1 1 1 1 1 1 1 1 1 1 1 1 1 1 2 2 2 2 2 2 2 2 2 2 2\n",
            " 2 2 2 2 2 2 2 2 2 2 2 2 2 2 2 2 2 2 2 2 2 2 2 2 2 2 2 2 2 2 2 2 2 2 2 2 2\n",
            " 2 2]\n"
          ]
        }
      ],
      "source": [
        "from sklearn.datasets import load_iris\n",
        "\n",
        "iris = load_iris()\n",
        "\n",
        "X = iris.data\n",
        "y = iris.target\n",
        "\n",
        "print(y)"
      ]
    },
    {
      "cell_type": "markdown",
      "source": [
        "# 랜덤성을 부여하지 않고 잘래낸 경우\n",
        "- Shuffle 수행을 하지 않음"
      ],
      "metadata": {
        "id": "Kb6qRnas9d9n"
      }
    },
    {
      "cell_type": "code",
      "source": [
        "# 여기서 []는 X 데이터의 차원을 줄여주는 것이라고 볼 수 있음.\n",
        "# 0행의 0열번째 데이터를 출력한다는 의미\n",
        "X[0][0]\n",
        "\n",
        "# 위의 작성법이 번거로워 아래의 작성법으로 변경.\n",
        "# 왼쪽 0 : axis 0 -> X축 방향으로 합산\n",
        "# 오른쪽 0 : axis 1 -> Y축 방향으로 합산\n",
        "X[0, 0]"
      ],
      "metadata": {
        "colab": {
          "base_uri": "https://localhost:8080/"
        },
        "id": "RGMB9AnR-etj",
        "outputId": "ac0dc023-a8f6-43a0-999e-7c18ce8dc20e"
      },
      "execution_count": null,
      "outputs": [
        {
          "output_type": "execute_result",
          "data": {
            "text/plain": [
              "5.1"
            ]
          },
          "metadata": {},
          "execution_count": 2
        }
      ]
    },
    {
      "cell_type": "code",
      "source": [
        "test_size = 50\n",
        "X_test = X[ : test_size]\n",
        "y_test = y[ : test_size]\n",
        "print(y_test)"
      ],
      "metadata": {
        "colab": {
          "base_uri": "https://localhost:8080/"
        },
        "id": "yUa7WvAt85Zp",
        "outputId": "86c9b3fd-d8c2-45c3-b9a2-7e2ac01d1396"
      },
      "execution_count": null,
      "outputs": [
        {
          "output_type": "stream",
          "name": "stdout",
          "text": [
            "[0 0 0 0 0 0 0 0 0 0 0 0 0 0 0 0 0 0 0 0 0 0 0 0 0 0 0 0 0 0 0 0 0 0 0 0 0\n",
            " 0 0 0 0 0 0 0 0 0 0 0 0 0]\n"
          ]
        }
      ]
    },
    {
      "cell_type": "code",
      "source": [
        "X_train = X[test_size :]\n",
        "y_train = y[test_size :]\n",
        "print(y_train)"
      ],
      "metadata": {
        "colab": {
          "base_uri": "https://localhost:8080/"
        },
        "id": "ktiSg-Th_THQ",
        "outputId": "98448eea-7894-4d00-cc74-0d809a7983a9"
      },
      "execution_count": null,
      "outputs": [
        {
          "output_type": "stream",
          "name": "stdout",
          "text": [
            "[1 1 1 1 1 1 1 1 1 1 1 1 1 1 1 1 1 1 1 1 1 1 1 1 1 1 1 1 1 1 1 1 1 1 1 1 1\n",
            " 1 1 1 1 1 1 1 1 1 1 1 1 1 2 2 2 2 2 2 2 2 2 2 2 2 2 2 2 2 2 2 2 2 2 2 2 2\n",
            " 2 2 2 2 2 2 2 2 2 2 2 2 2 2 2 2 2 2 2 2 2 2 2 2 2 2]\n"
          ]
        }
      ]
    },
    {
      "cell_type": "code",
      "source": [
        "from sklearn.tree import DecisionTreeClassifier\n",
        "from sklearn.metrics import accuracy_score # 모델의 예측 성능을 평가하는 라이브러리\n",
        "# 모델 객체 dt_clf 생성\n",
        "dt_clf = DecisionTreeClassifier()\n",
        "\n",
        "dt_clf.fit(X_train, y_train)\n",
        "\n",
        "pred = dt_clf.predict(X_test)\n",
        "\n",
        "acc_result = accuracy_score(y_test, pred)\n",
        "\n",
        "print(\"예측 스코어 : {:.4f}\".format(acc_result))"
      ],
      "metadata": {
        "colab": {
          "base_uri": "https://localhost:8080/"
        },
        "id": "s_klllSq_cYV",
        "outputId": "3f420f12-5852-4c64-cb22-d18812d29a5e"
      },
      "execution_count": null,
      "outputs": [
        {
          "output_type": "stream",
          "name": "stdout",
          "text": [
            "예측 스코어 : 0.0000\n"
          ]
        }
      ]
    },
    {
      "cell_type": "markdown",
      "source": [
        "# train_test_split 활용하기"
      ],
      "metadata": {
        "id": "uUt0aL0qAQQp"
      }
    },
    {
      "cell_type": "code",
      "source": [
        "from sklearn.model_selection import train_test_split\n",
        "X_trian, X_test, y_train, y_test = train_test_split(\n",
        "    # X : feature\n",
        "    # y : target\n",
        "    X,\n",
        "    y,\n",
        "    test_size = 0.3,\n",
        "    random_state = 121\n",
        ")"
      ],
      "metadata": {
        "id": "kwlaFffN_qTs"
      },
      "execution_count": null,
      "outputs": []
    },
    {
      "cell_type": "code",
      "source": [
        "import matplotlib.pyplot as plt\n",
        "import seaborn as sns\n",
        "\n",
        "sns.set_theme()\n",
        "\n",
        "sns.countplot(x = y_train)\n",
        "plt.show()"
      ],
      "metadata": {
        "colab": {
          "base_uri": "https://localhost:8080/",
          "height": 434
        },
        "id": "q8fuE09DAUqc",
        "outputId": "d6f5d030-69bf-43d8-fcb1-bb2a79579d4b"
      },
      "execution_count": null,
      "outputs": [
        {
          "output_type": "display_data",
          "data": {
            "text/plain": [
              "<Figure size 640x480 with 1 Axes>"
            ],
            "image/png": "[encoded data removed]"
          },
          "metadata": {}
        }
      ]
    },
    {
      "cell_type": "markdown",
      "source": [
        "# Stratify 옵션 활용하기"
      ],
      "metadata": {
        "id": "8NZ8LTv1CYd6"
      }
    },
    {
      "cell_type": "code",
      "source": [
        "from sklearn.model_selection import train_test_split\n",
        "X_trian, X_test, y_train, y_test = train_test_split(\n",
        "    # X : feature\n",
        "    # y : target\n",
        "    X,\n",
        "    y,\n",
        "    test_size = 0.3,\n",
        "    random_state = 121,\n",
        "    stratify=y # 정수, 문자열와 같은 카테고리화 데이터만 지정이 가능\n",
        ")"
      ],
      "metadata": {
        "id": "UfBvNrppCbaD"
      },
      "execution_count": null,
      "outputs": []
    },
    {
      "cell_type": "code",
      "source": [
        "sns.countplot(x = y_train)\n",
        "plt.show()"
      ],
      "metadata": {
        "colab": {
          "base_uri": "https://localhost:8080/",
          "height": 434
        },
        "id": "h3iiu2T-CgY3",
        "outputId": "47660cb9-9a55-4dee-cf6b-ce0266621005"
      },
      "execution_count": null,
      "outputs": [
        {
          "output_type": "display_data",
          "data": {
            "text/plain": [
              "<Figure size 640x480 with 1 Axes>"
            ],
            "image/png": "[encoded data removed]"
          },
          "metadata": {}
        }
      ]
    },
    {
      "cell_type": "markdown",
      "source": [
        "# K-Fold, Stratified K-Fold"
      ],
      "metadata": {
        "id": "vRFZalU7JZKJ"
      }
    },
    {
      "cell_type": "code",
      "source": [
        "# K-Fold\n",
        "from sklearn.model_selection import KFold\n",
        "import numpy as np"
      ],
      "metadata": {
        "id": "IiN9tJRiEAs2"
      },
      "execution_count": 26,
      "outputs": []
    },
    {
      "cell_type": "code",
      "source": [
        "# K-Fold\n",
        "from sklearn.model_selection import KFold\n",
        "import numpy as np\n",
        "\n",
        "# 3개의 폴드 세트로 분리하는 KFold 객체 생성\n",
        "# 3번을 교차 검증하는 것.\n",
        "# 전체 데이터         검증1\n",
        "# 전체 데이터     검증2\n",
        "# 전체 데이터 검증3\n",
        "kfold = KFold(n_splits=3)\n",
        "\n",
        "# KFold 객체의 split() 함수를 호출하면 폴드 별 학습용, 검증용 테스트의 인덱스를 array로 반환\n",
        "for train_indices, valid_indices in kfold.split(X):\n",
        "  print(\"검증 세트의 인덱스 : {}\".format(valid_indices))\n",
        "  print(\"훈련 세트의 인덱스 : {}\".format(train_indices))\n",
        "  print()"
      ],
      "metadata": {
        "colab": {
          "base_uri": "https://localhost:8080/"
        },
        "id": "qGdbtVREJn0d",
        "outputId": "e27a2bf1-5428-4610-9c60-4d3a9f85a130"
      },
      "execution_count": 27,
      "outputs": [
        {
          "output_type": "stream",
          "name": "stdout",
          "text": [
            "검증 세트의 인덱스 : [ 0  1  2  3  4  5  6  7  8  9 10 11 12 13 14 15 16 17 18 19 20 21 22 23\n",
            " 24 25 26 27 28 29 30 31 32 33 34 35 36 37 38 39 40 41 42 43 44 45 46 47\n",
            " 48 49]\n",
            "훈련 세트의 인덱스 : [ 50  51  52  53  54  55  56  57  58  59  60  61  62  63  64  65  66  67\n",
            "  68  69  70  71  72  73  74  75  76  77  78  79  80  81  82  83  84  85\n",
            "  86  87  88  89  90  91  92  93  94  95  96  97  98  99 100 101 102 103\n",
            " 104 105 106 107 108 109 110 111 112 113 114 115 116 117 118 119 120 121\n",
            " 122 123 124 125 126 127 128 129 130 131 132 133 134 135 136 137 138 139\n",
            " 140 141 142 143 144 145 146 147 148 149]\n",
            "\n",
            "검증 세트의 인덱스 : [50 51 52 53 54 55 56 57 58 59 60 61 62 63 64 65 66 67 68 69 70 71 72 73\n",
            " 74 75 76 77 78 79 80 81 82 83 84 85 86 87 88 89 90 91 92 93 94 95 96 97\n",
            " 98 99]\n",
            "훈련 세트의 인덱스 : [  0   1   2   3   4   5   6   7   8   9  10  11  12  13  14  15  16  17\n",
            "  18  19  20  21  22  23  24  25  26  27  28  29  30  31  32  33  34  35\n",
            "  36  37  38  39  40  41  42  43  44  45  46  47  48  49 100 101 102 103\n",
            " 104 105 106 107 108 109 110 111 112 113 114 115 116 117 118 119 120 121\n",
            " 122 123 124 125 126 127 128 129 130 131 132 133 134 135 136 137 138 139\n",
            " 140 141 142 143 144 145 146 147 148 149]\n",
            "\n",
            "검증 세트의 인덱스 : [100 101 102 103 104 105 106 107 108 109 110 111 112 113 114 115 116 117\n",
            " 118 119 120 121 122 123 124 125 126 127 128 129 130 131 132 133 134 135\n",
            " 136 137 138 139 140 141 142 143 144 145 146 147 148 149]\n",
            "훈련 세트의 인덱스 : [ 0  1  2  3  4  5  6  7  8  9 10 11 12 13 14 15 16 17 18 19 20 21 22 23\n",
            " 24 25 26 27 28 29 30 31 32 33 34 35 36 37 38 39 40 41 42 43 44 45 46 47\n",
            " 48 49 50 51 52 53 54 55 56 57 58 59 60 61 62 63 64 65 66 67 68 69 70 71\n",
            " 72 73 74 75 76 77 78 79 80 81 82 83 84 85 86 87 88 89 90 91 92 93 94 95\n",
            " 96 97 98 99]\n",
            "\n"
          ]
        }
      ]
    },
    {
      "cell_type": "code",
      "source": [
        "n_iter = 0\n",
        "cv_accuracy = [] # 각 폴드에서의 정확도를 담을 배열 -> KFold가 3개이므로 3개가 만들어짐.\n",
        "\n",
        "kfold = KFold(n_splits=3)\n",
        "\n",
        "for train_indices, valid_indices in kfold.split(X):\n",
        "\n",
        "  # 반환된 인덱스를 이용해 학습용(train), 검증용(vaild) 데이터를 추출\n",
        "  X_train, X_valid = X[train_indices], X[valid_indices]\n",
        "  y_train, y_valid = y[train_indices], y[valid_indices]\n",
        "\n",
        "  # 모델 생성 및 훈련\n",
        "  dt_clf = DecisionTreeClassifier().fit(X_train, y_train) # 모델 객체 생성과 동시에 훈련\n",
        "\n",
        "  # 예측\n",
        "  pred = dt_clf.predict(X_valid)\n",
        "\n",
        "  # 평가\n",
        "  acc = accuracy_score(y_valid, pred)\n",
        "\n",
        "  # 해당 폴드의 평가 결과를 배열에 저장\n",
        "  cv_accuracy.append(acc)\n",
        "\n",
        "  n_iter += 1\n",
        "  print(\"{} 번째 폴드에 대한 평가 결과 : {:.4f}\".format(n_iter, acc))\n",
        "\n",
        "print()\n",
        "print(\"최종 결과 : {}\".format(np.mean(cv_accuracy)))"
      ],
      "metadata": {
        "colab": {
          "base_uri": "https://localhost:8080/"
        },
        "id": "B98SCRqFKOTc",
        "outputId": "8dc2e5b4-c6aa-4b30-b1f3-388a9727d834"
      },
      "execution_count": 28,
      "outputs": [
        {
          "output_type": "stream",
          "name": "stdout",
          "text": [
            "1 번째 폴드에 대한 평가 결과 : 0.0000\n",
            "2 번째 폴드에 대한 평가 결과 : 0.0000\n",
            "3 번째 폴드에 대한 평가 결과 : 0.0000\n",
            "\n",
            "최종 결과 : 0.0\n"
          ]
        }
      ]
    },
    {
      "cell_type": "code",
      "source": [
        "# Stratified K Fold\n",
        "from sklearn.model_selection import StratifiedKFold\n",
        "\n",
        "skfold = StratifiedKFold(n_splits=3)\n",
        "\n",
        "# y에 들어있는 값을 기준으로 계층적 분할을 한다.\n",
        "# y값을 기준으로 train과 valid 데이터를 분할한다.\n",
        "for train_indices, valid_indices in skfold.split(X, y):\n",
        "  print(\"검증 세트의 인덱스 : {}\".format(valid_indices))\n",
        "  print()\n",
        "\n",
        "  class_, counts = np.unique(y[valid_indices], return_counts=True)\n",
        "  classes = dict(zip(class_, counts))\n",
        "  print(\"클래스 0 : {}개 / 클래스 1 : {}개 / 클래스 2 : {}개\".format(classes[0], classes[1], classes[2]))\n",
        "  print(\"=\"*50)\n",
        "  print()"
      ],
      "metadata": {
        "colab": {
          "base_uri": "https://localhost:8080/"
        },
        "id": "J2owYsUbKmPW",
        "outputId": "55866de8-0f86-4ae6-fb84-b00db6d1b881"
      },
      "execution_count": 29,
      "outputs": [
        {
          "output_type": "stream",
          "name": "stdout",
          "text": [
            "검증 세트의 인덱스 : [  0   1   2   3   4   5   6   7   8   9  10  11  12  13  14  15  16  50\n",
            "  51  52  53  54  55  56  57  58  59  60  61  62  63  64  65  66 100 101\n",
            " 102 103 104 105 106 107 108 109 110 111 112 113 114 115]\n",
            "\n",
            "클래스 0 : 17개 / 클래스 1 : 17개 / 클래스 2 : 16개\n",
            "==================================================\n",
            "\n",
            "검증 세트의 인덱스 : [ 17  18  19  20  21  22  23  24  25  26  27  28  29  30  31  32  33  67\n",
            "  68  69  70  71  72  73  74  75  76  77  78  79  80  81  82 116 117 118\n",
            " 119 120 121 122 123 124 125 126 127 128 129 130 131 132]\n",
            "\n",
            "클래스 0 : 17개 / 클래스 1 : 16개 / 클래스 2 : 17개\n",
            "==================================================\n",
            "\n",
            "검증 세트의 인덱스 : [ 34  35  36  37  38  39  40  41  42  43  44  45  46  47  48  49  83  84\n",
            "  85  86  87  88  89  90  91  92  93  94  95  96  97  98  99 133 134 135\n",
            " 136 137 138 139 140 141 142 143 144 145 146 147 148 149]\n",
            "\n",
            "클래스 0 : 16개 / 클래스 1 : 17개 / 클래스 2 : 17개\n",
            "==================================================\n",
            "\n"
          ]
        }
      ]
    },
    {
      "cell_type": "markdown",
      "source": [
        "## Stratified K Fold 교차검증"
      ],
      "metadata": {
        "id": "yETVip1lMRGp"
      }
    },
    {
      "cell_type": "code",
      "source": [
        "n_iter = 0\n",
        "cv_accuracy = [] # 각 폴드에서의 정확도를 담을 배열\n",
        "\n",
        "skfold = StratifiedKFold(n_splits=3)\n",
        "\n",
        "for train_indices, valid_indices in skfold.split(X, y):\n",
        "\n",
        "  # 반환된 인덱스를 이용해 학습용, 검증용 데이터를 추출\n",
        "  X_train, X_valid = X[train_indices], X[valid_indices]\n",
        "  y_train, y_valid = y[train_indices], y[valid_indices]\n",
        "\n",
        "  # 모델 생성 및 훈련\n",
        "  dt_clf = DecisionTreeClassifier().fit(X_train, y_train) # 모델 객체 생성과 동시에 훈련\n",
        "\n",
        "  # 예측\n",
        "  pred = dt_clf.predict(X_valid)\n",
        "\n",
        "  # 평가\n",
        "  acc = accuracy_score(y_valid, pred)\n",
        "\n",
        "  # 해당 폴드의 평가 결과를 배열에 저장\n",
        "  cv_accuracy.append(acc)\n",
        "\n",
        "  n_iter += 1\n",
        "  print(\"{} 번째 폴드에 대한 평가 결과 : {:.4f}\".format(n_iter, acc))\n",
        "\n",
        "print()\n",
        "print(\"최종 결과 : {}\".format(np.mean(cv_accuracy)))"
      ],
      "metadata": {
        "colab": {
          "base_uri": "https://localhost:8080/"
        },
        "id": "6Rf0-zZGLrYh",
        "outputId": "8f87a9cf-0c55-40c5-bc44-275444e99bce"
      },
      "execution_count": 30,
      "outputs": [
        {
          "output_type": "stream",
          "name": "stdout",
          "text": [
            "1 번째 폴드에 대한 평가 결과 : 0.9800\n",
            "2 번째 폴드에 대한 평가 결과 : 0.9400\n",
            "3 번째 폴드에 대한 평가 결과 : 0.9800\n",
            "\n",
            "최종 결과 : 0.9666666666666667\n"
          ]
        }
      ]
    },
    {
      "cell_type": "markdown",
      "source": [
        "# cross_val_score\n",
        "K-Fold 클래스를 이용한 교차 검증 방법을 간편화 한 사이킷런의 검증 함수\n",
        "\n",
        "폴드 세트 추출, 학습/예측, 평가를 한번에 수행할 수 있다.\n",
        "\n",
        "- estimator : 모델\n",
        "- X : feature\n",
        "- y : target\n",
        "- scoring : 예측 성능 평가 방식\n",
        "- cv : 폴드의 개수"
      ],
      "metadata": {
        "id": "Woecf_XFN4fJ"
      }
    },
    {
      "cell_type": "code",
      "source": [
        "from sklearn.model_selection import cross_val_score\n",
        "\n",
        "scores = cross_val_score(\n",
        "    DecisionTreeClassifier(), # Classifier가 들어가면 자동으로 Stratified KFold를 사용.\n",
        "    X,\n",
        "    y,\n",
        "    scoring='accuracy', # 성능 측정 방식. 여기서는 정확도를 사용\n",
        "    cv=3 # 폴드의 개수\n",
        ")\n",
        "print(\"폴드 별 정확도 확인 : {}\".format(scores))\n",
        "print(\"평균 정확도 확인 : {}\".format(np.mean(scores)))"
      ],
      "metadata": {
        "colab": {
          "base_uri": "https://localhost:8080/"
        },
        "id": "Xh2UGYjuMaPJ",
        "outputId": "7cff0514-a9d5-41c7-f58c-2768f5d1bdcc"
      },
      "execution_count": 32,
      "outputs": [
        {
          "output_type": "stream",
          "name": "stdout",
          "text": [
            "폴드 별 정확도 확인 : [0.98 0.94 0.96]\n",
            "평균 정확도 확인 : 0.96\n"
          ]
        }
      ]
    },
    {
      "cell_type": "code",
      "source": [],
      "metadata": {
        "id": "9IvF8B5RO3YZ"
      },
      "execution_count": null,
      "outputs": []
    }
  ]
}