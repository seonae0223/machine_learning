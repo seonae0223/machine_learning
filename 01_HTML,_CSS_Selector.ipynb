{
  "nbformat": 4,
  "nbformat_minor": 0,
  "metadata": {
    "colab": {
      "provenance": [],
      "include_colab_link": true
    },
    "kernelspec": {
      "name": "python3",
      "display_name": "Python 3"
    },
    "language_info": {
      "name": "python"
    }
  },
  "cells": [
    {
      "cell_type": "markdown",
      "metadata": {
        "id": "view-in-github",
        "colab_type": "text"
      },
      "source": [
        "<a href=\"https://colab.research.google.com/github/seonae0223/machine_learning/blob/main/01_HTML%2C_CSS_Selector.ipynb\" target=\"_parent\"><img src=\"https://colab.research.google.com/assets/colab-badge.svg\" alt=\"Open In Colab\"/></a>"
      ]
    },
    {
      "cell_type": "code",
      "execution_count": null,
      "metadata": {
        "id": "2wY8zYYG-6ZP"
      },
      "outputs": [],
      "source": []
    },
    {
      "cell_type": "markdown",
      "source": [
        "# 1. HTML\n",
        "- HyperText Markup Language\n",
        "  - HyperText : 페이지의 이동이 가능한\n",
        "  - Markup : 구간이 있는 (표식)\n",
        "  - Language : 언어\n",
        "- Markup\n",
        "  - 나는 어제 사과를 먹었다.\n",
        "    - 사람은 쉽게 이해할 수 있으나, 컴퓨터는 이해하기가 힘들어요.\n",
        "  - Markup 예시\n",
        "  -  ```html\n",
        "        <누가>나</누가>\n",
        "        <언제>어제</언제>\n",
        "        <무엇을>사과</무엇을>\n",
        "        <어떻게>먹었다</어떻게>\n",
        "    ```\n",
        "\n",
        "- HTML은 웹에 보이는 화면인 웹 페이지에 필요한 구성요소를 구성하는 Markup 언어\n",
        "- 웹 페이지를 구성하는 언어\n",
        "  - HTML : 마크업을 이용해 화면의 레이아웃 구조와 텍스트, 엘리먼트를 표현한다.\n",
        "  - CSS(Cascade Style Sheet) : 엘리먼트를 꾸며주는 언어\n",
        "    - **html 엘리먼트를 선택**을 한 다음 꾸며줘야 한다.\n",
        "      - `selector`를 이용한 엘리먼트 선택\n",
        "  - JavaScript : 사용자와 웹 페이지의 인터렉션을 담당"
      ],
      "metadata": {
        "id": "vHYn-rFP0Fya"
      }
    },
    {
      "cell_type": "markdown",
      "source": [
        "## HTML의 구성 요소\n",
        "- Document\n",
        "  - 눈에 보이는 페이지 전체\n",
        "- Element\n",
        "  - Document를 구성하는 **요소**\n",
        "  - 레이아웃\n",
        "    - 영역을 나눠주는 역할. 대표적으로 `<div>, <p>, <span> 등등`\n",
        "  - 엘리먼트\n",
        "    - 특정한 기능이나 표현이 있는 구성요소\n",
        "    - 눈으로 볼 수 있는 요소\n",
        "    - 레이아웃이 아니면 모두 엘리먼트\n",
        "  - 엘리먼트는 **계층적 구조**로 이루어져 있다.\n",
        "    - 엘리먼트 내에 다른 엘리먼트가 배치될 수 있다.\n",
        "    - **DOM(Document Object Model)** ★★★★★\n",
        "- Tag\n",
        "  - 목적이 다른 태그들이 각각 존재한다.\n",
        "  - 태그의 이름에 따라서 태그의 모양과 기능(목적)이 달라진다.\n",
        "  - 태그들을 이용해 엘리먼트 구조를 만들어 낸다.\n",
        "- Attribute\n",
        "  - 엘리먼트의 속성을 표현 `attribute=\"attribute value\"`\n",
        "  - 시작 태그 안에 포함되는 속성값"
      ],
      "metadata": {
        "id": "tUdsqk9D2mmn"
      }
    },
    {
      "cell_type": "code",
      "source": [
        "%%html\n",
        "<button>HTML1</button>"
      ],
      "metadata": {
        "colab": {
          "base_uri": "https://localhost:8080/",
          "height": 38
        },
        "id": "UsYYBunv7Q5j",
        "outputId": "4a253c87-7da9-4034-eac0-d460497b1ee2"
      },
      "execution_count": null,
      "outputs": [
        {
          "output_type": "display_data",
          "data": {
            "text/plain": [
              "<IPython.core.display.HTML object>"
            ],
            "text/html": [
              "<button>HTML1</button>"
            ]
          },
          "metadata": {}
        }
      ]
    },
    {
      "cell_type": "markdown",
      "source": [
        "속성 부여"
      ],
      "metadata": {
        "id": "7tgRcBMb9UgF"
      }
    },
    {
      "cell_type": "code",
      "source": [
        "%%html\n",
        "<button style=\"color:red;\">HTML1</button>"
      ],
      "metadata": {
        "colab": {
          "base_uri": "https://localhost:8080/",
          "height": 38
        },
        "id": "eAMhpdkx9aoN",
        "outputId": "2e2689ad-977e-4576-bca9-43a78140470f"
      },
      "execution_count": null,
      "outputs": [
        {
          "output_type": "display_data",
          "data": {
            "text/plain": [
              "<IPython.core.display.HTML object>"
            ],
            "text/html": [
              "<button style=\"color:red;\">HTML1</button>"
            ]
          },
          "metadata": {}
        }
      ]
    },
    {
      "cell_type": "markdown",
      "source": [
        "## 속성값 종류\n",
        "- `id, class` 속성\n",
        "  - **엘리먼트를 선택**하기 위한 속성\n",
        "  - `id`속성 : 전페 웹 페이지에서 유일한 값\n",
        "  - `class`속성\n",
        "    - 웹 페이지에서 여러 가지 값을 사용할 수 있다. **중복 가능**\n",
        "    - 하나의 엘리먼트 내에 여러 개의 `class`를 설정 가능\n",
        "- `기타 등등`\n",
        "  - 엘리먼트의 기능 등을 담당\n",
        "  - 엘리먼트의 크기, 배경 화면 등등 스타일 적인 요소를 담당\n",
        "  - `a` 태그 같은 경우는 이동할 페이지를 입력\n"
      ],
      "metadata": {
        "id": "qu0BuV6j9s4c"
      }
    },
    {
      "cell_type": "markdown",
      "source": [
        "## `hn` 태그\n",
        "- 문서 내 제목을 나타내기 위한 태그\n",
        "- <h`n`> 제목 </h`n`>\n",
        "  - `n`은 1 ~ 6 숫자\n",
        "  - `n`이 커질수록 글씨가 작아진다."
      ],
      "metadata": {
        "id": "0v2PainkPQkP"
      }
    },
    {
      "cell_type": "code",
      "source": [
        "%%html\n",
        "<h1>안녕하세요!</h1>\n",
        "<h2>안녕하세요!</h2>\n",
        "<h3>안녕하세요!</h3>\n",
        "<h4>안녕하세요!</h4>\n",
        "<h5>안녕하세요!</h5>\n",
        "<h6>안녕하세요!</h6>"
      ],
      "metadata": {
        "colab": {
          "base_uri": "https://localhost:8080/",
          "height": 259
        },
        "id": "vDNbfFRTStZ8",
        "outputId": "40ef60f2-54e3-4a01-c402-d82057ac1835"
      },
      "execution_count": null,
      "outputs": [
        {
          "output_type": "display_data",
          "data": {
            "text/plain": [
              "<IPython.core.display.HTML object>"
            ],
            "text/html": [
              "<h1>안녕하세요!</h1>\n",
              "<h2>안녕하세요!</h2>\n",
              "<h3>안녕하세요!</h3>\n",
              "<h4>안녕하세요!</h4>\n",
              "<h5>안녕하세요!</h5>\n",
              "<h6>안녕하세요!</h6>"
            ]
          },
          "metadata": {}
        }
      ]
    },
    {
      "cell_type": "markdown",
      "source": [
        "# `p` 태그\n",
        "- Paragraph\n",
        "- 문단을 표현하기 위한 태그\n",
        "- `<p>문단에 들어갈 내용들~~~</p>`"
      ],
      "metadata": {
        "id": "PLfX7I4QUUuz"
      }
    },
    {
      "cell_type": "code",
      "source": [
        "%%html\n",
        "<p>하고싶은 아무말이나 적으면 됩니다. 여기는 문단이 들어가는 공간이에요~</p>\n",
        "<p>여기는 두 번째 문단입니다. 오늘 내일 다음주까지 크롤링을 배울거에요~</p>"
      ],
      "metadata": {
        "colab": {
          "base_uri": "https://localhost:8080/",
          "height": 70
        },
        "id": "RxS8DCnOU-58",
        "outputId": "613f37a8-9031-4431-e218-ed3cc588d8a5"
      },
      "execution_count": null,
      "outputs": [
        {
          "output_type": "display_data",
          "data": {
            "text/plain": [
              "<IPython.core.display.HTML object>"
            ],
            "text/html": [
              "<p>하고싶은 아무말이나 적으면 됩니다. 여기는 문단이 들어가는 공간이에요~</p>\n",
              "<p>여기는 두 번째 문단입니다. 오늘 내일 다음주까지 크롤링을 배울거에요~</p>"
            ]
          },
          "metadata": {}
        }
      ]
    },
    {
      "cell_type": "code",
      "source": [
        "%%html\n",
        "<div>\n",
        "  <h1>오늘 할 일</h1>\n",
        "  <div>\n",
        "    <p>오늘은 html, css selector 배우기~~~</p>\n",
        "    <p>크롤링 배우기~~~</p>\n",
        "  </div>\n",
        "</div>\n",
        "\n",
        "<div>\n",
        "  <h1>내일 할 일</h1>\n",
        "  <p>집에서 잠자기</p>\n",
        "</div>"
      ],
      "metadata": {
        "colab": {
          "base_uri": "https://localhost:8080/",
          "height": 200
        },
        "id": "X9iEi8JwVbMN",
        "outputId": "4b28aaac-cab6-424f-cb8e-4cdc60be0a22"
      },
      "execution_count": null,
      "outputs": [
        {
          "output_type": "display_data",
          "data": {
            "text/plain": [
              "<IPython.core.display.HTML object>"
            ],
            "text/html": [
              "<div>\n",
              "  <h1>오늘 할 일</h1>\n",
              "  <div>\n",
              "    <p>오늘은 html, css selector 배우기~~~</p>  \n",
              "    <p>크롤링 배우기~~~</p>\n",
              "  </div>\n",
              "</div>\n",
              "\n",
              "<div>\n",
              "  <h1>내일 할 일</h1>\n",
              "  <p>집에서 잠자기</p>\n",
              "</div>"
            ]
          },
          "metadata": {}
        }
      ]
    },
    {
      "cell_type": "markdown",
      "source": [
        "# `div` 태그\n",
        "- 레이아웃을 구성하는 대표적인 태그\n",
        "- 가장 많이 사용하는 태그로써, `div` 태그 내에 여러 엘리먼터가 배치된다."
      ],
      "metadata": {
        "id": "bI8uAFdcWmxN"
      }
    },
    {
      "cell_type": "code",
      "source": [
        "%%html\n",
        "<div>\n",
        "    <h2>첫 번째 div 입니다.</h2>\n",
        "    <p>div 내에 p 태그를 이용해서 작성 중입니다.</p>\n",
        "    <p>div 내에 p 태그를 이용해서 작성 중입니다.</p>\n",
        "    <p>div 내에 p 태그를 이용해서 작성 중입니다.</p>\n",
        "    <p>div 내에 p 태그를 이용해서 작성 중입니다.</p>\n",
        "</div>\n",
        "\n",
        "<div>\n",
        "    <h2>두 번째 div 입니다.</h2>\n",
        "    <div>\n",
        "      <p>두 번째 div 내에 새로운 div를 만들었습니다.</p>\n",
        "      <p>두 번째 div 내에 새로운 div를 만들었습니다.</p>\n",
        "      <p>두 번째 div 내에 새로운 div를 만들었습니다.</p>\n",
        "      <p>두 번째 div 내에 새로운 div를 만들었습니다.</p>\n",
        "      <p>두 번째 div 내에 새로운 div를 만들었습니다.</p>\n",
        "    </div>\n",
        "</div>"
      ],
      "metadata": {
        "colab": {
          "base_uri": "https://localhost:8080/",
          "height": 320
        },
        "id": "GJXxHyo9Yijz",
        "outputId": "ed4b9511-e05e-4741-8c70-4d790fca22fb"
      },
      "execution_count": null,
      "outputs": [
        {
          "output_type": "display_data",
          "data": {
            "text/plain": [
              "<IPython.core.display.HTML object>"
            ],
            "text/html": [
              "<div>\n",
              "    <h2>첫 번째 div 입니다.</h2>\n",
              "    <p>div 내에 p 태그를 이용해서 작성 중입니다.</p>\n",
              "    <p>div 내에 p 태그를 이용해서 작성 중입니다.</p>\n",
              "    <p>div 내에 p 태그를 이용해서 작성 중입니다.</p>\n",
              "    <p>div 내에 p 태그를 이용해서 작성 중입니다.</p>\n",
              "</div>\n",
              "\n",
              "<div>\n",
              "    <h2>두 번째 div 입니다.</h2>\n",
              "    <div>\n",
              "      <p>두 번째 div 내에 새로운 div를 만들었습니다.</p>\n",
              "      <p>두 번째 div 내에 새로운 div를 만들었습니다.</p>\n",
              "      <p>두 번째 div 내에 새로운 div를 만들었습니다.</p>\n",
              "      <p>두 번째 div 내에 새로운 div를 만들었습니다.</p>\n",
              "      <p>두 번째 div 내에 새로운 div를 만들었습니다.</p>\n",
              "    </div>\n",
              "</div>"
            ]
          },
          "metadata": {}
        }
      ]
    },
    {
      "cell_type": "markdown",
      "source": [
        "# `span` 태그\n",
        "- 문자열을 일부만 감싸고 있는 태그\n",
        "- 문자열의 특정한 부분을 감싸서 **스타일**을 적용해 줄 수 있다."
      ],
      "metadata": {
        "id": "dffbGer-ZMhr"
      }
    },
    {
      "cell_type": "code",
      "source": [
        "%%html\n",
        "<p>\n",
        "  여기는 일반적인 문자열 입니다. span을 활용하면 <span style=\"color:red;\">특정 부분</span>을 감싸서 여러 효과를 부여할 수 있습니다.\n",
        "</p>"
      ],
      "metadata": {
        "colab": {
          "base_uri": "https://localhost:8080/",
          "height": 46
        },
        "id": "UrYC7Ov-c9dK",
        "outputId": "52576768-6888-48b5-ea54-b8b0a6bf8963"
      },
      "execution_count": null,
      "outputs": [
        {
          "output_type": "display_data",
          "data": {
            "text/plain": [
              "<IPython.core.display.HTML object>"
            ],
            "text/html": [
              "<p>\n",
              "  여기는 일반적인 문자열 입니다. span을 활용하면 <span style=\"color:red;\">특정 부분</span>을 감싸서 여러 효과를 부여할 수 있습니다.\n",
              "</p>"
            ]
          },
          "metadata": {}
        }
      ]
    },
    {
      "cell_type": "markdown",
      "source": [
        "# `table` 태그\n",
        "- 표를 그리기 위한 태그 (데이터 프레임)\n",
        "    * `table` : 전체 테이블을 만들기 위한 태그\n",
        "    * `caption` : 표의 제목을 만들기위한 태그(생략 가능)\n",
        "    * `thead` : 테이블을 항목(컬럼)을 표시하기위한 태그 (생략 가능)\n",
        "    * `tbody` : 테이블에 표시할 실제 데이터가 들어가는 태그 (생략 가능)\n",
        "    * `th` : 컬럼명을 표기하기 위한 태그\n",
        "    * `td` : 데이터를 표기하기 위한 태그\n",
        "    * `tr` : 한 행을 만들기 위한 태그\n"
      ],
      "metadata": {
        "id": "vDicLdvAde2C"
      }
    },
    {
      "cell_type": "code",
      "source": [
        "%%html\n",
        "<table border=\"1\">\n",
        "  <caption>테이블 제목</caption>\n",
        "  <thead>\n",
        "    <tr>\n",
        "      <th>코드</th>\n",
        "      <th>회사이름</th>\n",
        "    </tr>\n",
        "  </thead>\n",
        "  <tbody>\n",
        "    <tr>\n",
        "      <td>00001</td>\n",
        "      <td>삼성전자</td>\n",
        "    </tr>\n",
        "    <tr>\n",
        "      <td>00002</td>\n",
        "      <td>하이닉스</td>\n",
        "    </tr>\n",
        "  </tbody>\n",
        "</table>"
      ],
      "metadata": {
        "colab": {
          "base_uri": "https://localhost:8080/",
          "height": 107
        },
        "id": "EGyHz7cHeBNC",
        "outputId": "2bc259b3-c879-4755-c393-36785460e9d4"
      },
      "execution_count": null,
      "outputs": [
        {
          "output_type": "display_data",
          "data": {
            "text/plain": [
              "<IPython.core.display.HTML object>"
            ],
            "text/html": [
              "<table border=\"1\">\n",
              "  <caption>테이블 제목</caption>\n",
              "\n",
              "  <thead>\n",
              "    <tr>\n",
              "      <th>코드</th>\n",
              "      <th>회사이름</th>\n",
              "    </tr>\n",
              "  </thead>\n",
              "\n",
              "  <tbody>\n",
              "    <tr>\n",
              "      <td>00001</td>\n",
              "      <td>삼성전자</td>\n",
              "    </tr>\n",
              "    \n",
              "    <tr>\n",
              "      <td>00002</td>\n",
              "      <td>하이닉스</td>\n",
              "    </tr>\n",
              "  </tbody>\n",
              "\n",
              "</table>"
            ]
          },
          "metadata": {}
        }
      ]
    },
    {
      "cell_type": "markdown",
      "source": [
        "# 리스트 태그\n",
        "- `ul` (Unordered list)\n",
        "  - 숫자가 없이 불릿으로만 나열되는 리스트\n",
        "- `ol` (Ordered list)\n",
        "  - 숫자를 이용해서 순서를 표현할 수 있는 리스트\n",
        "- `li`\n",
        "  - `ul` 또는 `ol` 등에 대한 리스트 항목을 만들 때 사용\n"
      ],
      "metadata": {
        "id": "SB51mRHsfh6e"
      }
    },
    {
      "cell_type": "code",
      "source": [
        "%%html\n",
        "\n",
        "<ul>\n",
        "  <li>data 1</li>\n",
        "  <li>data 2</li>\n",
        "  <li>data 3</li>\n",
        "</ul>"
      ],
      "metadata": {
        "colab": {
          "base_uri": "https://localhost:8080/",
          "height": 81
        },
        "id": "yiDifgDUiyL6",
        "outputId": "32b70511-d3b4-4bdb-f583-03719e621ef2"
      },
      "execution_count": null,
      "outputs": [
        {
          "output_type": "display_data",
          "data": {
            "text/plain": [
              "<IPython.core.display.HTML object>"
            ],
            "text/html": [
              "\n",
              "<ul>\n",
              "  <li>data 1</li>\n",
              "  <li>data 2</li>\n",
              "  <li>data 3</li>\n",
              "</ul>"
            ]
          },
          "metadata": {}
        }
      ]
    },
    {
      "cell_type": "code",
      "source": [
        "%%html\n",
        "\n",
        "<ol>\n",
        "  <li>data 1</li>\n",
        "  <li>data 2</li>\n",
        "  <li>data 3</li>\n",
        "</ol>"
      ],
      "metadata": {
        "colab": {
          "base_uri": "https://localhost:8080/",
          "height": 97
        },
        "id": "1ffiXCpWjBx3",
        "outputId": "a6f20fc5-877e-43d5-c23d-7e860676788b"
      },
      "execution_count": null,
      "outputs": [
        {
          "output_type": "display_data",
          "data": {
            "text/plain": [
              "<IPython.core.display.HTML object>"
            ],
            "text/html": [
              "\n",
              "<ol>\n",
              "  <li>data 1</li>\n",
              "  <li>data 2</li>\n",
              "  <li>data 3</li>\n",
              "</ol>"
            ]
          },
          "metadata": {}
        }
      ]
    },
    {
      "cell_type": "markdown",
      "source": [
        "# 앵커 태그(`a`) ★★★★★\n",
        "- 앵커 태그 덕분에 HyperText\n",
        "- **href** 속성에 이동할 url이 지정된다. ★★★★★\n"
      ],
      "metadata": {
        "id": "uR4y0w48jLpI"
      }
    },
    {
      "cell_type": "code",
      "source": [
        "%%html\n",
        "\n",
        "<a href=\"https://www.naver.com\">네이버로 이동</a>\n",
        "<a href=\"https://www.google.com\">구글로 이동</a>"
      ],
      "metadata": {
        "colab": {
          "base_uri": "https://localhost:8080/",
          "height": 34
        },
        "id": "nckvFtVXjwqP",
        "outputId": "66788e68-f2bf-4055-e0d7-cd5745661cd4"
      },
      "execution_count": null,
      "outputs": [
        {
          "output_type": "display_data",
          "data": {
            "text/plain": [
              "<IPython.core.display.HTML object>"
            ],
            "text/html": [
              "\n",
              "<a href=\"https://www.naver.com\">네이버로 이동</a>\n",
              "<a href=\"https://www.google.com\">구글로 이동</a>"
            ]
          },
          "metadata": {}
        }
      ]
    },
    {
      "cell_type": "markdown",
      "source": [
        "# 이미지(`img`) 태그\n",
        "- 이미지를 표시하기 위한 태그\n",
        "- `src` 속성에 이미지의 경로를 설정\n",
        "- `open-close` 태그기 때문에 열고 닫는 태그를 한꺼번에 작성\n",
        "  - `<img />`"
      ],
      "metadata": {
        "id": "pEbg1aWFlNio"
      }
    },
    {
      "cell_type": "code",
      "source": [
        "%%html\n",
        "<img alt=\"라이언\" title=\"마우스를 올리면 텍스트가 보여요~\" src=\"data:image/png;base64,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\" />"
      ],
      "metadata": {
        "colab": {
          "base_uri": "https://localhost:8080/",
          "height": 210
        },
        "id": "U9HkVf4elonC",
        "outputId": "8e9e9f95-6a64-4295-86ae-c15c40d5e09c"
      },
      "execution_count": null,
      "outputs": [
        {
          "output_type": "display_data",
          "data": {
            "text/plain": [
              "<IPython.core.display.HTML object>"
            ],
            "text/html": [
              "<img alt=\"라이언\" title=\"마우스를 올리면 텍스트가 보여요~\" src=\"data:image/png;base64,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\" />"
            ]
          },
          "metadata": {}
        }
      ]
    },
    {
      "cell_type": "markdown",
      "source": [
        "# 입력(`input`) 태그\n",
        "- 사용자의 입력을 받기 위한 태그\n",
        "- `input`태그를 사용. `type` attribute를 활용해서 입력의 종류를 설정\n",
        "- `open-close` 태그"
      ],
      "metadata": {
        "id": "MyBqqlPzmSNI"
      }
    },
    {
      "cell_type": "code",
      "source": [
        "%%html\n",
        "\n",
        "<input type=\"text\" placeholder=\"아이디를 입력하세요\" />\n",
        "<input type=\"password\" placeholder=\"비밀번호 입력하세요\" />\n",
        "<input type=\"radio\" name=\"data\" checked >남자</input>\n",
        "<input type=\"radio\" name=\"data\">여자</input>\n",
        "<input type=\"checkbox\">선택 1</input>\n",
        "<input type=\"checkbox\">선택 2</input>\n",
        "<input type=\"checkbox\">선택 3</input>\n",
        "<textarea />"
      ],
      "metadata": {
        "colab": {
          "base_uri": "https://localhost:8080/",
          "height": 58
        },
        "id": "eCwAjUFfqqfw",
        "outputId": "1caee382-3721-4e06-9645-05ddec65c99a"
      },
      "execution_count": null,
      "outputs": [
        {
          "output_type": "display_data",
          "data": {
            "text/plain": [
              "<IPython.core.display.HTML object>"
            ],
            "text/html": [
              "\n",
              "<input type=\"text\" placeholder=\"아이디를 입력하세요\" />\n",
              "<input type=\"password\" placeholder=\"비밀번호 입력하세요\" />\n",
              "<input type=\"radio\" name=\"data\" checked >남자</input>\n",
              "<input type=\"radio\" name=\"data\">여자</input>\n",
              "<input type=\"checkbox\">선택 1</input>\n",
              "<input type=\"checkbox\">선택 2</input>\n",
              "<input type=\"checkbox\">선택 3</input>\n",
              "<textarea />"
            ]
          },
          "metadata": {}
        }
      ]
    },
    {
      "cell_type": "markdown",
      "source": [
        "# CSS Selector\n",
        "- CSS : html 엘리먼트를 꾸미기 위한 시트\n",
        "  - 엘리먼트를 선택자(selector)를 이용해 선택을 하고 꾸미게 됩니다.\n",
        "- CSS 생성 방법\n",
        "  - HTML 내에 `<style></style>`\n",
        "  - 엘리먼트의 style attribute를 활용\n",
        "    - `style=\"color:red; background=blue;\"`\n",
        "    - 선택자를 활용하지 않는 방법.\n",
        "\n",
        "## Selector의 종류\n",
        "- 태그의 이름을 이용해서 선택\n",
        "  - `div, span, input, p, a, ul, li 등등..` 태그명을 이용해서 선택\n",
        "  - 한 웹페이지에 여러 개의 태그가 있을 수 있기 때문에 **여러 개**의 엘리먼트가 선택\n",
        "- `id` 속성을 이용해서 선택\n",
        "  - 웹 페이지에 존재하는 유일한 속성을 이용해 엘리먼트를 선택\n",
        "  - 1개의 엘리먼트만 선택\n",
        "- `class` 속성을 이용해서 선택\n",
        "  - 웹 페이지에 여러 개 존재하는 값을 이용해서 선택\n",
        "  - **여러 개**의 엘리먼트를 선택\n",
        "- `attribute` 속성을 이용해서 선택\n",
        "  - 엘리먼트에 특정 효과를 부여하는 `attribute`를 이용해서 여러 개의 엘리먼트를 선택\n",
        "\n",
        "## CSS 문법\n",
        "```html\n",
        "<style>\n",
        "  selector {\n",
        "    꾸미기 시트\n",
        "  }\n",
        "</style>\n",
        "```"
      ],
      "metadata": {
        "id": "2XNVrl9mq5Hd"
      }
    },
    {
      "cell_type": "markdown",
      "source": [
        "## 태그 선택자"
      ],
      "metadata": {
        "id": "xYdGdbHvtdFL"
      }
    },
    {
      "cell_type": "code",
      "source": [
        "%%html\n",
        "\n",
        "<style>\n",
        "  div {\n",
        "    color: red;\n",
        "  }\n",
        "  p {\n",
        "    color: blue;\n",
        "  }\n",
        "</style>\n",
        "\n",
        "<div>Hello</div>\n",
        "<p>Greetings</p>\n",
        "<span>hihi</span>\n",
        "<p>Bye</p>"
      ],
      "metadata": {
        "colab": {
          "base_uri": "https://localhost:8080/",
          "height": 110
        },
        "id": "y8s5qUhKoWTK",
        "outputId": "dc91543d-a0f6-40fc-bc60-44ea9b8b37be"
      },
      "execution_count": null,
      "outputs": [
        {
          "output_type": "display_data",
          "data": {
            "text/plain": [
              "<IPython.core.display.HTML object>"
            ],
            "text/html": [
              "\n",
              "<style>\n",
              "  div {\n",
              "    color: red;\n",
              "  }\n",
              "  p {\n",
              "    color: blue;\n",
              "  }\n",
              "</style>\n",
              "\n",
              "<div>Hello</div>\n",
              "<p>Greetings</p>\n",
              "<span>hihi</span>\n",
              "<p>Bye</p>"
            ]
          },
          "metadata": {}
        }
      ]
    },
    {
      "cell_type": "code",
      "source": [
        "%%html\n",
        "\n",
        "<style>\n",
        "  div {\n",
        "    color: green;\n",
        "  }\n",
        "</style>\n",
        "\n",
        "<div>\n",
        "  Hello\n",
        "  <p>안녕1</p>\n",
        "  <p>안녕2</p>\n",
        "</div>"
      ],
      "metadata": {
        "colab": {
          "base_uri": "https://localhost:8080/",
          "height": 87
        },
        "id": "qCXnoXEwog5K",
        "outputId": "95ff049d-9e23-4b32-cd60-bc4f0c96a3d8"
      },
      "execution_count": null,
      "outputs": [
        {
          "output_type": "display_data",
          "data": {
            "text/plain": [
              "<IPython.core.display.HTML object>"
            ],
            "text/html": [
              "\n",
              "<style>\n",
              "  div {\n",
              "    color: green;\n",
              "  }\n",
              "</style>\n",
              "\n",
              "<div>\n",
              "  Hello\n",
              "  <p>안녕1</p>\n",
              "  <p>안녕2</p>\n",
              "</div>"
            ]
          },
          "metadata": {}
        }
      ]
    },
    {
      "cell_type": "markdown",
      "source": [
        "## `id` 선택자\n",
        "- `#아이디값`"
      ],
      "metadata": {
        "id": "xUtHVTA2qPNh"
      }
    },
    {
      "cell_type": "code",
      "source": [
        "%%html\n",
        "\n",
        "<style>\n",
        "  p {\n",
        "    color: red;\n",
        "  }\n",
        "\n",
        "  #p1 {\n",
        "    background-color: blue;\n",
        "    color: yellow;\n",
        "  }\n",
        "\n",
        "  #p2 {\n",
        "    color: green;\n",
        "  }\n",
        "\n",
        "</style>\n",
        "\n",
        "<p id=\"p1\">안녕하세요</p>\n",
        "<p>반갑습니다</p>\n",
        "<p id=\"p2\">집에갈게요</p>"
      ],
      "metadata": {
        "colab": {
          "base_uri": "https://localhost:8080/",
          "height": 93
        },
        "id": "8DaVbjMGqnNT",
        "outputId": "c1d659b1-4471-47ee-842c-700399a264a8"
      },
      "execution_count": null,
      "outputs": [
        {
          "output_type": "display_data",
          "data": {
            "text/plain": [
              "<IPython.core.display.HTML object>"
            ],
            "text/html": [
              "\n",
              "<style>\n",
              "  p {\n",
              "    color: red;\n",
              "  }\n",
              "\n",
              "  #p1 {\n",
              "    background-color: blue;\n",
              "    color: yellow;\n",
              "  }\n",
              "\n",
              "  #p2 {\n",
              "    color: green;\n",
              "  }\n",
              "\n",
              "</style>\n",
              "\n",
              "<p id=\"p1\">안녕하세요</p>\n",
              "<p>반갑습니다</p>\n",
              "<p id=\"p2\">집에갈게요</p>"
            ]
          },
          "metadata": {}
        }
      ]
    },
    {
      "cell_type": "markdown",
      "source": [
        "## `class` 선택자\n",
        "- `.클래스값`"
      ],
      "metadata": {
        "id": "SnE2S24Xq0fR"
      }
    },
    {
      "cell_type": "code",
      "source": [
        "%%html\n",
        "\n",
        "<style>\n",
        "  .cs1 {\n",
        "    color: brown;\n",
        "  }\n",
        "  .cs2 {\n",
        "    color: skyblue;\n",
        "  }\n",
        "  div.cs1 {\n",
        "    background-color: green;\n",
        "  }\n",
        "  .p1.cs2 {\n",
        "    background-color: yellow;\n",
        "  }\n",
        "</style>\n",
        "\n",
        "<div class=\"cs1\">1</div>\n",
        "<div class=\"cs2\">2</div>\n",
        "<p class=\"cs1\">3</p>\n",
        "<p class=\"p1 cs2\">4</p>\n",
        "<p class=\"p1\">5</p>"
      ],
      "metadata": {
        "colab": {
          "base_uri": "https://localhost:8080/",
          "height": 128
        },
        "id": "puESUOFIsP1Q",
        "outputId": "0209bcb8-b65e-4251-9a6b-364891f56d83"
      },
      "execution_count": null,
      "outputs": [
        {
          "output_type": "display_data",
          "data": {
            "text/plain": [
              "<IPython.core.display.HTML object>"
            ],
            "text/html": [
              "\n",
              "<style>\n",
              "  .cs1 {\n",
              "    color: brown;\n",
              "  }\n",
              "  .cs2 {\n",
              "    color: skyblue;\n",
              "  }\n",
              "  div.cs1 {\n",
              "    background-color: green;\n",
              "  }\n",
              "  .p1.cs2 {\n",
              "    background-color: yellow;\n",
              "  }\n",
              "\n",
              "</style>\n",
              "\n",
              "<div class=\"cs1\">1</div>\n",
              "<div class=\"cs2\">2</div>\n",
              "<p class=\"cs1\">3</p>\n",
              "<p class=\"p1 cs2\">4</p>\n",
              "<p class=\"p1\">5</p>"
            ]
          },
          "metadata": {}
        }
      ]
    },
    {
      "cell_type": "markdown",
      "source": [
        "## 속성 선택자\n",
        "- `[속성명=\"속성값\"]`\n",
        "- `태그명[속성명=\"속성값\"]`"
      ],
      "metadata": {
        "id": "75a3jLRFvjst"
      }
    },
    {
      "cell_type": "code",
      "source": [
        "%%html\n",
        "\n",
        "<style>\n",
        "  [type=\"text\"]{\n",
        "    background-color:red;\n",
        "  }\n",
        "  input[type=\"password\"] {\n",
        "    background-color: magenta;\n",
        "  }\n",
        "</style>\n",
        "\n",
        "<input type=\"text\" placeholder=\"아이디를 입력하세요\"/>\n",
        "<input type=\"password\" placeholder=\"비밀번호를 입력하세요\"/>\n",
        "<input type=\"email\" placeholder=\"이메일을 입력하세요\"/>\n",
        "<input type=\"tel\" placeholder=\"전화번호를 입력하세요\"/>"
      ],
      "metadata": {
        "colab": {
          "base_uri": "https://localhost:8080/",
          "height": 36
        },
        "id": "J0JYoxQ5yNbu",
        "outputId": "319659a2-238c-4fe0-894b-5e2d95030adf"
      },
      "execution_count": null,
      "outputs": [
        {
          "output_type": "display_data",
          "data": {
            "text/plain": [
              "<IPython.core.display.HTML object>"
            ],
            "text/html": [
              "\n",
              "<style>\n",
              "  [type=\"text\"]{\n",
              "    background-color:red;\n",
              "  }\n",
              "  input[type=\"password\"] {\n",
              "    background-color: magenta;  \n",
              "  }\n",
              "</style>\n",
              "\n",
              "<input type=\"text\" placeholder=\"아이디를 입력하세요\"/>\n",
              "<input type=\"password\" placeholder=\"비밀번호를 입력하세요\"/>\n",
              "<input type=\"email\" placeholder=\"이메일을 입력하세요\"/>\n",
              "<input type=\"tel\" placeholder=\"전화번호를 입력하세요\"/>"
            ]
          },
          "metadata": {}
        }
      ]
    },
    {
      "cell_type": "markdown",
      "source": [
        "## 계층 구조 엘리먼트 선택\n",
        "- `DOM`(Document Object Model)을 활용해서 선택\n",
        "- 자식 선택자 : `부모 > 자식`\n",
        "- 자손 선택자 : `부모 자식`\n"
      ],
      "metadata": {
        "id": "7pqQnSzCycSq"
      }
    },
    {
      "cell_type": "code",
      "source": [
        "%%html\n",
        "\n",
        "<style>\n",
        "  .container > .title {\n",
        "    color: red;\n",
        "  }\n",
        "\n",
        "  .container .title {\n",
        "    background-color: yellow;\n",
        "  }\n",
        "</style>\n",
        "\n",
        "<div class=\"container\">\n",
        "  <h3 class=\"title\">inner 1</h3>\n",
        "  <div class=\"wrapper\">\n",
        "    <h4 class=\"title\">inner 2</h4>\n",
        "  </div>\n",
        "</div>"
      ],
      "metadata": {
        "colab": {
          "base_uri": "https://localhost:8080/",
          "height": 94
        },
        "id": "uYuk3vDD0HU4",
        "outputId": "d86f3b6e-aeda-411e-92d0-ce41ca7a6a61"
      },
      "execution_count": null,
      "outputs": [
        {
          "output_type": "display_data",
          "data": {
            "text/plain": [
              "<IPython.core.display.HTML object>"
            ],
            "text/html": [
              "\n",
              "<style>\n",
              "  .container > .title {\n",
              "    color: red;\n",
              "  }\n",
              "\n",
              "  .container .title {\n",
              "    background-color: yellow;\n",
              "  }\n",
              "</style>\n",
              "\n",
              "<div class=\"container\">\n",
              "  <h3 class=\"title\">inner 1</h3>\n",
              "  <div class=\"wrapper\">\n",
              "    <h4 class=\"title\">inner 2</h4>\n",
              "  </div>\n",
              "</div>"
            ]
          },
          "metadata": {}
        }
      ]
    }
  ]
}