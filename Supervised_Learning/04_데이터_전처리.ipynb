{
  "nbformat": 4,
  "nbformat_minor": 0,
  "metadata": {
    "colab": {
      "provenance": [],
      "authorship_tag": "ABX9TyN8eZf726XGjYMBlFR9lcTi",
      "include_colab_link": true
    },
    "kernelspec": {
      "name": "python3",
      "display_name": "Python 3"
    },
    "language_info": {
      "name": "python"
    }
  },
  "cells": [
    {
      "cell_type": "markdown",
      "metadata": {
        "id": "view-in-github",
        "colab_type": "text"
      },
      "source": [
        "<a href=\"https://colab.research.google.com/github/seonae0223/machine_learning/blob/main/04_%EB%8D%B0%EC%9D%B4%ED%84%B0_%EC%A0%84%EC%B2%98%EB%A6%AC.ipynb\" target=\"_parent\"><img src=\"https://colab.research.google.com/assets/colab-badge.svg\" alt=\"Open In Colab\"/></a>"
      ]
    },
    {
      "cell_type": "markdown",
      "source": [
        "# 데이터 전처리"
      ],
      "metadata": {
        "id": "b4fB7LbYwmU3"
      }
    },
    {
      "cell_type": "markdown",
      "source": [
        "## 레이블 인코딩(Label Encoding)"
      ],
      "metadata": {
        "id": "1GvftKjpwiQB"
      }
    },
    {
      "cell_type": "code",
      "execution_count": 1,
      "metadata": {
        "id": "FHN04S4twemy"
      },
      "outputs": [],
      "source": [
        "# Target(Label)에만 적용해야 한다.\n",
        "\n",
        "targets = [\"청바지\", \"치마\", \"청바지\", \"원피스\", \"청바지\", \"치마\", \"치마\", \"청바지\", \"원피스\"]"
      ]
    },
    {
      "cell_type": "code",
      "source": [],
      "metadata": {
        "id": "-ECs6ZbMwr9g"
      },
      "execution_count": null,
      "outputs": []
    }
  ]
}