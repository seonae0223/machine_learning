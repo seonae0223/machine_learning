{
  "nbformat": 4,
  "nbformat_minor": 0,
  "metadata": {
    "colab": {
      "provenance": [],
      "authorship_tag": "ABX9TyNx7TpH+X9epTi1YfYmOOz6",
      "include_colab_link": true
    },
    "kernelspec": {
      "name": "python3",
      "display_name": "Python 3"
    },
    "language_info": {
      "name": "python"
    }
  },
  "cells": [
    {
      "cell_type": "markdown",
      "metadata": {
        "id": "view-in-github",
        "colab_type": "text"
      },
      "source": [
        "<a href=\"https://colab.research.google.com/github/seonae0223/machine_learning/blob/main/03_%EC%88%98%EC%B9%98_%EB%B3%80%EA%B2%BD.ipynb\" target=\"_parent\"><img src=\"https://colab.research.google.com/assets/colab-badge.svg\" alt=\"Open In Colab\"/></a>"
      ]
    },
    {
      "cell_type": "markdown",
      "source": [
        "제곱항, 세 제곱항 등을 추가하면 선형회귀 모델에 도움이 많이 된다.\n",
        "- 데이터를 보다 복잡하게 해석할 수 있게 하기 때문에.\n",
        "- 원래 선형회귀 모델은 너무 단순한 모델인데, 데이터를 복잡하게 설정하면서 모델이 데이터를 복잡하게 해석할 수 있게 도와준다.\n",
        "\n",
        "log, exp, sin, cos 등의 수학 함수를 특성에 적용하는 것도 도움이 많이 될 때가 있다."
      ],
      "metadata": {
        "id": "wXCRsUkCOAdS"
      }
    },
    {
      "cell_type": "code",
      "execution_count": null,
      "metadata": {
        "colab": {
          "base_uri": "https://localhost:8080/"
        },
        "id": "syERZwI2NxKC",
        "outputId": "f067498e-fc1a-40f5-bdca-75e971189b54"
      },
      "outputs": [
        {
          "output_type": "stream",
          "name": "stdout",
          "text": [
            "[ 56  81  25  20  27  18  12  21 109   7]\n",
            "특성 출현 횟수 : \n",
            "[28 38 68 48 61 59 45 56 37 40 35 34 36 26 23 26 27 21 23 23 18 21 10  9\n",
            " 17  9  7 14 12  7  3  8  4  5  5  3  4  2  4  1  1  3  2  5  3  8  2  5\n",
            "  2  1  2  3  3  2  2  3  3  0  1  2  1  0  0  3  1  0  0  0  1  3  0  1\n",
            "  0  2  0  1  1  0  0  0  0  1  0  0  2  2  0  1  1  0  0  0  0  1  1  0\n",
            "  0  0  0  0  0  0  1  0  0  0  0  0  1  1  0  0  1  0  0  0  0  0  0  0\n",
            "  1  0  0  0  0  1  0  0  0  0  0  0  0  0  0  0  0  0  0  0  1]\n"
          ]
        }
      ],
      "source": [
        "import numpy as np\n",
        "import matplotlib.pyplot as plt\n",
        "# 여기는 다시는 보지 마세요.. ㅇㅋ?\n",
        "rnd = np.random.RandomState(0)\n",
        "\n",
        "X_original = rnd.normal(size=(1000, 3)) #행이 100개, 열이 3개\n",
        "w = rnd.normal(size=3)\n",
        "\n",
        "X = rnd.poisson(10 * np.exp(X_original))\n",
        "y = np.dot(X_original, w)\n",
        "\n",
        "print(X[:10, 0])\n",
        "\n",
        "print(\"특성 출현 횟수 : \\n{}\".format(np.bincount(X[:, 0]))) # 첫 번째 열의 모든 데이터의 빈도수를 확인"
      ]
    },
    {
      "cell_type": "code",
      "source": [
        "# 각 정수당 등장한 횟수를 bar로 그려봄( 히스토그램 )\n",
        "bins = np.bincount(X[:, 0])\n",
        "plt.bar(range(len(bins)), bins, color='gray')\n",
        "plt.xlabel(\"values\")\n",
        "plt.ylabel(\"count\")\n",
        "plt.show()"
      ],
      "metadata": {
        "colab": {
          "base_uri": "https://localhost:8080/",
          "height": 449
        },
        "id": "WCb84wVLOA6z",
        "outputId": "01066fc6-02dd-41a9-a8cf-beb63c677d13"
      },
      "execution_count": null,
      "outputs": [
        {
          "output_type": "display_data",
          "data": {
            "text/plain": [
              "<Figure size 640x480 with 1 Axes>"
            ],
            "image/png": "[encoded data removed]"
          },
          "metadata": {}
        }
      ]
    },
    {
      "cell_type": "code",
      "source": [
        "from sklearn.linear_model import Ridge\n",
        "from sklearn.model_selection import train_test_split\n",
        "\n",
        "X_train, X_test, y_train, y_test = train_test_split(\n",
        "    X, y, random_state=0\n",
        ")\n",
        "\n",
        "score = Ridge().fit(X_train, y_train).score(X_test, y_test)\n",
        "print(\"Ridge Test Score : {:.3f}\".format(score))"
      ],
      "metadata": {
        "colab": {
          "base_uri": "https://localhost:8080/"
        },
        "id": "x9X4s5-nO0uV",
        "outputId": "ef630294-7932-492c-80ea-072b72a453b5"
      },
      "execution_count": null,
      "outputs": [
        {
          "output_type": "stream",
          "name": "stdout",
          "text": [
            "Ridge Test Score : 0.622\n"
          ]
        }
      ]
    },
    {
      "cell_type": "markdown",
      "source": [
        "log 함수를 적용해서 분포의 차이가 많이 나는 데이터를 수치 변경을 통해 고르게 분포한다."
      ],
      "metadata": {
        "id": "2XiuF2VZP7og"
      }
    },
    {
      "cell_type": "code",
      "source": [
        "# log 적용\n",
        "X_train_log = np.log(X_train + 1) # +1을 하는 이유 : log 0은 정의 될 수 없어서\n",
        "X_test_log = np.log(X_test + 1)"
      ],
      "metadata": {
        "id": "0aLsVC8fPFYG"
      },
      "execution_count": null,
      "outputs": []
    },
    {
      "cell_type": "code",
      "source": [
        "plt.hist(X_train_log[:, 0], bins=25, color='gray')\n",
        "plt.xlabel(\"values\")\n",
        "plt.ylabel(\"count\")\n",
        "plt.show()"
      ],
      "metadata": {
        "colab": {
          "base_uri": "https://localhost:8080/",
          "height": 449
        },
        "id": "3k1df6YnPp5U",
        "outputId": "2258664d-3797-4381-b8e0-226c8567f7ec"
      },
      "execution_count": null,
      "outputs": [
        {
          "output_type": "display_data",
          "data": {
            "text/plain": [
              "<Figure size 640x480 with 1 Axes>"
            ],
            "image/png": "[encoded data removed]"
          },
          "metadata": {}
        }
      ]
    },
    {
      "cell_type": "code",
      "source": [
        "score = Ridge().fit(X_train_log, y_train).score(X_test_log, y_test)\n",
        "print(\"테스트 점수 : {:.3f}\".format(score))"
      ],
      "metadata": {
        "colab": {
          "base_uri": "https://localhost:8080/"
        },
        "id": "EmvGOjRwP2-e",
        "outputId": "ebf64183-1e5c-4713-97fe-3736c4d32974"
      },
      "execution_count": null,
      "outputs": [
        {
          "output_type": "stream",
          "name": "stdout",
          "text": [
            "테스트 점수 : 0.875\n"
          ]
        }
      ]
    },
    {
      "cell_type": "markdown",
      "source": [
        "1. 모든 상황에서 이러한 방법이 맞는 것은 아니다. - 어떻게 보면 **편법**\n",
        "2. 지금은 모든 특성이 같은 속성을 가지고 있었음 ( 앞쪽에 값이 많이 몰려있는 형태 )\n",
        "3. 상황에 맞춰서 일부 특성만 변환하는 방법을 사용하기도 한다.\n",
        "\n",
        "- 트리 모델에서는 이러한 변형이 **불필요**\n",
        "- 선형 모델에서는 필수적으로 해야 할 수도 있다."
      ],
      "metadata": {
        "id": "Xb2EGJrnQbZy"
      }
    },
    {
      "cell_type": "code",
      "source": [],
      "metadata": {
        "id": "ySeu0xOhQPhl"
      },
      "execution_count": null,
      "outputs": []
    }
  ]
}