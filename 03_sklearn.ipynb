{
  "nbformat": 4,
  "nbformat_minor": 0,
  "metadata": {
    "colab": {
      "provenance": [],
      "authorship_tag": "ABX9TyPVco3WvMZv2u/DnKrR85Bk",
      "include_colab_link": true
    },
    "kernelspec": {
      "name": "python3",
      "display_name": "Python 3"
    },
    "language_info": {
      "name": "python"
    }
  },
  "cells": [
    {
      "cell_type": "markdown",
      "metadata": {
        "id": "view-in-github",
        "colab_type": "text"
      },
      "source": [
        "<a href=\"https://colab.research.google.com/github/seonae0223/machine_learning/blob/main/03_sklearn.ipynb\" target=\"_parent\"><img src=\"https://colab.research.google.com/assets/colab-badge.svg\" alt=\"Open In Colab\"/></a>"
      ]
    },
    {
      "cell_type": "code",
      "execution_count": null,
      "metadata": {
        "colab": {
          "base_uri": "https://localhost:8080/"
        },
        "id": "xlG8hDfx84Dq",
        "outputId": "26053c14-b21a-4e4c-fd26-638223ba2d88"
      },
      "outputs": [
        {
          "output_type": "stream",
          "name": "stdout",
          "text": [
            "[0 0 0 0 0 0 0 0 0 0 0 0 0 0 0 0 0 0 0 0 0 0 0 0 0 0 0 0 0 0 0 0 0 0 0 0 0\n",
            " 0 0 0 0 0 0 0 0 0 0 0 0 0 1 1 1 1 1 1 1 1 1 1 1 1 1 1 1 1 1 1 1 1 1 1 1 1\n",
            " 1 1 1 1 1 1 1 1 1 1 1 1 1 1 1 1 1 1 1 1 1 1 1 1 1 1 2 2 2 2 2 2 2 2 2 2 2\n",
            " 2 2 2 2 2 2 2 2 2 2 2 2 2 2 2 2 2 2 2 2 2 2 2 2 2 2 2 2 2 2 2 2 2 2 2 2 2\n",
            " 2 2]\n"
          ]
        }
      ],
      "source": [
        "from sklearn.datasets import load_iris\n",
        "\n",
        "iris = load_iris()\n",
        "\n",
        "X = iris.data\n",
        "y = iris.target\n",
        "\n",
        "print(y)"
      ]
    },
    {
      "cell_type": "markdown",
      "source": [
        "# 랜덤성을 부여하지 않고 잘래낸 경우\n",
        "- Shuffle 수행을 하지 않음"
      ],
      "metadata": {
        "id": "Kb6qRnas9d9n"
      }
    },
    {
      "cell_type": "code",
      "source": [
        "# 여기서 []는 X 데이터의 차원을 줄여주는 것이라고 볼 수 있음.\n",
        "# 0행의 0열번째 데이터를 출력한다는 의미\n",
        "X[0][0]\n",
        "\n",
        "# 위의 작성법이 번거로워 아래의 작성법으로 변경.\n",
        "# 왼쪽 0 : axis 0 -> X축 방향으로 합산\n",
        "# 오른쪽 0 : axis 1 -> Y축 방향으로 합산\n",
        "X[0, 0]"
      ],
      "metadata": {
        "colab": {
          "base_uri": "https://localhost:8080/"
        },
        "id": "RGMB9AnR-etj",
        "outputId": "ad6f71eb-be21-454d-f46d-a04bfe9dff11"
      },
      "execution_count": null,
      "outputs": [
        {
          "output_type": "execute_result",
          "data": {
            "text/plain": [
              "5.1"
            ]
          },
          "metadata": {},
          "execution_count": 59
        }
      ]
    },
    {
      "cell_type": "code",
      "source": [
        "test_size = 50\n",
        "X_test = X[ : test_size]\n",
        "y_test = y[ : test_size]\n",
        "print(y_test)"
      ],
      "metadata": {
        "colab": {
          "base_uri": "https://localhost:8080/"
        },
        "id": "yUa7WvAt85Zp",
        "outputId": "2e4455c3-b98c-4348-dbbb-032ace41f46e"
      },
      "execution_count": null,
      "outputs": [
        {
          "output_type": "stream",
          "name": "stdout",
          "text": [
            "[0 0 0 0 0 0 0 0 0 0 0 0 0 0 0 0 0 0 0 0 0 0 0 0 0 0 0 0 0 0 0 0 0 0 0 0 0\n",
            " 0 0 0 0 0 0 0 0 0 0 0 0 0]\n"
          ]
        }
      ]
    },
    {
      "cell_type": "code",
      "source": [
        "X_train = X[test_size :]\n",
        "y_train = y[test_size :]\n",
        "print(y_train)"
      ],
      "metadata": {
        "colab": {
          "base_uri": "https://localhost:8080/"
        },
        "id": "ktiSg-Th_THQ",
        "outputId": "63ca857b-9e05-4106-81b1-91f73a86a5b8"
      },
      "execution_count": null,
      "outputs": [
        {
          "output_type": "stream",
          "name": "stdout",
          "text": [
            "[1 1 1 1 1 1 1 1 1 1 1 1 1 1 1 1 1 1 1 1 1 1 1 1 1 1 1 1 1 1 1 1 1 1 1 1 1\n",
            " 1 1 1 1 1 1 1 1 1 1 1 1 1 2 2 2 2 2 2 2 2 2 2 2 2 2 2 2 2 2 2 2 2 2 2 2 2\n",
            " 2 2 2 2 2 2 2 2 2 2 2 2 2 2 2 2 2 2 2 2 2 2 2 2 2 2]\n"
          ]
        }
      ]
    },
    {
      "cell_type": "code",
      "source": [
        "from sklearn.tree import DecisionTreeClassifier\n",
        "from sklearn.metrics import accuracy_score # 모델의 예측 성능을 평가하는 라이브러리\n",
        "# 모델 객체 dt_clf 생성\n",
        "dt_clf = DecisionTreeClassifier()\n",
        "\n",
        "dt_clf.fit(X_train, y_train)\n",
        "\n",
        "pred = dt_clf.predict(X_test)\n",
        "\n",
        "acc_result = accuracy_score(y_test, pred)\n",
        "\n",
        "print(\"예측 스코어 : {:.4f}\".format(acc_result))"
      ],
      "metadata": {
        "colab": {
          "base_uri": "https://localhost:8080/"
        },
        "id": "s_klllSq_cYV",
        "outputId": "07025075-c443-4dca-e870-6b81aa0c294c"
      },
      "execution_count": null,
      "outputs": [
        {
          "output_type": "stream",
          "name": "stdout",
          "text": [
            "예측 스코어 : 0.0000\n"
          ]
        }
      ]
    },
    {
      "cell_type": "markdown",
      "source": [
        "# train_test_split 활용하기"
      ],
      "metadata": {
        "id": "uUt0aL0qAQQp"
      }
    },
    {
      "cell_type": "code",
      "source": [
        "from sklearn.model_selection import train_test_split\n",
        "X_trian, X_test, y_train, y_test = train_test_split(\n",
        "    # X : feature\n",
        "    # y : target\n",
        "    X,\n",
        "    y,\n",
        "    test_size = 0.3,\n",
        "    random_state = 121\n",
        ")"
      ],
      "metadata": {
        "id": "kwlaFffN_qTs"
      },
      "execution_count": null,
      "outputs": []
    },
    {
      "cell_type": "code",
      "source": [
        "import matplotlib.pyplot as plt\n",
        "import seaborn as sns\n",
        "\n",
        "sns.set_theme()\n",
        "\n",
        "sns.countplot(x = y_train)\n",
        "plt.show()"
      ],
      "metadata": {
        "colab": {
          "base_uri": "https://localhost:8080/",
          "height": 434
        },
        "id": "q8fuE09DAUqc",
        "outputId": "0823eccc-94d1-4072-8dde-23a6f5ede09b"
      },
      "execution_count": null,
      "outputs": [
        {
          "output_type": "display_data",
          "data": {
            "text/plain": [
              "<Figure size 640x480 with 1 Axes>"
            ],
            "image/png": "[encoded data removed]"
          },
          "metadata": {}
        }
      ]
    },
    {
      "cell_type": "markdown",
      "source": [
        "# Stratify 옵션 활용하기"
      ],
      "metadata": {
        "id": "8NZ8LTv1CYd6"
      }
    },
    {
      "cell_type": "code",
      "source": [
        "from sklearn.model_selection import train_test_split\n",
        "X_trian, X_test, y_train, y_test = train_test_split(\n",
        "    # X : feature\n",
        "    # y : target\n",
        "    X,\n",
        "    y,\n",
        "    test_size = 0.3,\n",
        "    random_state = 121,\n",
        "    stratify=y # 정수, 문자열와 같은 카테고리화 데이터만 지정이 가능\n",
        ")"
      ],
      "metadata": {
        "id": "UfBvNrppCbaD"
      },
      "execution_count": null,
      "outputs": []
    },
    {
      "cell_type": "code",
      "source": [
        "sns.countplot(x = y_train)\n",
        "plt.show()"
      ],
      "metadata": {
        "colab": {
          "base_uri": "https://localhost:8080/",
          "height": 434
        },
        "id": "h3iiu2T-CgY3",
        "outputId": "3dfee0d9-1093-4c04-8665-6c72777b59af"
      },
      "execution_count": null,
      "outputs": [
        {
          "output_type": "display_data",
          "data": {
            "text/plain": [
              "<Figure size 640x480 with 1 Axes>"
            ],
            "image/png": "[encoded data removed]"
          },
          "metadata": {}
        }
      ]
    },
    {
      "cell_type": "markdown",
      "source": [
        "# K-Fold, Stratified K-Fold"
      ],
      "metadata": {
        "id": "vRFZalU7JZKJ"
      }
    },
    {
      "cell_type": "code",
      "source": [
        "# K-Fold\n",
        "from sklearn.model_selection import KFold\n",
        "import numpy as np"
      ],
      "metadata": {
        "id": "IiN9tJRiEAs2"
      },
      "execution_count": null,
      "outputs": []
    },
    {
      "cell_type": "code",
      "source": [
        "# K-Fold\n",
        "from sklearn.model_selection import KFold\n",
        "import numpy as np\n",
        "\n",
        "# 3개의 폴드 세트로 분리하는 KFold 객체 생성\n",
        "# 3번을 교차 검증하는 것.\n",
        "# 전체 데이터         검증1\n",
        "# 전체 데이터     검증2\n",
        "# 전체 데이터 검증3\n",
        "kfold = KFold(n_splits=3)\n",
        "\n",
        "# KFold 객체의 split() 함수를 호출하면 폴드 별 학습용, 검증용 테스트의 인덱스를 array로 반환\n",
        "for train_indices, valid_indices in kfold.split(X):\n",
        "  print(\"검증 세트의 인덱스 : {}\".format(valid_indices))\n",
        "  print(\"훈련 세트의 인덱스 : {}\".format(train_indices))\n",
        "  print()"
      ],
      "metadata": {
        "colab": {
          "base_uri": "https://localhost:8080/"
        },
        "id": "qGdbtVREJn0d",
        "outputId": "27d0e2f2-be52-441c-8665-ceb56a7225cc"
      },
      "execution_count": null,
      "outputs": [
        {
          "output_type": "stream",
          "name": "stdout",
          "text": [
            "검증 세트의 인덱스 : [ 0  1  2  3  4  5  6  7  8  9 10 11 12 13 14 15 16 17 18 19 20 21 22 23\n",
            " 24 25 26 27 28 29 30 31 32 33 34 35 36 37 38 39 40 41 42 43 44 45 46 47\n",
            " 48 49]\n",
            "훈련 세트의 인덱스 : [ 50  51  52  53  54  55  56  57  58  59  60  61  62  63  64  65  66  67\n",
            "  68  69  70  71  72  73  74  75  76  77  78  79  80  81  82  83  84  85\n",
            "  86  87  88  89  90  91  92  93  94  95  96  97  98  99 100 101 102 103\n",
            " 104 105 106 107 108 109 110 111 112 113 114 115 116 117 118 119 120 121\n",
            " 122 123 124 125 126 127 128 129 130 131 132 133 134 135 136 137 138 139\n",
            " 140 141 142 143 144 145 146 147 148 149]\n",
            "\n",
            "검증 세트의 인덱스 : [50 51 52 53 54 55 56 57 58 59 60 61 62 63 64 65 66 67 68 69 70 71 72 73\n",
            " 74 75 76 77 78 79 80 81 82 83 84 85 86 87 88 89 90 91 92 93 94 95 96 97\n",
            " 98 99]\n",
            "훈련 세트의 인덱스 : [  0   1   2   3   4   5   6   7   8   9  10  11  12  13  14  15  16  17\n",
            "  18  19  20  21  22  23  24  25  26  27  28  29  30  31  32  33  34  35\n",
            "  36  37  38  39  40  41  42  43  44  45  46  47  48  49 100 101 102 103\n",
            " 104 105 106 107 108 109 110 111 112 113 114 115 116 117 118 119 120 121\n",
            " 122 123 124 125 126 127 128 129 130 131 132 133 134 135 136 137 138 139\n",
            " 140 141 142 143 144 145 146 147 148 149]\n",
            "\n",
            "검증 세트의 인덱스 : [100 101 102 103 104 105 106 107 108 109 110 111 112 113 114 115 116 117\n",
            " 118 119 120 121 122 123 124 125 126 127 128 129 130 131 132 133 134 135\n",
            " 136 137 138 139 140 141 142 143 144 145 146 147 148 149]\n",
            "훈련 세트의 인덱스 : [ 0  1  2  3  4  5  6  7  8  9 10 11 12 13 14 15 16 17 18 19 20 21 22 23\n",
            " 24 25 26 27 28 29 30 31 32 33 34 35 36 37 38 39 40 41 42 43 44 45 46 47\n",
            " 48 49 50 51 52 53 54 55 56 57 58 59 60 61 62 63 64 65 66 67 68 69 70 71\n",
            " 72 73 74 75 76 77 78 79 80 81 82 83 84 85 86 87 88 89 90 91 92 93 94 95\n",
            " 96 97 98 99]\n",
            "\n"
          ]
        }
      ]
    },
    {
      "cell_type": "code",
      "source": [
        "n_iter = 0\n",
        "cv_accuracy = [] # 각 폴드에서의 정확도를 담을 배열 -> KFold가 3개이므로 3개가 만들어짐.\n",
        "\n",
        "kfold = KFold(n_splits=3)\n",
        "\n",
        "for train_indices, valid_indices in kfold.split(X):\n",
        "\n",
        "  # 반환된 인덱스를 이용해 학습용(train), 검증용(vaild) 데이터를 추출\n",
        "  X_train, X_valid = X[train_indices], X[valid_indices]\n",
        "  y_train, y_valid = y[train_indices], y[valid_indices]\n",
        "\n",
        "  # 모델 생성 및 훈련\n",
        "  dt_clf = DecisionTreeClassifier().fit(X_train, y_train) # 모델 객체 생성과 동시에 훈련\n",
        "\n",
        "  # 예측\n",
        "  pred = dt_clf.predict(X_valid)\n",
        "\n",
        "  # 평가\n",
        "  acc = accuracy_score(y_valid, pred)\n",
        "\n",
        "  # 해당 폴드의 평가 결과를 배열에 저장\n",
        "  cv_accuracy.append(acc)\n",
        "\n",
        "  n_iter += 1\n",
        "  print(\"{} 번째 폴드에 대한 평가 결과 : {:.4f}\".format(n_iter, acc))\n",
        "\n",
        "print()\n",
        "print(\"최종 결과 : {}\".format(np.mean(cv_accuracy)))"
      ],
      "metadata": {
        "colab": {
          "base_uri": "https://localhost:8080/"
        },
        "id": "B98SCRqFKOTc",
        "outputId": "40816deb-7ec0-43f1-bcf0-9dc66373c21f"
      },
      "execution_count": null,
      "outputs": [
        {
          "output_type": "stream",
          "name": "stdout",
          "text": [
            "1 번째 폴드에 대한 평가 결과 : 0.0000\n",
            "2 번째 폴드에 대한 평가 결과 : 0.0000\n",
            "3 번째 폴드에 대한 평가 결과 : 0.0000\n",
            "\n",
            "최종 결과 : 0.0\n"
          ]
        }
      ]
    },
    {
      "cell_type": "code",
      "source": [
        "# Stratified K Fold\n",
        "from sklearn.model_selection import StratifiedKFold\n",
        "\n",
        "skfold = StratifiedKFold(n_splits=3)\n",
        "\n",
        "# y에 들어있는 값을 기준으로 계층적 분할을 한다.\n",
        "# y값을 기준으로 train과 valid 데이터를 분할한다.\n",
        "for train_indices, valid_indices in skfold.split(X, y):\n",
        "  print(\"검증 세트의 인덱스 : {}\".format(valid_indices))\n",
        "  print()\n",
        "\n",
        "  class_, counts = np.unique(y[valid_indices], return_counts=True)\n",
        "  classes = dict(zip(class_, counts))\n",
        "  print(\"클래스 0 : {}개 / 클래스 1 : {}개 / 클래스 2 : {}개\".format(classes[0], classes[1], classes[2]))\n",
        "  print(\"=\"*50)\n",
        "  print()"
      ],
      "metadata": {
        "colab": {
          "base_uri": "https://localhost:8080/"
        },
        "id": "J2owYsUbKmPW",
        "outputId": "3925deaa-eb9d-4ede-b617-a3771805a8ab"
      },
      "execution_count": null,
      "outputs": [
        {
          "output_type": "stream",
          "name": "stdout",
          "text": [
            "검증 세트의 인덱스 : [  0   1   2   3   4   5   6   7   8   9  10  11  12  13  14  15  16  50\n",
            "  51  52  53  54  55  56  57  58  59  60  61  62  63  64  65  66 100 101\n",
            " 102 103 104 105 106 107 108 109 110 111 112 113 114 115]\n",
            "\n",
            "클래스 0 : 17개 / 클래스 1 : 17개 / 클래스 2 : 16개\n",
            "==================================================\n",
            "\n",
            "검증 세트의 인덱스 : [ 17  18  19  20  21  22  23  24  25  26  27  28  29  30  31  32  33  67\n",
            "  68  69  70  71  72  73  74  75  76  77  78  79  80  81  82 116 117 118\n",
            " 119 120 121 122 123 124 125 126 127 128 129 130 131 132]\n",
            "\n",
            "클래스 0 : 17개 / 클래스 1 : 16개 / 클래스 2 : 17개\n",
            "==================================================\n",
            "\n",
            "검증 세트의 인덱스 : [ 34  35  36  37  38  39  40  41  42  43  44  45  46  47  48  49  83  84\n",
            "  85  86  87  88  89  90  91  92  93  94  95  96  97  98  99 133 134 135\n",
            " 136 137 138 139 140 141 142 143 144 145 146 147 148 149]\n",
            "\n",
            "클래스 0 : 16개 / 클래스 1 : 17개 / 클래스 2 : 17개\n",
            "==================================================\n",
            "\n"
          ]
        }
      ]
    },
    {
      "cell_type": "markdown",
      "source": [
        "## Stratified K Fold 교차검증"
      ],
      "metadata": {
        "id": "yETVip1lMRGp"
      }
    },
    {
      "cell_type": "code",
      "source": [
        "n_iter = 0\n",
        "cv_accuracy = [] # 각 폴드에서의 정확도를 담을 배열\n",
        "\n",
        "skfold = StratifiedKFold(n_splits=3)\n",
        "\n",
        "for train_indices, valid_indices in skfold.split(X, y):\n",
        "\n",
        "  # 반환된 인덱스를 이용해 학습용, 검증용 데이터를 추출\n",
        "  X_train, X_valid = X[train_indices], X[valid_indices]\n",
        "  y_train, y_valid = y[train_indices], y[valid_indices]\n",
        "\n",
        "  # 모델 생성 및 훈련\n",
        "  dt_clf = DecisionTreeClassifier().fit(X_train, y_train) # 모델 객체 생성과 동시에 훈련\n",
        "\n",
        "  # 예측\n",
        "  pred = dt_clf.predict(X_valid)\n",
        "\n",
        "  # 평가\n",
        "  acc = accuracy_score(y_valid, pred)\n",
        "\n",
        "  # 해당 폴드의 평가 결과를 배열에 저장\n",
        "  cv_accuracy.append(acc)\n",
        "\n",
        "  n_iter += 1\n",
        "  print(\"{} 번째 폴드에 대한 평가 결과 : {:.4f}\".format(n_iter, acc))\n",
        "\n",
        "print()\n",
        "print(\"최종 결과 : {}\".format(np.mean(cv_accuracy)))"
      ],
      "metadata": {
        "colab": {
          "base_uri": "https://localhost:8080/"
        },
        "id": "6Rf0-zZGLrYh",
        "outputId": "0b2a7723-775b-4417-d406-0effbfe161e3"
      },
      "execution_count": null,
      "outputs": [
        {
          "output_type": "stream",
          "name": "stdout",
          "text": [
            "1 번째 폴드에 대한 평가 결과 : 0.9800\n",
            "2 번째 폴드에 대한 평가 결과 : 0.9400\n",
            "3 번째 폴드에 대한 평가 결과 : 0.9600\n",
            "\n",
            "최종 결과 : 0.96\n"
          ]
        }
      ]
    },
    {
      "cell_type": "markdown",
      "source": [
        "# cross_val_score\n",
        "K-Fold 클래스를 이용한 교차 검증 방법을 간편화 한 사이킷런의 검증 함수\n",
        "\n",
        "폴드 세트 추출, 학습/예측, 평가를 한번에 수행할 수 있다.\n",
        "\n",
        "- estimator : 모델\n",
        "- X : feature\n",
        "- y : target\n",
        "- scoring : 예측 성능 평가 방식\n",
        "- cv : 폴드의 개수"
      ],
      "metadata": {
        "id": "Woecf_XFN4fJ"
      }
    },
    {
      "cell_type": "code",
      "source": [
        "from sklearn.model_selection import cross_val_score\n",
        "\n",
        "scores = cross_val_score(\n",
        "    DecisionTreeClassifier(), # Classifier가 들어가면 자동으로 Stratified KFold를 사용.\n",
        "    X, #feature\n",
        "    y, #target\n",
        "    scoring='accuracy', # 성능 측정 방식. 여기서는 정확도를 사용\n",
        "    cv=3 # 폴드의 개수\n",
        ")\n",
        "print(\"폴드 별 정확도 확인 : {}\".format(scores))\n",
        "print(\"평균 정확도 확인 : {}\".format(np.mean(scores)))"
      ],
      "metadata": {
        "colab": {
          "base_uri": "https://localhost:8080/"
        },
        "id": "Xh2UGYjuMaPJ",
        "outputId": "bedec970-6274-48c2-991b-78aaf832c312"
      },
      "execution_count": null,
      "outputs": [
        {
          "output_type": "stream",
          "name": "stdout",
          "text": [
            "폴드 별 정확도 확인 : [0.98 0.92 0.98]\n",
            "평균 정확도 확인 : 0.96\n"
          ]
        }
      ]
    },
    {
      "cell_type": "markdown",
      "source": [
        "# GridSearchCV\n",
        "사이킷런은 GridSearchCV를 이용해 분류, 회귀 모델 알고리즘에\n",
        "사용되는 하이퍼 파라미터를 순차적으로 입력하면서 편리하게 최적의 파라미터를 도출할 수 있다.\n",
        "\n",
        "*   하이퍼 파라미터란?\n",
        "*   머신러닝의 개별적인 모델에 입력해야 하는 값을 의미한다.\n",
        "*   즉 모델이 학습하는 값이 아닌 개발자가 직접 넣어줘야 하는 값을 지칭한다.\n",
        "*   하이퍼 파라미터에 의해 모델의 성능이 조절되기 때문에 모델 알고리즘의 최적 튜닝을 할 수 있다.\n",
        "*   즉, 모델 복잡도를 하이퍼 파라미터 조정을 통해 조절할 수 있다.\n",
        "\n",
        "\n",
        "\n",
        "\n",
        "![화면 캡처 2024-07-23 104551.png](data:image/png;base64,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)\n",
        "\n",
        "- estimator : 모델\n",
        "- param_grid : 하이퍼 파라미터의 목록이 들어있는 딕셔너리, 여러 개의 딕셔너리를 이용할 수도 있다.\n",
        "- cv : 폴드의 개수\n",
        "- refit : True로 설정하면 가장 좋은 파라미터 설정으로 재학습 시킨다.\n",
        "- return_train_score : 훈련 결과 점수를 확인할 수 있다."
      ],
      "metadata": {
        "id": "kvzE-IxuPgHC"
      }
    },
    {
      "cell_type": "code",
      "source": [
        "# 모델에 사용할 하이퍼 파라미터 딕셔너리\n",
        "parameters = {\n",
        "    \"max_depth\": [1, 2, 3], #decisiontree의 대표적 변수\n",
        "    \"min_samples_split\": [2, 3] #max와 min split 조합이 6개 만들어짐 -> 모델 6개 만들어짐\n",
        "}"
      ],
      "metadata": {
        "id": "fPhaxI9rP-20"
      },
      "execution_count": null,
      "outputs": []
    },
    {
      "cell_type": "code",
      "source": [
        "from sklearn.model_selection import GridSearchCV\n",
        "grid_dt_clf = GridSearchCV(        # grid_dt_clf 자체가 모델이 됨.\n",
        "    DecisionTreeClassifier(),\n",
        "    param_grid=parameters,\n",
        "    return_train_score=True,\n",
        "    cv=3, # 각 하이퍼 마라미터 조합으로 만드는 모델에서 사용할 폴드의 개수\n",
        "    n_jobs = -1 # 사용 가능한 CPU 코어 개수 지정. -1 : 모든 cpu 사용\n",
        ")"
      ],
      "metadata": {
        "id": "rvTZfh5bRxwm"
      },
      "execution_count": null,
      "outputs": []
    },
    {
      "cell_type": "code",
      "source": [
        "X_train, X_test, y_train, y_test = train_test_split(\n",
        "    X, y,\n",
        "    test_size = 0.2,\n",
        "    stratify = y,\n",
        "    random_state = 121\n",
        ")"
      ],
      "metadata": {
        "id": "YPWuA7poRx2y"
      },
      "execution_count": null,
      "outputs": []
    },
    {
      "cell_type": "code",
      "source": [
        "# 총 18개의 모델이 생성\n",
        "# 원래 6개의 모델이 생성되는데, 모델을 하나 생성할 때마다 cv=3의 조건을 두어 한 모델 당 총 3개의\n",
        "# 하이퍼파라미터 즉 모델이 생성되므로, 총 18개의 모델이 생성됨.\n",
        "grid_dt_clf.fit(X_train, y_train)"
      ],
      "metadata": {
        "colab": {
          "base_uri": "https://localhost:8080/",
          "height": 116
        },
        "id": "H08vMD9IRx7-",
        "outputId": "40a307e7-19a9-4729-9dfb-5d4661a961f3"
      },
      "execution_count": null,
      "outputs": [
        {
          "output_type": "execute_result",
          "data": {
            "text/plain": [
              "GridSearchCV(cv=3, estimator=DecisionTreeClassifier(), n_jobs=-1,\n",
              "             param_grid={'max_depth': [1, 2, 3], 'min_samples_split': [2, 3]},\n",
              "             return_train_score=True)"
            ],
            "text/html": [
              "<style>#sk-container-id-5 {color: black;background-color: white;}#sk-container-id-5 pre{padding: 0;}#sk-container-id-5 div.sk-toggleable {background-color: white;}#sk-container-id-5 label.sk-toggleable__label {cursor: pointer;display: block;width: 100%;margin-bottom: 0;padding: 0.3em;box-sizing: border-box;text-align: center;}#sk-container-id-5 label.sk-toggleable__label-arrow:before {content: \"▸\";float: left;margin-right: 0.25em;color: #696969;}#sk-container-id-5 label.sk-toggleable__label-arrow:hover:before {color: black;}#sk-container-id-5 div.sk-estimator:hover label.sk-toggleable__label-arrow:before {color: black;}#sk-container-id-5 div.sk-toggleable__content {max-height: 0;max-width: 0;overflow: hidden;text-align: left;background-color: #f0f8ff;}#sk-container-id-5 div.sk-toggleable__content pre {margin: 0.2em;color: black;border-radius: 0.25em;background-color: #f0f8ff;}#sk-container-id-5 input.sk-toggleable__control:checked~div.sk-toggleable__content {max-height: 200px;max-width: 100%;overflow: auto;}#sk-container-id-5 input.sk-toggleable__control:checked~label.sk-toggleable__label-arrow:before {content: \"▾\";}#sk-container-id-5 div.sk-estimator input.sk-toggleable__control:checked~label.sk-toggleable__label {background-color: #d4ebff;}#sk-container-id-5 div.sk-label input.sk-toggleable__control:checked~label.sk-toggleable__label {background-color: #d4ebff;}#sk-container-id-5 input.sk-hidden--visually {border: 0;clip: rect(1px 1px 1px 1px);clip: rect(1px, 1px, 1px, 1px);height: 1px;margin: -1px;overflow: hidden;padding: 0;position: absolute;width: 1px;}#sk-container-id-5 div.sk-estimator {font-family: monospace;background-color: #f0f8ff;border: 1px dotted black;border-radius: 0.25em;box-sizing: border-box;margin-bottom: 0.5em;}#sk-container-id-5 div.sk-estimator:hover {background-color: #d4ebff;}#sk-container-id-5 div.sk-parallel-item::after {content: \"\";width: 100%;border-bottom: 1px solid gray;flex-grow: 1;}#sk-container-id-5 div.sk-label:hover label.sk-toggleable__label {background-color: #d4ebff;}#sk-container-id-5 div.sk-serial::before {content: \"\";position: absolute;border-left: 1px solid gray;box-sizing: border-box;top: 0;bottom: 0;left: 50%;z-index: 0;}#sk-container-id-5 div.sk-serial {display: flex;flex-direction: column;align-items: center;background-color: white;padding-right: 0.2em;padding-left: 0.2em;position: relative;}#sk-container-id-5 div.sk-item {position: relative;z-index: 1;}#sk-container-id-5 div.sk-parallel {display: flex;align-items: stretch;justify-content: center;background-color: white;position: relative;}#sk-container-id-5 div.sk-item::before, #sk-container-id-5 div.sk-parallel-item::before {content: \"\";position: absolute;border-left: 1px solid gray;box-sizing: border-box;top: 0;bottom: 0;left: 50%;z-index: -1;}#sk-container-id-5 div.sk-parallel-item {display: flex;flex-direction: column;z-index: 1;position: relative;background-color: white;}#sk-container-id-5 div.sk-parallel-item:first-child::after {align-self: flex-end;width: 50%;}#sk-container-id-5 div.sk-parallel-item:last-child::after {align-self: flex-start;width: 50%;}#sk-container-id-5 div.sk-parallel-item:only-child::after {width: 0;}#sk-container-id-5 div.sk-dashed-wrapped {border: 1px dashed gray;margin: 0 0.4em 0.5em 0.4em;box-sizing: border-box;padding-bottom: 0.4em;background-color: white;}#sk-container-id-5 div.sk-label label {font-family: monospace;font-weight: bold;display: inline-block;line-height: 1.2em;}#sk-container-id-5 div.sk-label-container {text-align: center;}#sk-container-id-5 div.sk-container {/* jupyter's `normalize.less` sets `[hidden] { display: none; }` but bootstrap.min.css set `[hidden] { display: none !important; }` so we also need the `!important` here to be able to override the default hidden behavior on the sphinx rendered scikit-learn.org. See: https://github.com/scikit-learn/scikit-learn/issues/21755 */display: inline-block !important;position: relative;}#sk-container-id-5 div.sk-text-repr-fallback {display: none;}</style><div id=\"sk-container-id-5\" class=\"sk-top-container\"><div class=\"sk-text-repr-fallback\"><pre>GridSearchCV(cv=3, estimator=DecisionTreeClassifier(), n_jobs=-1,\n",
              "             param_grid={&#x27;max_depth&#x27;: [1, 2, 3], &#x27;min_samples_split&#x27;: [2, 3]},\n",
              "             return_train_score=True)</pre><b>In a Jupyter environment, please rerun this cell to show the HTML representation or trust the notebook. <br />On GitHub, the HTML representation is unable to render, please try loading this page with nbviewer.org.</b></div><div class=\"sk-container\" hidden><div class=\"sk-item sk-dashed-wrapped\"><div class=\"sk-label-container\"><div class=\"sk-label sk-toggleable\"><input class=\"sk-toggleable__control sk-hidden--visually\" id=\"sk-estimator-id-11\" type=\"checkbox\" ><label for=\"sk-estimator-id-11\" class=\"sk-toggleable__label sk-toggleable__label-arrow\">GridSearchCV</label><div class=\"sk-toggleable__content\"><pre>GridSearchCV(cv=3, estimator=DecisionTreeClassifier(), n_jobs=-1,\n",
              "             param_grid={&#x27;max_depth&#x27;: [1, 2, 3], &#x27;min_samples_split&#x27;: [2, 3]},\n",
              "             return_train_score=True)</pre></div></div></div><div class=\"sk-parallel\"><div class=\"sk-parallel-item\"><div class=\"sk-item\"><div class=\"sk-label-container\"><div class=\"sk-label sk-toggleable\"><input class=\"sk-toggleable__control sk-hidden--visually\" id=\"sk-estimator-id-12\" type=\"checkbox\" ><label for=\"sk-estimator-id-12\" class=\"sk-toggleable__label sk-toggleable__label-arrow\">estimator: DecisionTreeClassifier</label><div class=\"sk-toggleable__content\"><pre>DecisionTreeClassifier()</pre></div></div></div><div class=\"sk-serial\"><div class=\"sk-item\"><div class=\"sk-estimator sk-toggleable\"><input class=\"sk-toggleable__control sk-hidden--visually\" id=\"sk-estimator-id-13\" type=\"checkbox\" ><label for=\"sk-estimator-id-13\" class=\"sk-toggleable__label sk-toggleable__label-arrow\">DecisionTreeClassifier</label><div class=\"sk-toggleable__content\"><pre>DecisionTreeClassifier()</pre></div></div></div></div></div></div></div></div></div></div>"
            ]
          },
          "metadata": {},
          "execution_count": 85
        }
      ]
    },
    {
      "cell_type": "code",
      "source": [
        "# GridSearchCV 결과는 cv_results_ 변수에 들어있다.\n",
        "grid_dt_clf.cv_results_"
      ],
      "metadata": {
        "colab": {
          "base_uri": "https://localhost:8080/"
        },
        "id": "TQFk6ZkvWKu2",
        "outputId": "b51fd269-89b2-4078-c0d4-68365963292a"
      },
      "execution_count": null,
      "outputs": [
        {
          "output_type": "execute_result",
          "data": {
            "text/plain": [
              "{'mean_fit_time': array([0.00181858, 0.00593122, 0.00490506, 0.00107598, 0.00104268,\n",
              "        0.0009915 ]),\n",
              " 'std_fit_time': array([2.61433869e-04, 4.18550356e-03, 4.73773577e-03, 2.98248841e-05,\n",
              "        5.11474384e-06, 1.41457225e-05]),\n",
              " 'mean_score_time': array([0.00118017, 0.00751853, 0.00187389, 0.00081722, 0.0008045 ,\n",
              "        0.0007809 ]),\n",
              " 'std_score_time': array([1.16410298e-04, 5.96663177e-03, 9.67202112e-04, 1.28898021e-05,\n",
              "        2.64650589e-05, 3.79699001e-05]),\n",
              " 'param_max_depth': masked_array(data=[1, 1, 2, 2, 3, 3],\n",
              "              mask=[False, False, False, False, False, False],\n",
              "        fill_value='?',\n",
              "             dtype=object),\n",
              " 'param_min_samples_split': masked_array(data=[2, 3, 2, 3, 2, 3],\n",
              "              mask=[False, False, False, False, False, False],\n",
              "        fill_value='?',\n",
              "             dtype=object),\n",
              " 'params': [{'max_depth': 1, 'min_samples_split': 2},\n",
              "  {'max_depth': 1, 'min_samples_split': 3},\n",
              "  {'max_depth': 2, 'min_samples_split': 2},\n",
              "  {'max_depth': 2, 'min_samples_split': 3},\n",
              "  {'max_depth': 3, 'min_samples_split': 2},\n",
              "  {'max_depth': 3, 'min_samples_split': 3}],\n",
              " 'split0_test_score': array([0.65 , 0.65 , 0.975, 0.975, 1.   , 1.   ]),\n",
              " 'split1_test_score': array([0.675, 0.675, 0.95 , 0.95 , 0.95 , 0.95 ]),\n",
              " 'split2_test_score': array([0.65, 0.65, 0.85, 0.85, 0.85, 0.85]),\n",
              " 'mean_test_score': array([0.65833333, 0.65833333, 0.925     , 0.925     , 0.93333333,\n",
              "        0.93333333]),\n",
              " 'std_test_score': array([0.01178511, 0.01178511, 0.05400617, 0.05400617, 0.06236096,\n",
              "        0.06236096]),\n",
              " 'rank_test_score': array([5, 5, 3, 3, 1, 1], dtype=int32),\n",
              " 'split0_train_score': array([0.675 , 0.675 , 0.95  , 0.95  , 0.9625, 0.9625]),\n",
              " 'split1_train_score': array([0.6625, 0.6625, 0.9625, 0.9625, 0.9875, 0.9875]),\n",
              " 'split2_train_score': array([0.675 , 0.675 , 0.9875, 0.9875, 0.9875, 0.9875]),\n",
              " 'mean_train_score': array([0.67083333, 0.67083333, 0.96666667, 0.96666667, 0.97916667,\n",
              "        0.97916667]),\n",
              " 'std_train_score': array([0.00589256, 0.00589256, 0.01559024, 0.01559024, 0.01178511,\n",
              "        0.01178511])}"
            ]
          },
          "metadata": {},
          "execution_count": 86
        }
      ]
    },
    {
      "cell_type": "markdown",
      "source": [
        "## 성능 평가하기\n",
        "- 각 파라미터 설정에 따른 모델들의 성능을 DataFrame 표로 한번에 확인하기\n",
        "- 그 중, 가장 성능이 좋은 모델을 찾을 수 있다.\n",
        "- grid_dt_clf.best_params_ : 최고의 하이퍼 파라미터 찾기\n",
        "- grid_dt_clf.best_score_ : vaild 데이터에서 최고의 정확도 찾기"
      ],
      "metadata": {
        "id": "KEQdl0ULXYcu"
      }
    },
    {
      "cell_type": "code",
      "source": [
        "import pandas as pd\n",
        "pd.DataFrame(grid_dt_clf.cv_results_)"
      ],
      "metadata": {
        "colab": {
          "base_uri": "https://localhost:8080/",
          "height": 465
        },
        "id": "TOWO_r9bWvH2",
        "outputId": "a1fa3a0f-9b41-47d3-86ac-33eee309c6a3"
      },
      "execution_count": null,
      "outputs": [
        {
          "output_type": "execute_result",
          "data": {
            "text/plain": [
              "   mean_fit_time  std_fit_time  mean_score_time  std_score_time  \\\n",
              "0       0.001819      0.000261         0.001180        0.000116   \n",
              "1       0.005931      0.004186         0.007519        0.005967   \n",
              "2       0.004905      0.004738         0.001874        0.000967   \n",
              "3       0.001076      0.000030         0.000817        0.000013   \n",
              "4       0.001043      0.000005         0.000805        0.000026   \n",
              "5       0.000992      0.000014         0.000781        0.000038   \n",
              "\n",
              "  param_max_depth param_min_samples_split  \\\n",
              "0               1                       2   \n",
              "1               1                       3   \n",
              "2               2                       2   \n",
              "3               2                       3   \n",
              "4               3                       2   \n",
              "5               3                       3   \n",
              "\n",
              "                                     params  split0_test_score  \\\n",
              "0  {'max_depth': 1, 'min_samples_split': 2}              0.650   \n",
              "1  {'max_depth': 1, 'min_samples_split': 3}              0.650   \n",
              "2  {'max_depth': 2, 'min_samples_split': 2}              0.975   \n",
              "3  {'max_depth': 2, 'min_samples_split': 3}              0.975   \n",
              "4  {'max_depth': 3, 'min_samples_split': 2}              1.000   \n",
              "5  {'max_depth': 3, 'min_samples_split': 3}              1.000   \n",
              "\n",
              "   split1_test_score  split2_test_score  mean_test_score  std_test_score  \\\n",
              "0              0.675               0.65         0.658333        0.011785   \n",
              "1              0.675               0.65         0.658333        0.011785   \n",
              "2              0.950               0.85         0.925000        0.054006   \n",
              "3              0.950               0.85         0.925000        0.054006   \n",
              "4              0.950               0.85         0.933333        0.062361   \n",
              "5              0.950               0.85         0.933333        0.062361   \n",
              "\n",
              "   rank_test_score  split0_train_score  split1_train_score  \\\n",
              "0                5              0.6750              0.6625   \n",
              "1                5              0.6750              0.6625   \n",
              "2                3              0.9500              0.9625   \n",
              "3                3              0.9500              0.9625   \n",
              "4                1              0.9625              0.9875   \n",
              "5                1              0.9625              0.9875   \n",
              "\n",
              "   split2_train_score  mean_train_score  std_train_score  \n",
              "0              0.6750          0.670833         0.005893  \n",
              "1              0.6750          0.670833         0.005893  \n",
              "2              0.9875          0.966667         0.015590  \n",
              "3              0.9875          0.966667         0.015590  \n",
              "4              0.9875          0.979167         0.011785  \n",
              "5              0.9875          0.979167         0.011785  "
            ],
            "text/html": [
              "\n",
              "  <div id=\"df-ad73da82-463b-44d8-96a8-370b689f610f\" class=\"colab-df-container\">\n",
              "    <div>\n",
              "<style scoped>\n",
              "    .dataframe tbody tr th:only-of-type {\n",
              "        vertical-align: middle;\n",
              "    }\n",
              "\n",
              "    .dataframe tbody tr th {\n",
              "        vertical-align: top;\n",
              "    }\n",
              "\n",
              "    .dataframe thead th {\n",
              "        text-align: right;\n",
              "    }\n",
              "</style>\n",
              "<table border=\"1\" class=\"dataframe\">\n",
              "  <thead>\n",
              "    <tr style=\"text-align: right;\">\n",
              "      <th></th>\n",
              "      <th>mean_fit_time</th>\n",
              "      <th>std_fit_time</th>\n",
              "      <th>mean_score_time</th>\n",
              "      <th>std_score_time</th>\n",
              "      <th>param_max_depth</th>\n",
              "      <th>param_min_samples_split</th>\n",
              "      <th>params</th>\n",
              "      <th>split0_test_score</th>\n",
              "      <th>split1_test_score</th>\n",
              "      <th>split2_test_score</th>\n",
              "      <th>mean_test_score</th>\n",
              "      <th>std_test_score</th>\n",
              "      <th>rank_test_score</th>\n",
              "      <th>split0_train_score</th>\n",
              "      <th>split1_train_score</th>\n",
              "      <th>split2_train_score</th>\n",
              "      <th>mean_train_score</th>\n",
              "      <th>std_train_score</th>\n",
              "    </tr>\n",
              "  </thead>\n",
              "  <tbody>\n",
              "    <tr>\n",
              "      <th>0</th>\n",
              "      <td>0.001819</td>\n",
              "      <td>0.000261</td>\n",
              "      <td>0.001180</td>\n",
              "      <td>0.000116</td>\n",
              "      <td>1</td>\n",
              "      <td>2</td>\n",
              "      <td>{'max_depth': 1, 'min_samples_split': 2}</td>\n",
              "      <td>0.650</td>\n",
              "      <td>0.675</td>\n",
              "      <td>0.65</td>\n",
              "      <td>0.658333</td>\n",
              "      <td>0.011785</td>\n",
              "      <td>5</td>\n",
              "      <td>0.6750</td>\n",
              "      <td>0.6625</td>\n",
              "      <td>0.6750</td>\n",
              "      <td>0.670833</td>\n",
              "      <td>0.005893</td>\n",
              "    </tr>\n",
              "    <tr>\n",
              "      <th>1</th>\n",
              "      <td>0.005931</td>\n",
              "      <td>0.004186</td>\n",
              "      <td>0.007519</td>\n",
              "      <td>0.005967</td>\n",
              "      <td>1</td>\n",
              "      <td>3</td>\n",
              "      <td>{'max_depth': 1, 'min_samples_split': 3}</td>\n",
              "      <td>0.650</td>\n",
              "      <td>0.675</td>\n",
              "      <td>0.65</td>\n",
              "      <td>0.658333</td>\n",
              "      <td>0.011785</td>\n",
              "      <td>5</td>\n",
              "      <td>0.6750</td>\n",
              "      <td>0.6625</td>\n",
              "      <td>0.6750</td>\n",
              "      <td>0.670833</td>\n",
              "      <td>0.005893</td>\n",
              "    </tr>\n",
              "    <tr>\n",
              "      <th>2</th>\n",
              "      <td>0.004905</td>\n",
              "      <td>0.004738</td>\n",
              "      <td>0.001874</td>\n",
              "      <td>0.000967</td>\n",
              "      <td>2</td>\n",
              "      <td>2</td>\n",
              "      <td>{'max_depth': 2, 'min_samples_split': 2}</td>\n",
              "      <td>0.975</td>\n",
              "      <td>0.950</td>\n",
              "      <td>0.85</td>\n",
              "      <td>0.925000</td>\n",
              "      <td>0.054006</td>\n",
              "      <td>3</td>\n",
              "      <td>0.9500</td>\n",
              "      <td>0.9625</td>\n",
              "      <td>0.9875</td>\n",
              "      <td>0.966667</td>\n",
              "      <td>0.015590</td>\n",
              "    </tr>\n",
              "    <tr>\n",
              "      <th>3</th>\n",
              "      <td>0.001076</td>\n",
              "      <td>0.000030</td>\n",
              "      <td>0.000817</td>\n",
              "      <td>0.000013</td>\n",
              "      <td>2</td>\n",
              "      <td>3</td>\n",
              "      <td>{'max_depth': 2, 'min_samples_split': 3}</td>\n",
              "      <td>0.975</td>\n",
              "      <td>0.950</td>\n",
              "      <td>0.85</td>\n",
              "      <td>0.925000</td>\n",
              "      <td>0.054006</td>\n",
              "      <td>3</td>\n",
              "      <td>0.9500</td>\n",
              "      <td>0.9625</td>\n",
              "      <td>0.9875</td>\n",
              "      <td>0.966667</td>\n",
              "      <td>0.015590</td>\n",
              "    </tr>\n",
              "    <tr>\n",
              "      <th>4</th>\n",
              "      <td>0.001043</td>\n",
              "      <td>0.000005</td>\n",
              "      <td>0.000805</td>\n",
              "      <td>0.000026</td>\n",
              "      <td>3</td>\n",
              "      <td>2</td>\n",
              "      <td>{'max_depth': 3, 'min_samples_split': 2}</td>\n",
              "      <td>1.000</td>\n",
              "      <td>0.950</td>\n",
              "      <td>0.85</td>\n",
              "      <td>0.933333</td>\n",
              "      <td>0.062361</td>\n",
              "      <td>1</td>\n",
              "      <td>0.9625</td>\n",
              "      <td>0.9875</td>\n",
              "      <td>0.9875</td>\n",
              "      <td>0.979167</td>\n",
              "      <td>0.011785</td>\n",
              "    </tr>\n",
              "    <tr>\n",
              "      <th>5</th>\n",
              "      <td>0.000992</td>\n",
              "      <td>0.000014</td>\n",
              "      <td>0.000781</td>\n",
              "      <td>0.000038</td>\n",
              "      <td>3</td>\n",
              "      <td>3</td>\n",
              "      <td>{'max_depth': 3, 'min_samples_split': 3}</td>\n",
              "      <td>1.000</td>\n",
              "      <td>0.950</td>\n",
              "      <td>0.85</td>\n",
              "      <td>0.933333</td>\n",
              "      <td>0.062361</td>\n",
              "      <td>1</td>\n",
              "      <td>0.9625</td>\n",
              "      <td>0.9875</td>\n",
              "      <td>0.9875</td>\n",
              "      <td>0.979167</td>\n",
              "      <td>0.011785</td>\n",
              "    </tr>\n",
              "  </tbody>\n",
              "</table>\n",
              "</div>\n",
              "    <div class=\"colab-df-buttons\">\n",
              "\n",
              "  <div class=\"colab-df-container\">\n",
              "    <button class=\"colab-df-convert\" onclick=\"convertToInteractive('df-ad73da82-463b-44d8-96a8-370b689f610f')\"\n",
              "            title=\"Convert this dataframe to an interactive table.\"\n",
              "            style=\"display:none;\">\n",
              "\n",
              "  <svg xmlns=\"http://www.w3.org/2000/svg\" height=\"24px\" viewBox=\"0 -960 960 960\">\n",
              "    <path d=\"M120-120v-720h720v720H120Zm60-500h600v-160H180v160Zm220 220h160v-160H400v160Zm0 220h160v-160H400v160ZM180-400h160v-160H180v160Zm440 0h160v-160H620v160ZM180-180h160v-160H180v160Zm440 0h160v-160H620v160Z\"/>\n",
              "  </svg>\n",
              "    </button>\n",
              "\n",
              "  <style>\n",
              "    .colab-df-container {\n",
              "      display:flex;\n",
              "      gap: 12px;\n",
              "    }\n",
              "\n",
              "    .colab-df-convert {\n",
              "      background-color: #E8F0FE;\n",
              "      border: none;\n",
              "      border-radius: 50%;\n",
              "      cursor: pointer;\n",
              "      display: none;\n",
              "      fill: #1967D2;\n",
              "      height: 32px;\n",
              "      padding: 0 0 0 0;\n",
              "      width: 32px;\n",
              "    }\n",
              "\n",
              "    .colab-df-convert:hover {\n",
              "      background-color: #E2EBFA;\n",
              "      box-shadow: 0px 1px 2px rgba(60, 64, 67, 0.3), 0px 1px 3px 1px rgba(60, 64, 67, 0.15);\n",
              "      fill: #174EA6;\n",
              "    }\n",
              "\n",
              "    .colab-df-buttons div {\n",
              "      margin-bottom: 4px;\n",
              "    }\n",
              "\n",
              "    [theme=dark] .colab-df-convert {\n",
              "      background-color: #3B4455;\n",
              "      fill: #D2E3FC;\n",
              "    }\n",
              "\n",
              "    [theme=dark] .colab-df-convert:hover {\n",
              "      background-color: #434B5C;\n",
              "      box-shadow: 0px 1px 3px 1px rgba(0, 0, 0, 0.15);\n",
              "      filter: drop-shadow(0px 1px 2px rgba(0, 0, 0, 0.3));\n",
              "      fill: #FFFFFF;\n",
              "    }\n",
              "  </style>\n",
              "\n",
              "    <script>\n",
              "      const buttonEl =\n",
              "        document.querySelector('#df-ad73da82-463b-44d8-96a8-370b689f610f button.colab-df-convert');\n",
              "      buttonEl.style.display =\n",
              "        google.colab.kernel.accessAllowed ? 'block' : 'none';\n",
              "\n",
              "      async function convertToInteractive(key) {\n",
              "        const element = document.querySelector('#df-ad73da82-463b-44d8-96a8-370b689f610f');\n",
              "        const dataTable =\n",
              "          await google.colab.kernel.invokeFunction('convertToInteractive',\n",
              "                                                    [key], {});\n",
              "        if (!dataTable) return;\n",
              "\n",
              "        const docLinkHtml = 'Like what you see? Visit the ' +\n",
              "          '<a target=\"_blank\" href=https://colab.research.google.com/notebooks/data_table.ipynb>data table notebook</a>'\n",
              "          + ' to learn more about interactive tables.';\n",
              "        element.innerHTML = '';\n",
              "        dataTable['output_type'] = 'display_data';\n",
              "        await google.colab.output.renderOutput(dataTable, element);\n",
              "        const docLink = document.createElement('div');\n",
              "        docLink.innerHTML = docLinkHtml;\n",
              "        element.appendChild(docLink);\n",
              "      }\n",
              "    </script>\n",
              "  </div>\n",
              "\n",
              "\n",
              "<div id=\"df-d53bba8f-c160-4674-9b58-6a0bb4fa173c\">\n",
              "  <button class=\"colab-df-quickchart\" onclick=\"quickchart('df-d53bba8f-c160-4674-9b58-6a0bb4fa173c')\"\n",
              "            title=\"Suggest charts\"\n",
              "            style=\"display:none;\">\n",
              "\n",
              "<svg xmlns=\"http://www.w3.org/2000/svg\" height=\"24px\"viewBox=\"0 0 24 24\"\n",
              "     width=\"24px\">\n",
              "    <g>\n",
              "        <path d=\"M19 3H5c-1.1 0-2 .9-2 2v14c0 1.1.9 2 2 2h14c1.1 0 2-.9 2-2V5c0-1.1-.9-2-2-2zM9 17H7v-7h2v7zm4 0h-2V7h2v10zm4 0h-2v-4h2v4z\"/>\n",
              "    </g>\n",
              "</svg>\n",
              "  </button>\n",
              "\n",
              "<style>\n",
              "  .colab-df-quickchart {\n",
              "      --bg-color: #E8F0FE;\n",
              "      --fill-color: #1967D2;\n",
              "      --hover-bg-color: #E2EBFA;\n",
              "      --hover-fill-color: #174EA6;\n",
              "      --disabled-fill-color: #AAA;\n",
              "      --disabled-bg-color: #DDD;\n",
              "  }\n",
              "\n",
              "  [theme=dark] .colab-df-quickchart {\n",
              "      --bg-color: #3B4455;\n",
              "      --fill-color: #D2E3FC;\n",
              "      --hover-bg-color: #434B5C;\n",
              "      --hover-fill-color: #FFFFFF;\n",
              "      --disabled-bg-color: #3B4455;\n",
              "      --disabled-fill-color: #666;\n",
              "  }\n",
              "\n",
              "  .colab-df-quickchart {\n",
              "    background-color: var(--bg-color);\n",
              "    border: none;\n",
              "    border-radius: 50%;\n",
              "    cursor: pointer;\n",
              "    display: none;\n",
              "    fill: var(--fill-color);\n",
              "    height: 32px;\n",
              "    padding: 0;\n",
              "    width: 32px;\n",
              "  }\n",
              "\n",
              "  .colab-df-quickchart:hover {\n",
              "    background-color: var(--hover-bg-color);\n",
              "    box-shadow: 0 1px 2px rgba(60, 64, 67, 0.3), 0 1px 3px 1px rgba(60, 64, 67, 0.15);\n",
              "    fill: var(--button-hover-fill-color);\n",
              "  }\n",
              "\n",
              "  .colab-df-quickchart-complete:disabled,\n",
              "  .colab-df-quickchart-complete:disabled:hover {\n",
              "    background-color: var(--disabled-bg-color);\n",
              "    fill: var(--disabled-fill-color);\n",
              "    box-shadow: none;\n",
              "  }\n",
              "\n",
              "  .colab-df-spinner {\n",
              "    border: 2px solid var(--fill-color);\n",
              "    border-color: transparent;\n",
              "    border-bottom-color: var(--fill-color);\n",
              "    animation:\n",
              "      spin 1s steps(1) infinite;\n",
              "  }\n",
              "\n",
              "  @keyframes spin {\n",
              "    0% {\n",
              "      border-color: transparent;\n",
              "      border-bottom-color: var(--fill-color);\n",
              "      border-left-color: var(--fill-color);\n",
              "    }\n",
              "    20% {\n",
              "      border-color: transparent;\n",
              "      border-left-color: var(--fill-color);\n",
              "      border-top-color: var(--fill-color);\n",
              "    }\n",
              "    30% {\n",
              "      border-color: transparent;\n",
              "      border-left-color: var(--fill-color);\n",
              "      border-top-color: var(--fill-color);\n",
              "      border-right-color: var(--fill-color);\n",
              "    }\n",
              "    40% {\n",
              "      border-color: transparent;\n",
              "      border-right-color: var(--fill-color);\n",
              "      border-top-color: var(--fill-color);\n",
              "    }\n",
              "    60% {\n",
              "      border-color: transparent;\n",
              "      border-right-color: var(--fill-color);\n",
              "    }\n",
              "    80% {\n",
              "      border-color: transparent;\n",
              "      border-right-color: var(--fill-color);\n",
              "      border-bottom-color: var(--fill-color);\n",
              "    }\n",
              "    90% {\n",
              "      border-color: transparent;\n",
              "      border-bottom-color: var(--fill-color);\n",
              "    }\n",
              "  }\n",
              "</style>\n",
              "\n",
              "  <script>\n",
              "    async function quickchart(key) {\n",
              "      const quickchartButtonEl =\n",
              "        document.querySelector('#' + key + ' button');\n",
              "      quickchartButtonEl.disabled = true;  // To prevent multiple clicks.\n",
              "      quickchartButtonEl.classList.add('colab-df-spinner');\n",
              "      try {\n",
              "        const charts = await google.colab.kernel.invokeFunction(\n",
              "            'suggestCharts', [key], {});\n",
              "      } catch (error) {\n",
              "        console.error('Error during call to suggestCharts:', error);\n",
              "      }\n",
              "      quickchartButtonEl.classList.remove('colab-df-spinner');\n",
              "      quickchartButtonEl.classList.add('colab-df-quickchart-complete');\n",
              "    }\n",
              "    (() => {\n",
              "      let quickchartButtonEl =\n",
              "        document.querySelector('#df-d53bba8f-c160-4674-9b58-6a0bb4fa173c button');\n",
              "      quickchartButtonEl.style.display =\n",
              "        google.colab.kernel.accessAllowed ? 'block' : 'none';\n",
              "    })();\n",
              "  </script>\n",
              "</div>\n",
              "\n",
              "    </div>\n",
              "  </div>\n"
            ],
            "application/vnd.google.colaboratory.intrinsic+json": {
              "type": "dataframe",
              "summary": "{\n  \"name\": \"pd\",\n  \"rows\": 6,\n  \"fields\": [\n    {\n      \"column\": \"mean_fit_time\",\n      \"properties\": {\n        \"dtype\": \"number\",\n        \"std\": 0.002206877659267001,\n        \"min\": 0.000991503397623698,\n        \"max\": 0.0059312184651692705,\n        \"num_unique_values\": 6,\n        \"samples\": [\n          0.0018185774485270183,\n          0.0059312184651692705,\n          0.000991503397623698\n        ],\n        \"semantic_type\": \"\",\n        \"description\": \"\"\n      }\n    },\n    {\n      \"column\": \"std_fit_time\",\n      \"properties\": {\n        \"dtype\": \"number\",\n        \"std\": 0.002272604712417115,\n        \"min\": 5.11474383980563e-06,\n        \"max\": 0.004737735770288611,\n        \"num_unique_values\": 6,\n        \"samples\": [\n          0.0002614338690204795,\n          0.004185503557562756,\n          1.414572254290682e-05\n        ],\n        \"semantic_type\": \"\",\n        \"description\": \"\"\n      }\n    },\n    {\n      \"column\": \"mean_score_time\",\n      \"properties\": {\n        \"dtype\": \"number\",\n        \"std\": 0.002656993462099678,\n        \"min\": 0.0007809003194173177,\n        \"max\": 0.0075185298919677734,\n        \"num_unique_values\": 6,\n        \"samples\": [\n          0.0011801719665527344,\n          0.0075185298919677734,\n          0.0007809003194173177\n        ],\n        \"semantic_type\": \"\",\n        \"description\": \"\"\n      }\n    },\n    {\n      \"column\": \"std_score_time\",\n      \"properties\": {\n        \"dtype\": \"number\",\n        \"std\": 0.0023700208612219497,\n        \"min\": 1.2889802069648426e-05,\n        \"max\": 0.0059666317727019936,\n        \"num_unique_values\": 6,\n        \"samples\": [\n          0.00011641029752379688,\n          0.0059666317727019936,\n          3.7969900139864e-05\n        ],\n        \"semantic_type\": \"\",\n        \"description\": \"\"\n      }\n    },\n    {\n      \"column\": \"param_max_depth\",\n      \"properties\": {\n        \"dtype\": \"date\",\n        \"min\": 1,\n        \"max\": 3,\n        \"num_unique_values\": 3,\n        \"samples\": [\n          1,\n          2,\n          3\n        ],\n        \"semantic_type\": \"\",\n        \"description\": \"\"\n      }\n    },\n    {\n      \"column\": \"param_min_samples_split\",\n      \"properties\": {\n        \"dtype\": \"date\",\n        \"min\": 2,\n        \"max\": 3,\n        \"num_unique_values\": 2,\n        \"samples\": [\n          3,\n          2\n        ],\n        \"semantic_type\": \"\",\n        \"description\": \"\"\n      }\n    },\n    {\n      \"column\": \"params\",\n      \"properties\": {\n        \"dtype\": \"object\",\n        \"semantic_type\": \"\",\n        \"description\": \"\"\n      }\n    },\n    {\n      \"column\": \"split0_test_score\",\n      \"properties\": {\n        \"dtype\": \"number\",\n        \"std\": 0.17464249196572978,\n        \"min\": 0.65,\n        \"max\": 1.0,\n        \"num_unique_values\": 3,\n        \"samples\": [\n          0.65,\n          0.975\n        ],\n        \"semantic_type\": \"\",\n        \"description\": \"\"\n      }\n    },\n    {\n      \"column\": \"split1_test_score\",\n      \"properties\": {\n        \"dtype\": \"number\",\n        \"std\": 0.14200938936093857,\n        \"min\": 0.675,\n        \"max\": 0.95,\n        \"num_unique_values\": 2,\n        \"samples\": [\n          0.95,\n          0.675\n        ],\n        \"semantic_type\": \"\",\n        \"description\": \"\"\n      }\n    },\n    {\n      \"column\": \"split2_test_score\",\n      \"properties\": {\n        \"dtype\": \"number\",\n        \"std\": 0.10327955589886444,\n        \"min\": 0.65,\n        \"max\": 0.85,\n        \"num_unique_values\": 2,\n        \"samples\": [\n          0.85,\n          0.65\n        ],\n        \"semantic_type\": \"\",\n        \"description\": \"\"\n      }\n    },\n    {\n      \"column\": \"mean_test_score\",\n      \"properties\": {\n        \"dtype\": \"number\",\n        \"std\": 0.13990737676789622,\n        \"min\": 0.6583333333333333,\n        \"max\": 0.9333333333333332,\n        \"num_unique_values\": 3,\n        \"samples\": [\n          0.6583333333333333,\n          0.9249999999999999\n        ],\n        \"semantic_type\": \"\",\n        \"description\": \"\"\n      }\n    },\n    {\n      \"column\": \"std_test_score\",\n      \"properties\": {\n        \"dtype\": \"number\",\n        \"std\": 0.024249635642127728,\n        \"min\": 0.011785113019775804,\n        \"max\": 0.062360956446232366,\n        \"num_unique_values\": 3,\n        \"samples\": [\n          0.011785113019775804,\n          0.05400617248673217\n        ],\n        \"semantic_type\": \"\",\n        \"description\": \"\"\n      }\n    },\n    {\n      \"column\": \"rank_test_score\",\n      \"properties\": {\n        \"dtype\": \"int32\",\n        \"num_unique_values\": 3,\n        \"samples\": [\n          5,\n          3\n        ],\n        \"semantic_type\": \"\",\n        \"description\": \"\"\n      }\n    },\n    {\n      \"column\": \"split0_train_score\",\n      \"properties\": {\n        \"dtype\": \"number\",\n        \"std\": 0.1453444185374863,\n        \"min\": 0.675,\n        \"max\": 0.9625,\n        \"num_unique_values\": 3,\n        \"samples\": [\n          0.675,\n          0.95\n        ],\n        \"semantic_type\": \"\",\n        \"description\": \"\"\n      }\n    },\n    {\n      \"column\": \"split1_train_score\",\n      \"properties\": {\n        \"dtype\": \"number\",\n        \"std\": 0.16176114078067907,\n        \"min\": 0.6625,\n        \"max\": 0.9875,\n        \"num_unique_values\": 3,\n        \"samples\": [\n          0.6625,\n          0.9625\n        ],\n        \"semantic_type\": \"\",\n        \"description\": \"\"\n      }\n    },\n    {\n      \"column\": \"split2_train_score\",\n      \"properties\": {\n        \"dtype\": \"number\",\n        \"std\": 0.1613743060919757,\n        \"min\": 0.675,\n        \"max\": 0.9875,\n        \"num_unique_values\": 2,\n        \"samples\": [\n          0.9875,\n          0.675\n        ],\n        \"semantic_type\": \"\",\n        \"description\": \"\"\n      }\n    },\n    {\n      \"column\": \"mean_train_score\",\n      \"properties\": {\n        \"dtype\": \"number\",\n        \"std\": 0.15609529378152542,\n        \"min\": 0.6708333333333334,\n        \"max\": 0.9791666666666666,\n        \"num_unique_values\": 3,\n        \"samples\": [\n          0.6708333333333334,\n          0.9666666666666668\n        ],\n        \"semantic_type\": \"\",\n        \"description\": \"\"\n      }\n    },\n    {\n      \"column\": \"std_train_score\",\n      \"properties\": {\n        \"dtype\": \"number\",\n        \"std\": 0.004370297543483302,\n        \"min\": 0.005892556509887928,\n        \"max\": 0.015590239111558123,\n        \"num_unique_values\": 3,\n        \"samples\": [\n          0.005892556509887928,\n          0.015590239111558123\n        ],\n        \"semantic_type\": \"\",\n        \"description\": \"\"\n      }\n    }\n  ]\n}"
            }
          },
          "metadata": {},
          "execution_count": 87
        }
      ]
    },
    {
      "cell_type": "code",
      "source": [
        "print(\"GridSearchCV 최적 하이퍼 파라미터 : {}\".format(grid_dt_clf.best_params_))\n",
        "print(\"GridSearchCV 최고 정확도 : {:.4f}\".format(grid_dt_clf.best_score_)) # valid 세트에서의 최고 정확도"
      ],
      "metadata": {
        "colab": {
          "base_uri": "https://localhost:8080/"
        },
        "id": "A4GvNX-VWgiQ",
        "outputId": "54663aee-f8ef-408f-b5cd-ffd19ae0411e"
      },
      "execution_count": null,
      "outputs": [
        {
          "output_type": "stream",
          "name": "stdout",
          "text": [
            "GridSearchCV 최적 하이퍼 파라미터 : {'max_depth': 3, 'min_samples_split': 2}\n",
            "GridSearchCV 최고 정확도 : 0.9333\n"
          ]
        }
      ]
    },
    {
      "cell_type": "code",
      "source": [
        "\n",
        "# 최고의 결과를 냈었던 추정기(Estimator)로 예측\n",
        "pred = grid_dt_clf.predict(X_test)\n",
        "\n",
        "print(\"테스트 세트의 정확도 : {:.4f}\".format(accuracy_score(y_test, pred)))"
      ],
      "metadata": {
        "colab": {
          "base_uri": "https://localhost:8080/"
        },
        "id": "WxUG8vT8Xw03",
        "outputId": "4d5e08fa-3427-4594-ec5b-5bcc5e89e0ad"
      },
      "execution_count": null,
      "outputs": [
        {
          "output_type": "stream",
          "name": "stdout",
          "text": [
            "테스트 세트의 정확도 : 0.9667\n"
          ]
        }
      ]
    },
    {
      "cell_type": "code",
      "source": [
        "# 학습이 오나료된 최고 성능의 모델 객체 얻어내기\n",
        "\n",
        "best_dt_clf = grid_dt_clf.best_estimator_\n",
        "best_dt_clf"
      ],
      "metadata": {
        "colab": {
          "base_uri": "https://localhost:8080/",
          "height": 74
        },
        "id": "ZtJqrIeIYMXu",
        "outputId": "8ec56f73-fc18-4baa-e83c-63517cf62a2c"
      },
      "execution_count": null,
      "outputs": [
        {
          "output_type": "execute_result",
          "data": {
            "text/plain": [
              "DecisionTreeClassifier(max_depth=3)"
            ],
            "text/html": [
              "<style>#sk-container-id-6 {color: black;background-color: white;}#sk-container-id-6 pre{padding: 0;}#sk-container-id-6 div.sk-toggleable {background-color: white;}#sk-container-id-6 label.sk-toggleable__label {cursor: pointer;display: block;width: 100%;margin-bottom: 0;padding: 0.3em;box-sizing: border-box;text-align: center;}#sk-container-id-6 label.sk-toggleable__label-arrow:before {content: \"▸\";float: left;margin-right: 0.25em;color: #696969;}#sk-container-id-6 label.sk-toggleable__label-arrow:hover:before {color: black;}#sk-container-id-6 div.sk-estimator:hover label.sk-toggleable__label-arrow:before {color: black;}#sk-container-id-6 div.sk-toggleable__content {max-height: 0;max-width: 0;overflow: hidden;text-align: left;background-color: #f0f8ff;}#sk-container-id-6 div.sk-toggleable__content pre {margin: 0.2em;color: black;border-radius: 0.25em;background-color: #f0f8ff;}#sk-container-id-6 input.sk-toggleable__control:checked~div.sk-toggleable__content {max-height: 200px;max-width: 100%;overflow: auto;}#sk-container-id-6 input.sk-toggleable__control:checked~label.sk-toggleable__label-arrow:before {content: \"▾\";}#sk-container-id-6 div.sk-estimator input.sk-toggleable__control:checked~label.sk-toggleable__label {background-color: #d4ebff;}#sk-container-id-6 div.sk-label input.sk-toggleable__control:checked~label.sk-toggleable__label {background-color: #d4ebff;}#sk-container-id-6 input.sk-hidden--visually {border: 0;clip: rect(1px 1px 1px 1px);clip: rect(1px, 1px, 1px, 1px);height: 1px;margin: -1px;overflow: hidden;padding: 0;position: absolute;width: 1px;}#sk-container-id-6 div.sk-estimator {font-family: monospace;background-color: #f0f8ff;border: 1px dotted black;border-radius: 0.25em;box-sizing: border-box;margin-bottom: 0.5em;}#sk-container-id-6 div.sk-estimator:hover {background-color: #d4ebff;}#sk-container-id-6 div.sk-parallel-item::after {content: \"\";width: 100%;border-bottom: 1px solid gray;flex-grow: 1;}#sk-container-id-6 div.sk-label:hover label.sk-toggleable__label {background-color: #d4ebff;}#sk-container-id-6 div.sk-serial::before {content: \"\";position: absolute;border-left: 1px solid gray;box-sizing: border-box;top: 0;bottom: 0;left: 50%;z-index: 0;}#sk-container-id-6 div.sk-serial {display: flex;flex-direction: column;align-items: center;background-color: white;padding-right: 0.2em;padding-left: 0.2em;position: relative;}#sk-container-id-6 div.sk-item {position: relative;z-index: 1;}#sk-container-id-6 div.sk-parallel {display: flex;align-items: stretch;justify-content: center;background-color: white;position: relative;}#sk-container-id-6 div.sk-item::before, #sk-container-id-6 div.sk-parallel-item::before {content: \"\";position: absolute;border-left: 1px solid gray;box-sizing: border-box;top: 0;bottom: 0;left: 50%;z-index: -1;}#sk-container-id-6 div.sk-parallel-item {display: flex;flex-direction: column;z-index: 1;position: relative;background-color: white;}#sk-container-id-6 div.sk-parallel-item:first-child::after {align-self: flex-end;width: 50%;}#sk-container-id-6 div.sk-parallel-item:last-child::after {align-self: flex-start;width: 50%;}#sk-container-id-6 div.sk-parallel-item:only-child::after {width: 0;}#sk-container-id-6 div.sk-dashed-wrapped {border: 1px dashed gray;margin: 0 0.4em 0.5em 0.4em;box-sizing: border-box;padding-bottom: 0.4em;background-color: white;}#sk-container-id-6 div.sk-label label {font-family: monospace;font-weight: bold;display: inline-block;line-height: 1.2em;}#sk-container-id-6 div.sk-label-container {text-align: center;}#sk-container-id-6 div.sk-container {/* jupyter's `normalize.less` sets `[hidden] { display: none; }` but bootstrap.min.css set `[hidden] { display: none !important; }` so we also need the `!important` here to be able to override the default hidden behavior on the sphinx rendered scikit-learn.org. See: https://github.com/scikit-learn/scikit-learn/issues/21755 */display: inline-block !important;position: relative;}#sk-container-id-6 div.sk-text-repr-fallback {display: none;}</style><div id=\"sk-container-id-6\" class=\"sk-top-container\"><div class=\"sk-text-repr-fallback\"><pre>DecisionTreeClassifier(max_depth=3)</pre><b>In a Jupyter environment, please rerun this cell to show the HTML representation or trust the notebook. <br />On GitHub, the HTML representation is unable to render, please try loading this page with nbviewer.org.</b></div><div class=\"sk-container\" hidden><div class=\"sk-item\"><div class=\"sk-estimator sk-toggleable\"><input class=\"sk-toggleable__control sk-hidden--visually\" id=\"sk-estimator-id-14\" type=\"checkbox\" checked><label for=\"sk-estimator-id-14\" class=\"sk-toggleable__label sk-toggleable__label-arrow\">DecisionTreeClassifier</label><div class=\"sk-toggleable__content\"><pre>DecisionTreeClassifier(max_depth=3)</pre></div></div></div></div></div>"
            ]
          },
          "metadata": {},
          "execution_count": 90
        }
      ]
    },
    {
      "cell_type": "code",
      "source": [
        "# 최고의 결과를 냈었던 추정기(Estimator)로 예측\n",
        "pred = grid_dt_clf.predict(X_test)\n",
        "\n",
        "print(\"테스트 세트의 정확도 : {:.4f}\".format(accuracy_score(y_test, pred)))"
      ],
      "metadata": {
        "colab": {
          "base_uri": "https://localhost:8080/"
        },
        "id": "bu6-PFyYYqrT",
        "outputId": "96ccb1e3-6184-44cb-ab59-b9041c5b820f"
      },
      "execution_count": null,
      "outputs": [
        {
          "output_type": "stream",
          "name": "stdout",
          "text": [
            "테스트 세트의 정확도 : 0.9667\n"
          ]
        }
      ]
    },
    {
      "cell_type": "code",
      "source": [],
      "metadata": {
        "id": "Wqgg_O0SYxwC"
      },
      "execution_count": null,
      "outputs": []
    }
  ]
}