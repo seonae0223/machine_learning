{
  "nbformat": 4,
  "nbformat_minor": 0,
  "metadata": {
    "colab": {
      "provenance": [],
      "authorship_tag": "ABX9TyNr31XSMWrohjZVPb0PMuhg",
      "include_colab_link": true
    },
    "kernelspec": {
      "name": "python3",
      "display_name": "Python 3"
    },
    "language_info": {
      "name": "python"
    }
  },
  "cells": [
    {
      "cell_type": "markdown",
      "metadata": {
        "id": "view-in-github",
        "colab_type": "text"
      },
      "source": [
        "<a href=\"https://colab.research.google.com/github/seonae0223/machine_learning/blob/main/01_%ED%8A%B9%EC%84%B1_%EC%9E%90%EB%8F%99_%EC%84%A0%ED%83%9D_%EA%B8%B0%EB%B2%95.ipynb\" target=\"_parent\"><img src=\"https://colab.research.google.com/assets/colab-badge.svg\" alt=\"Open In Colab\"/></a>"
      ]
    },
    {
      "cell_type": "markdown",
      "source": [
        "# 특성 선택\n",
        "* 여러 변환 과정을 거치다 보면 필요 이상으로 필요 없는 특성들이 추가적으로 생길 수도 있다.\n",
        "* 원본 데이터 세트를 가지고 왔는데, 노이즈 데이터가 많을 수도 있다.\n",
        "* 비즈니스 전문가가 없다면? 엔지니어가 직접 데이터를 **정제**해야 하는 일들이 생김\n",
        "  * 어떠한 데이터가 좋은 데이터이고, 어떠한 데이터가 나쁜 데이터인가?\n"
      ],
      "metadata": {
        "id": "x3QpgLjET2FQ"
      }
    },
    {
      "cell_type": "markdown",
      "source": [
        "# 특성 자동 선택\n",
        "* 일변량 통계 : Unvariable statistics\n",
        "* 모델 기반 선택 : model-based Selection\n",
        "* 반복적 선택 : Iterative Selection"
      ],
      "metadata": {
        "id": "YeIVktzSUCNu"
      }
    },
    {
      "cell_type": "markdown",
      "source": [
        "## 데이터 준비"
      ],
      "metadata": {
        "id": "8Y7mYZQcVvdn"
      }
    },
    {
      "cell_type": "code",
      "source": [
        "import matplotlib.pyplot as plt\n",
        "from sklearn.datasets import load_breast_cancer\n",
        "from sklearn.feature_selection import SelectPercentile\n",
        "import numpy as np\n",
        "\n",
        "cancer = load_breast_cancer()\n",
        "\n",
        "# 난수 발생 -> 노이즈 데이터를 일부러 추가\n",
        "np.random.seed(42)\n",
        "noise = np.random.randn(len(cancer['data']), 50) #노이즈 데이터 50개\n",
        "\n",
        "cancer['data'].shape, noise.shape"
      ],
      "metadata": {
        "colab": {
          "base_uri": "https://localhost:8080/"
        },
        "id": "1BdMsfMEUNwA",
        "outputId": "0393bcff-0b74-40fd-8c25-fdf369b98734"
      },
      "execution_count": 1,
      "outputs": [
        {
          "output_type": "execute_result",
          "data": {
            "text/plain": [
              "((569, 30), (569, 50))"
            ]
          },
          "metadata": {},
          "execution_count": 1
        }
      ]
    },
    {
      "cell_type": "code",
      "source": [
        "# 정상 데이터 30개 + 노이즈 데이터 50개 합치기\n",
        "\n",
        "X_w_noise = np.hstack([cancer['data'], noise]) #수평 방향으로 정상 데이터의 열 30 개 + 노이즈 데이터의 열 50개 를 수평 방향으로 합침\n",
        "                                              #수평 방향으로 합치면, 30개 + 50개 일렬로 합치므로 총 80개의 데이터 생성\n",
        "X_w_noise.shape\n"
      ],
      "metadata": {
        "colab": {
          "base_uri": "https://localhost:8080/"
        },
        "id": "vPQWFn1SUgQ3",
        "outputId": "5abc74d5-4d17-4162-bef7-60c8a497086f"
      },
      "execution_count": 2,
      "outputs": [
        {
          "output_type": "execute_result",
          "data": {
            "text/plain": [
              "(569, 80)"
            ]
          },
          "metadata": {},
          "execution_count": 2
        }
      ]
    },
    {
      "cell_type": "code",
      "source": [
        "from sklearn.model_selection import train_test_split\n",
        "\n",
        "X_train, X_test, y_train, y_test = train_test_split(\n",
        "    X_w_noise,\n",
        "    cancer['target'],\n",
        "    random_state=0,\n",
        "    test_size=.5 #test_size는 0.5로 설정\n",
        ")"
      ],
      "metadata": {
        "id": "_j5z3RUKVU-J"
      },
      "execution_count": 3,
      "outputs": []
    },
    {
      "cell_type": "markdown",
      "source": [
        "## 일변량 통계\n",
        "* 각각의 특성과 타깃 사이에 중요한 통계적 관계가 있는지를 계산한다.\n",
        "* 깊게 연관되어 있는 특성을 선택한다.\n",
        "* 분류에서는 **분산 분석**이라고 한다.\n",
        "* 각 특성이 독립적으로 평가 - **일변량**\n",
        "* 다른 특성과 깊게 연관된 특성은 선택이 안될 가능이 크다.\n",
        "\n",
        "----\n",
        "> 지지도 : 타깃이 특성을 얼마나 지지하는가에 대한 점수(p-값)\n",
        "\n",
        "* SelectKBest - 지지도가 좋은 K개의 특성만 사용하기\n",
        "* SelectPercentile - 지정된 비율만큼 특성을 선택\n"
      ],
      "metadata": {
        "id": "9ULRPxueUNTO"
      }
    },
    {
      "cell_type": "code",
      "source": [
        "from sklearn.feature_selection import SelectPercentile\n",
        "\n",
        "select = SelectPercentile(percentile=50) # 50%의 데이터만 사용. 최고의 상황: 원래 데이터 + 노이즈 10개\n",
        "X_train_selected = select.fit_transform(X_train, y_train)\n",
        "\n",
        "X_train.shape, X_train_selected.shape #X_train_selected.shape -> Feature가 절반으로 줄어들음"
      ],
      "metadata": {
        "colab": {
          "base_uri": "https://localhost:8080/"
        },
        "id": "CkFfkbsmWFXm",
        "outputId": "221fda34-9476-4202-81fb-6364f1770d3c"
      },
      "execution_count": 5,
      "outputs": [
        {
          "output_type": "execute_result",
          "data": {
            "text/plain": [
              "((284, 80), (284, 40))"
            ]
          },
          "metadata": {},
          "execution_count": 5
        }
      ]
    },
    {
      "cell_type": "markdown",
      "source": [
        "`get_support()` 함수를 활용하여 어떤 특징이 선택 되었는지 알 수 있다."
      ],
      "metadata": {
        "id": "FGNty5FmWzpn"
      }
    },
    {
      "cell_type": "code",
      "source": [
        "mask = select.get_support()\n",
        "mask"
      ],
      "metadata": {
        "colab": {
          "base_uri": "https://localhost:8080/"
        },
        "id": "0iwxNjChWnrn",
        "outputId": "3b2fca5f-f08f-47c8-d46f-08a6000a4c05"
      },
      "execution_count": 7,
      "outputs": [
        {
          "output_type": "execute_result",
          "data": {
            "text/plain": [
              "array([ True,  True,  True,  True,  True,  True,  True,  True,  True,\n",
              "       False,  True, False,  True,  True,  True,  True,  True,  True,\n",
              "       False, False,  True,  True,  True,  True,  True,  True,  True,\n",
              "        True,  True,  True, False, False, False,  True, False,  True,\n",
              "       False, False,  True, False, False, False, False,  True, False,\n",
              "       False,  True, False, False,  True, False,  True, False, False,\n",
              "       False, False, False, False,  True, False,  True, False, False,\n",
              "       False, False,  True, False,  True, False, False, False, False,\n",
              "        True,  True, False,  True, False, False, False, False])"
            ]
          },
          "metadata": {},
          "execution_count": 7
        }
      ]
    },
    {
      "cell_type": "code",
      "source": [
        "def selected_visualization(selected_mask):\n",
        "  plt.matshow(selected_mask.reshape(1, -1), cmap='gray_r')\n",
        "  plt.xlabel(\"Feature Number\")\n",
        "  plt.yticks([0])\n",
        "  plt.show()"
      ],
      "metadata": {
        "id": "7TPHE6kqW7qX"
      },
      "execution_count": 8,
      "outputs": []
    },
    {
      "cell_type": "code",
      "source": [
        "selected_visualization(mask)"
      ],
      "metadata": {
        "colab": {
          "base_uri": "https://localhost:8080/",
          "height": 89
        },
        "id": "qWj8LK6TXK6_",
        "outputId": "e142690e-4580-4c93-b39a-0b4b2fe854ca"
      },
      "execution_count": 9,
      "outputs": [
        {
          "output_type": "display_data",
          "data": {
            "text/plain": [
              "<Figure size 1600x200 with 1 Axes>"
            ],
            "image/png": "[encoded data removed]"
          },
          "metadata": {}
        }
      ]
    },
    {
      "cell_type": "markdown",
      "source": [
        "# 모델 기반 특성 선택\n",
        "* 지도학습 머신러닝 모델을 이용해서 **특성의 중요도를 평가**해서 가장 중요한 특성만 선택\n",
        "* 특성 선택을 위해 사용하는 머신러닝 모델을 **최종적으로 사용할 지도학습 모델과 같을 필요는 없다.**\n",
        "* 결정 트리 같은 트리 기반 알고리즘에는 `feature_importance`특성을 활용해 중요도를 판단할 수 있다."
      ],
      "metadata": {
        "id": "mDucgw0qXcwQ"
      }
    },
    {
      "cell_type": "code",
      "source": [
        "from sklearn.feature_selection import SelectFromModel\n",
        "from sklearn.ensemble import RandomForestClassifier\n",
        "\n",
        "select = SelectFromModel(\n",
        "    # 이 모델의 목적은 특성 중요도를 구하는데 목적이 있다.\n",
        "    RandomForestClassifier(n_estimators=100, random_state=42),\n",
        "    threshold=\"median\" # 절반만 쓰겠다.\n",
        "\n",
        "  )\n",
        "\n",
        "select.fit(X_train, y_train)"
      ],
      "metadata": {
        "colab": {
          "base_uri": "https://localhost:8080/",
          "height": 116
        },
        "id": "EW5FwXzkXaHG",
        "outputId": "d8b5d9d0-4628-48f6-8be6-fd0caa23ebe9"
      },
      "execution_count": 14,
      "outputs": [
        {
          "output_type": "execute_result",
          "data": {
            "text/plain": [
              "SelectFromModel(estimator=RandomForestClassifier(random_state=42),\n",
              "                threshold='median')"
            ],
            "text/html": [
              "<style>#sk-container-id-1 {color: black;}#sk-container-id-1 pre{padding: 0;}#sk-container-id-1 div.sk-toggleable {background-color: white;}#sk-container-id-1 label.sk-toggleable__label {cursor: pointer;display: block;width: 100%;margin-bottom: 0;padding: 0.3em;box-sizing: border-box;text-align: center;}#sk-container-id-1 label.sk-toggleable__label-arrow:before {content: \"▸\";float: left;margin-right: 0.25em;color: #696969;}#sk-container-id-1 label.sk-toggleable__label-arrow:hover:before {color: black;}#sk-container-id-1 div.sk-estimator:hover label.sk-toggleable__label-arrow:before {color: black;}#sk-container-id-1 div.sk-toggleable__content {max-height: 0;max-width: 0;overflow: hidden;text-align: left;background-color: #f0f8ff;}#sk-container-id-1 div.sk-toggleable__content pre {margin: 0.2em;color: black;border-radius: 0.25em;background-color: #f0f8ff;}#sk-container-id-1 input.sk-toggleable__control:checked~div.sk-toggleable__content {max-height: 200px;max-width: 100%;overflow: auto;}#sk-container-id-1 input.sk-toggleable__control:checked~label.sk-toggleable__label-arrow:before {content: \"▾\";}#sk-container-id-1 div.sk-estimator input.sk-toggleable__control:checked~label.sk-toggleable__label {background-color: #d4ebff;}#sk-container-id-1 div.sk-label input.sk-toggleable__control:checked~label.sk-toggleable__label {background-color: #d4ebff;}#sk-container-id-1 input.sk-hidden--visually {border: 0;clip: rect(1px 1px 1px 1px);clip: rect(1px, 1px, 1px, 1px);height: 1px;margin: -1px;overflow: hidden;padding: 0;position: absolute;width: 1px;}#sk-container-id-1 div.sk-estimator {font-family: monospace;background-color: #f0f8ff;border: 1px dotted black;border-radius: 0.25em;box-sizing: border-box;margin-bottom: 0.5em;}#sk-container-id-1 div.sk-estimator:hover {background-color: #d4ebff;}#sk-container-id-1 div.sk-parallel-item::after {content: \"\";width: 100%;border-bottom: 1px solid gray;flex-grow: 1;}#sk-container-id-1 div.sk-label:hover label.sk-toggleable__label {background-color: #d4ebff;}#sk-container-id-1 div.sk-serial::before {content: \"\";position: absolute;border-left: 1px solid gray;box-sizing: border-box;top: 0;bottom: 0;left: 50%;z-index: 0;}#sk-container-id-1 div.sk-serial {display: flex;flex-direction: column;align-items: center;background-color: white;padding-right: 0.2em;padding-left: 0.2em;position: relative;}#sk-container-id-1 div.sk-item {position: relative;z-index: 1;}#sk-container-id-1 div.sk-parallel {display: flex;align-items: stretch;justify-content: center;background-color: white;position: relative;}#sk-container-id-1 div.sk-item::before, #sk-container-id-1 div.sk-parallel-item::before {content: \"\";position: absolute;border-left: 1px solid gray;box-sizing: border-box;top: 0;bottom: 0;left: 50%;z-index: -1;}#sk-container-id-1 div.sk-parallel-item {display: flex;flex-direction: column;z-index: 1;position: relative;background-color: white;}#sk-container-id-1 div.sk-parallel-item:first-child::after {align-self: flex-end;width: 50%;}#sk-container-id-1 div.sk-parallel-item:last-child::after {align-self: flex-start;width: 50%;}#sk-container-id-1 div.sk-parallel-item:only-child::after {width: 0;}#sk-container-id-1 div.sk-dashed-wrapped {border: 1px dashed gray;margin: 0 0.4em 0.5em 0.4em;box-sizing: border-box;padding-bottom: 0.4em;background-color: white;}#sk-container-id-1 div.sk-label label {font-family: monospace;font-weight: bold;display: inline-block;line-height: 1.2em;}#sk-container-id-1 div.sk-label-container {text-align: center;}#sk-container-id-1 div.sk-container {/* jupyter's `normalize.less` sets `[hidden] { display: none; }` but bootstrap.min.css set `[hidden] { display: none !important; }` so we also need the `!important` here to be able to override the default hidden behavior on the sphinx rendered scikit-learn.org. See: https://github.com/scikit-learn/scikit-learn/issues/21755 */display: inline-block !important;position: relative;}#sk-container-id-1 div.sk-text-repr-fallback {display: none;}</style><div id=\"sk-container-id-1\" class=\"sk-top-container\"><div class=\"sk-text-repr-fallback\"><pre>SelectFromModel(estimator=RandomForestClassifier(random_state=42),\n",
              "                threshold=&#x27;median&#x27;)</pre><b>In a Jupyter environment, please rerun this cell to show the HTML representation or trust the notebook. <br />On GitHub, the HTML representation is unable to render, please try loading this page with nbviewer.org.</b></div><div class=\"sk-container\" hidden><div class=\"sk-item sk-dashed-wrapped\"><div class=\"sk-label-container\"><div class=\"sk-label sk-toggleable\"><input class=\"sk-toggleable__control sk-hidden--visually\" id=\"sk-estimator-id-1\" type=\"checkbox\" ><label for=\"sk-estimator-id-1\" class=\"sk-toggleable__label sk-toggleable__label-arrow\">SelectFromModel</label><div class=\"sk-toggleable__content\"><pre>SelectFromModel(estimator=RandomForestClassifier(random_state=42),\n",
              "                threshold=&#x27;median&#x27;)</pre></div></div></div><div class=\"sk-parallel\"><div class=\"sk-parallel-item\"><div class=\"sk-item\"><div class=\"sk-label-container\"><div class=\"sk-label sk-toggleable\"><input class=\"sk-toggleable__control sk-hidden--visually\" id=\"sk-estimator-id-2\" type=\"checkbox\" ><label for=\"sk-estimator-id-2\" class=\"sk-toggleable__label sk-toggleable__label-arrow\">estimator: RandomForestClassifier</label><div class=\"sk-toggleable__content\"><pre>RandomForestClassifier(random_state=42)</pre></div></div></div><div class=\"sk-serial\"><div class=\"sk-item\"><div class=\"sk-estimator sk-toggleable\"><input class=\"sk-toggleable__control sk-hidden--visually\" id=\"sk-estimator-id-3\" type=\"checkbox\" ><label for=\"sk-estimator-id-3\" class=\"sk-toggleable__label sk-toggleable__label-arrow\">RandomForestClassifier</label><div class=\"sk-toggleable__content\"><pre>RandomForestClassifier(random_state=42)</pre></div></div></div></div></div></div></div></div></div></div>"
            ]
          },
          "metadata": {},
          "execution_count": 14
        }
      ]
    },
    {
      "cell_type": "code",
      "source": [
        "X_train_rf = select.transform(X_train)\n",
        "\n",
        "X_train.shape, X_train_rf.shape"
      ],
      "metadata": {
        "colab": {
          "base_uri": "https://localhost:8080/"
        },
        "id": "JEog0lHCX6HP",
        "outputId": "3e9fcc00-2fc8-4eee-bef0-3576e318dd68"
      },
      "execution_count": 17,
      "outputs": [
        {
          "output_type": "execute_result",
          "data": {
            "text/plain": [
              "((284, 80), (284, 40))"
            ]
          },
          "metadata": {},
          "execution_count": 17
        }
      ]
    },
    {
      "cell_type": "code",
      "source": [
        "mask = select.get_support()\n",
        "selected_visualization(mask) # 위의 시각화보다 빠진 곳이 4곳 -> 2곳으로 줄음 -> 조금 더 나은 것."
      ],
      "metadata": {
        "colab": {
          "base_uri": "https://localhost:8080/",
          "height": 89
        },
        "id": "1U-EMdU6Yuzj",
        "outputId": "c72a8ea9-c7c9-4ab4-8be5-781861146332"
      },
      "execution_count": 19,
      "outputs": [
        {
          "output_type": "display_data",
          "data": {
            "text/plain": [
              "<Figure size 1600x200 with 1 Axes>"
            ],
            "image/png": "[encoded data removed]"
          },
          "metadata": {}
        }
      ]
    },
    {
      "cell_type": "markdown",
      "source": [
        "# 반복적 특성 선택\n",
        "* 특성을 하나도 선택하지 않은 상태로 어떠한 종료 조건에 도달 할 때까지 특성을 하나씩 추가하는 기법\n",
        "* 모든 특성을 가지고 시작하여 어떤 종료 조건에 도달 할 때까지 특성을 하나씩 제거하는 방법 **보통 사용되는 방법**\n",
        "----\n",
        "* 일단 모델이 만들어지고 시작을 하기 때문에 일변량 분석, 모델 기반 선택보다 계산 비용이 훨씬 많이 든다.\n",
        "* **재귀적 특성 제거(Recursive Feature Elimination)** 일반적인 방법\n",
        "  * 모든 특성을 사용해서 모델을 만들고, **특성중요도**가 가장 낮은 특성을 하나 제거\n",
        "  * 제거 되지 않은 특성을 모두 사용해서 또 새로운 모델을 만들어서 테스트\n",
        "  * 이 과정을 반복"
      ],
      "metadata": {
        "id": "uC__PFqVZQdm"
      }
    },
    {
      "cell_type": "code",
      "source": [
        "from sklearn.feature_selection import RFE\n",
        "\n",
        "select = RFE(\n",
        "    RandomForestClassifier(n_estimators=100, random_state=42),\n",
        "    n_features_to_select = 40 # 종료 조건. feature가 40개가 될 때까지 재귀적으로 제거\n",
        ")\n",
        "\n",
        "select.fit(X_train, y_train)\n",
        "\n",
        "mask = select.get_support()\n",
        "selected_visualization(mask) # 위의 시각화보다 빠진 곳이 2곳 -> 1곳으로 줄음 -> 더욱 나은 것."
      ],
      "metadata": {
        "colab": {
          "base_uri": "https://localhost:8080/",
          "height": 89
        },
        "id": "NNApihFdY7Jj",
        "outputId": "3bf7debc-c5d1-424d-9495-d23b32c39f85"
      },
      "execution_count": 21,
      "outputs": [
        {
          "output_type": "display_data",
          "data": {
            "text/plain": [
              "<Figure size 1600x200 with 1 Axes>"
            ],
            "image/png": "[encoded data removed]"
          },
          "metadata": {}
        }
      ]
    },
    {
      "cell_type": "code",
      "source": [],
      "metadata": {
        "id": "eVHXEH3QaHxU"
      },
      "execution_count": null,
      "outputs": []
    }
  ]
}